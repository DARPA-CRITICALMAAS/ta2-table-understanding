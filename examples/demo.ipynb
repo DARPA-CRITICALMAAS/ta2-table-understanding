{
 "cells": [
  {
   "cell_type": "code",
   "execution_count": null,
   "metadata": {},
   "outputs": [],
   "source": [
    "import serde.csv, pandas as pd\n",
    "from pathlib import Path\n",
    "from tum.actors.entry import *\n",
    "from sm.namespaces.utils import KGName\n",
    "from sm.dataset import Dataset\n",
    "from tum.config import CRITICAL_MAAS_DIR"
   ]
  },
  {
   "cell_type": "markdown",
   "metadata": {},
   "source": [
    "### Generate candidate graph"
   ]
  },
  {
   "cell_type": "code",
   "execution_count": null,
   "metadata": {},
   "outputs": [],
   "source": [
    "actor = G.create_actor(\n",
    "    MinmodGraphInferenceActor,\n",
    "    [\n",
    "        DBActorArgs(\n",
    "            kgdbs=[\n",
    "                KGDBArgs(\n",
    "                    name=KGName.Generic,\n",
    "                    version=\"20231130\",\n",
    "                    datadir=CRITICAL_MAAS_DIR / \"data/databases\",\n",
    "                )\n",
    "            ]\n",
    "        ),\n",
    "        DataActorArgs(skip_unk_ont_ent=True, skip_no_sm=True),\n",
    "        MinmodGraphGenerationActorArgs(\n",
    "            train_dsquery=\"darpa-criticalmaas\",\n",
    "            meta_prop_file=CRITICAL_MAAS_DIR\n",
    "            / \"ta2-table-understanding/data/meta_property/data.csv\",\n",
    "            top_n_stypes=2,\n",
    "        ),\n",
    "        MinmodGraphInferenceActorArgs(),\n",
    "    ],\n",
    ")"
   ]
  },
  {
   "cell_type": "code",
   "execution_count": null,
   "metadata": {},
   "outputs": [],
   "source": [
    "test_exs = Dataset(CRITICAL_MAAS_DIR / \"ta2-table-understanding/examples\").load()"
   ]
  },
  {
   "cell_type": "code",
   "execution_count": null,
   "metadata": {},
   "outputs": [],
   "source": [
    "with actor.data_actor.use_examples(\n",
    "    \"darpa-criticalmaas\",\n",
    "    Dataset(CRITICAL_MAAS_DIR / \"ta2-table-understanding/data/known_models\").load(),\n",
    "    prefix=\"\",\n",
    "):\n",
    "    output = []\n",
    "    for test_ex in test_exs:\n",
    "        with actor.data_actor.use_example(\n",
    "            test_ex.id,\n",
    "            test_ex,\n",
    "        ) as testquery:\n",
    "            sm = actor(testquery)\n",
    "            output.append(sm[0])"
   ]
  },
  {
   "cell_type": "code",
   "execution_count": null,
   "metadata": {},
   "outputs": [],
   "source": [
    "for sm in output:\n",
    "    sm.draw()"
   ]
  }
 ],
 "metadata": {
  "kernelspec": {
   "display_name": ".venv",
   "language": "python",
   "name": "python3"
  },
  "language_info": {
   "codemirror_mode": {
    "name": "ipython",
    "version": 3
   },
   "file_extension": ".py",
   "mimetype": "text/x-python",
   "name": "python",
   "nbconvert_exporter": "python",
   "pygments_lexer": "ipython3",
   "version": "3.11.6"
  }
 },
 "nbformat": 4,
 "nbformat_minor": 2
}
