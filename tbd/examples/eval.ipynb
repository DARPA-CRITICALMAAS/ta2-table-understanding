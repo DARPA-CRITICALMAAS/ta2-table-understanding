{
 "cells": [
  {
   "cell_type": "code",
   "execution_count": 1,
   "metadata": {},
   "outputs": [],
   "source": [
    "from pathlib import Path\n",
    "\n",
    "import pandas as pd\n",
    "import serde.csv\n",
    "from rdflib import RDFS\n",
    "from sm.dataset import Dataset\n",
    "from sm.evaluation.cpa_cta_metrics import PrecisionRecallF1, cpa, cta\n",
    "from sm.namespaces.utils import KGName\n",
    "from tum.actors.entry import *\n",
    "from tum.config import CRITICAL_MAAS_DIR\n",
    "from tum.namespace import MNDRNamespace\n",
    "from tum.sm.dsl.main import save_training_data\n",
    "from sm.evaluation.sm_metrics import precision_recall_f1\n",
    "import tum.sm.dsl.main as dsl_main"
   ]
  },
  {
   "cell_type": "code",
   "execution_count": 2,
   "metadata": {},
   "outputs": [],
   "source": [
    "test_exs = Dataset(\n",
    "    CRITICAL_MAAS_DIR / \"ta2-table-understanding/data/training_set/minmod.zip\"\n",
    ").load()\n",
    "kgns = MNDRNamespace.create()\n",
    "\n",
    "version = 112\n",
    "output = []\n",
    "id_props = set([str(RDFS.label)])"
   ]
  },
  {
   "cell_type": "code",
   "execution_count": 3,
   "metadata": {},
   "outputs": [],
   "source": [
    "def predict(test_ex):\n",
    "    train_ds = f\"dsl-exclude-{test_ex.id}\"\n",
    "    train_exs = [ex for ex in test_exs if ex.id != test_ex.id]\n",
    "\n",
    "    save_training_data(train_ds, train_exs, kgns)\n",
    "\n",
    "    minmod_actor = G.create_actor(\n",
    "        MinmodTableTransformationActor,\n",
    "        [\n",
    "            DBActorArgs(\n",
    "                kgdbs=[\n",
    "                    KGDBArgs(\n",
    "                        name=KGName.Generic,\n",
    "                        version=\"20231130\",\n",
    "                        datadir=CRITICAL_MAAS_DIR / \"data/minmod/databases\",\n",
    "                    )\n",
    "                ]\n",
    "            ),\n",
    "            DataActorArgs(skip_unk_ont_ent=True, skip_no_sm=True),\n",
    "            MinmodGraphGenerationActorArgs(\n",
    "                # model=\"logistic-regression\",\n",
    "                model=\"random-forest-100\",\n",
    "                train_dsquery=train_ds,\n",
    "                top_n_stypes=2,\n",
    "            ),\n",
    "            MinmodGraphInferenceActorArgs(),\n",
    "        ],\n",
    "    )\n",
    "    graphinf_actor = minmod_actor.graphinfer_actor\n",
    "\n",
    "    sm = minmod_actor.graphinfer_actor(test_ex.table)\n",
    "    assert len(test_ex.sms) == 1\n",
    "\n",
    "    evalres = precision_recall_f1(test_ex.sms[0], sm)\n",
    "\n",
    "    print(\"Performance of\", test_ex.id)\n",
    "    print(evalres)\n",
    "\n",
    "    return (minmod_actor, sm, train_exs, evalres)"
   ]
  },
  {
   "cell_type": "code",
   "execution_count": 4,
   "metadata": {},
   "outputs": [
    {
     "name": "stderr",
     "output_type": "stream",
     "text": [
      "\u001b[32m2024-09-10 14:04:33.537\u001b[0m | \u001b[34m\u001b[1mDEBUG   \u001b[0m | \u001b[36mream.actor_graph\u001b[0m:\u001b[36mcreate_actor\u001b[0m:\u001b[36m274\u001b[0m - \u001b[34m\u001b[1mDetermine the actor to run...\u001b[0m\n",
      "\u001b[32m2024-09-10 14:04:33.537\u001b[0m | \u001b[34m\u001b[1mDEBUG   \u001b[0m | \u001b[36mream.actor_graph\u001b[0m:\u001b[36mcreate_actor\u001b[0m:\u001b[36m276\u001b[0m - \u001b[34m\u001b[1mInitializing argument parser...\u001b[0m\n",
      "\u001b[32m2024-09-10 14:04:33.538\u001b[0m | \u001b[34m\u001b[1mDEBUG   \u001b[0m | \u001b[36mream.actor_graph\u001b[0m:\u001b[36mcreate_actor\u001b[0m:\u001b[36m296\u001b[0m - \u001b[34m\u001b[1mConstructing the actor...\u001b[0m\n",
      "\u001b[32m2024-09-10 14:04:33.581\u001b[0m | \u001b[34m\u001b[1mDEBUG   \u001b[0m | \u001b[36mMinmodGraphGenerationActor\u001b[0m:\u001b[36mream.actors.base\u001b[0m:\u001b[36mget_working_fs\u001b[0m:\u001b[36m98\u001b[0m - \u001b[34m\u001b[1mUsing working directory: /Users/rook/workspace/darpa-criticalmaas/data/ream/MinmodGraphGenerationActor/v113/000\u001b[0m\n",
      "\u001b[32m2024-09-10 14:04:33.714\u001b[0m | \u001b[1mINFO    \u001b[0m | \u001b[36msm.misc.ray_helper\u001b[0m:\u001b[36mray_init\u001b[0m:\u001b[36m102\u001b[0m - \u001b[1mInitialize ray with args: {'log_to_driver': False}\u001b[0m\n",
      "2024-09-10 14:04:34,674\tINFO worker.py:1781 -- Started a local Ray instance.\n"
     ]
    },
    {
     "data": {
      "application/vnd.jupyter.widget-view+json": {
       "model_id": "f55038014bb24c96888bba065480766f",
       "version_major": 2,
       "version_minor": 0
      },
      "text/plain": [
       "Compute similarity matrix:   0%|          | 0/61 [00:00<?, ?it/s]"
      ]
     },
     "metadata": {},
     "output_type": "display_data"
    },
    {
     "name": "stderr",
     "output_type": "stream",
     "text": [
      "\u001b[32m2024-09-10 14:04:40.722\u001b[0m | \u001b[34m\u001b[1mDEBUG   \u001b[0m | \u001b[36mdsl.dsl\u001b[0m:\u001b[36mtrain_model\u001b[0m:\u001b[36m135\u001b[0m - \u001b[34m\u001b[1mPerformance:\u001b[0m\n",
      "\u001b[32m2024-09-10 14:04:40.746\u001b[0m | \u001b[34m\u001b[1mDEBUG   \u001b[0m | \u001b[36mdsl.dsl\u001b[0m:\u001b[36mtrain_model\u001b[0m:\u001b[36m149\u001b[0m - \u001b[34m\u001b[1mSave model...\u001b[0m\n",
      "\u001b[32m2024-09-10 14:04:40.893\u001b[0m | \u001b[1mINFO    \u001b[0m | \u001b[36mtum.sm.dsl.main\u001b[0m:\u001b[36mgen_can_graph\u001b[0m:\u001b[36m133\u001b[0m - \u001b[1mCandidate Graph with: 13 nodes and 23 edges\u001b[0m\n"
     ]
    },
    {
     "name": "stdout",
     "output_type": "stream",
     "text": [
      "              precision    recall  f1-score   support\n",
      "\n",
      "           0       1.00      1.00      1.00      1320\n",
      "           1       1.00      0.95      0.97        60\n",
      "\n",
      "    accuracy                           1.00      1380\n",
      "   macro avg       1.00      0.97      0.99      1380\n",
      "weighted avg       1.00      1.00      1.00      1380\n",
      "\n",
      "Performance of CMMI\n",
      "SmPrecisionRecallF1Output(precision=0.6666666666666666, recall=0.6666666666666666, f1=0.6666666666666666, bijection=<sm.evaluation.sm_metrics.PartialBijection object at 0x332367f40>, n_corrects=8.0, n_examples=12, n_predictions=12, gold_triples={NodeTriple(source_id=0, link_label='https://minmod.isi.edu/ontology-simple/row_index', target_id=2), NodeTriple(source_id=1, link_label='https://minmod.isi.edu/ontology-simple/commodity', target_id=11), NodeTriple(source_id=1, link_label='https://minmod.isi.edu/ontology-simple/resource_tonnage', target_id=10), NodeTriple(source_id=0, link_label='https://minmod.isi.edu/ontology-simple/mineral_inventory', target_id=1), NodeTriple(source_id=1, link_label='https://minmod.isi.edu/ontology-simple/grade', target_id=12), NodeTriple(source_id=0, link_label='http://www.w3.org/2000/01/rdf-schema#label', target_id=4), NodeTriple(source_id=0, link_label='https://minmod.isi.edu/ontology-simple/deposit_type', target_id=7), NodeTriple(source_id=0, link_label='https://minmod.isi.edu/ontology-simple/record_id', target_id=3), NodeTriple(source_id=0, link_label='https://minmod.isi.edu/ontology-simple/latitude', target_id=9), NodeTriple(source_id=0, link_label='https://minmod.isi.edu/ontology-simple/longitude', target_id=8), NodeTriple(source_id=0, link_label='https://minmod.isi.edu/ontology-simple/state_or_province', target_id=6), NodeTriple(source_id=0, link_label='https://minmod.isi.edu/ontology-simple/country', target_id=5)}, pred_triples={NodeTriple(source_id=0, link_label='https://minmod.isi.edu/ontology-simple/row_index', target_id=2), NodeTriple(source_id=1, link_label='https://minmod.isi.edu/ontology-simple/commodity', target_id=11), NodeTriple(source_id=1, link_label='https://minmod.isi.edu/ontology-simple/resource_tonnage', target_id=10), NodeTriple(source_id=0, link_label='https://minmod.isi.edu/ontology-simple/mineral_inventory', target_id=1), NodeTriple(source_id=1, link_label='https://minmod.isi.edu/ontology-simple/grade', target_id=9), NodeTriple(source_id=1, link_label='https://minmod.isi.edu/ontology-simple/grade', target_id=12), NodeTriple(source_id=0, link_label='http://www.w3.org/2000/01/rdf-schema#label', target_id=4), NodeTriple(source_id=1, link_label='https://minmod.isi.edu/ontology-simple/commodity', target_id=6), NodeTriple(source_id=0, link_label='https://minmod.isi.edu/ontology-simple/deposit_type', target_id=7), NodeTriple(source_id=1, link_label='https://minmod.isi.edu/ontology-simple/commodity', target_id=3), NodeTriple(source_id=1, link_label='https://minmod.isi.edu/ontology-simple/grade', target_id=8), NodeTriple(source_id=0, link_label='https://minmod.isi.edu/ontology-simple/country', target_id=5)})\n"
     ]
    },
    {
     "name": "stderr",
     "output_type": "stream",
     "text": [
      "\u001b[32m2024-09-10 14:04:40.942\u001b[0m | \u001b[34m\u001b[1mDEBUG   \u001b[0m | \u001b[36mream.actor_graph\u001b[0m:\u001b[36mcreate_actor\u001b[0m:\u001b[36m274\u001b[0m - \u001b[34m\u001b[1mDetermine the actor to run...\u001b[0m\n",
      "\u001b[32m2024-09-10 14:04:40.943\u001b[0m | \u001b[34m\u001b[1mDEBUG   \u001b[0m | \u001b[36mream.actor_graph\u001b[0m:\u001b[36mcreate_actor\u001b[0m:\u001b[36m276\u001b[0m - \u001b[34m\u001b[1mInitializing argument parser...\u001b[0m\n",
      "\u001b[32m2024-09-10 14:04:40.943\u001b[0m | \u001b[34m\u001b[1mDEBUG   \u001b[0m | \u001b[36mream.actor_graph\u001b[0m:\u001b[36mcreate_actor\u001b[0m:\u001b[36m296\u001b[0m - \u001b[34m\u001b[1mConstructing the actor...\u001b[0m\n",
      "\u001b[32m2024-09-10 14:04:40.985\u001b[0m | \u001b[34m\u001b[1mDEBUG   \u001b[0m | \u001b[36mMinmodGraphGenerationActor\u001b[0m:\u001b[36mream.actors.base\u001b[0m:\u001b[36mget_working_fs\u001b[0m:\u001b[36m98\u001b[0m - \u001b[34m\u001b[1mUsing working directory: /Users/rook/workspace/darpa-criticalmaas/data/ream/MinmodGraphGenerationActor/v113/001\u001b[0m\n"
     ]
    },
    {
     "data": {
      "application/vnd.jupyter.widget-view+json": {
       "model_id": "52ed15c1bda942ca991435587934df95",
       "version_major": 2,
       "version_minor": 0
      },
      "text/plain": [
       "Compute similarity matrix:   0%|          | 0/64 [00:00<?, ?it/s]"
      ]
     },
     "metadata": {},
     "output_type": "display_data"
    },
    {
     "name": "stderr",
     "output_type": "stream",
     "text": [
      "\u001b[32m2024-09-10 14:04:42.510\u001b[0m | \u001b[34m\u001b[1mDEBUG   \u001b[0m | \u001b[36mdsl.dsl\u001b[0m:\u001b[36mtrain_model\u001b[0m:\u001b[36m135\u001b[0m - \u001b[34m\u001b[1mPerformance:\u001b[0m\n",
      "\u001b[32m2024-09-10 14:04:42.532\u001b[0m | \u001b[34m\u001b[1mDEBUG   \u001b[0m | \u001b[36mdsl.dsl\u001b[0m:\u001b[36mtrain_model\u001b[0m:\u001b[36m149\u001b[0m - \u001b[34m\u001b[1mSave model...\u001b[0m\n"
     ]
    },
    {
     "name": "stdout",
     "output_type": "stream",
     "text": [
      "              precision    recall  f1-score   support\n",
      "\n",
      "           0       1.00      1.00      1.00      1386\n",
      "           1       0.97      0.97      0.97        63\n",
      "\n",
      "    accuracy                           1.00      1449\n",
      "   macro avg       0.98      0.98      0.98      1449\n",
      "weighted avg       1.00      1.00      1.00      1449\n",
      "\n"
     ]
    },
    {
     "name": "stderr",
     "output_type": "stream",
     "text": [
      "\u001b[32m2024-09-10 14:04:42.965\u001b[0m | \u001b[1mINFO    \u001b[0m | \u001b[36mtum.sm.dsl.main\u001b[0m:\u001b[36mgen_can_graph\u001b[0m:\u001b[36m133\u001b[0m - \u001b[1mCandidate Graph with: 10 nodes and 17 edges\u001b[0m\n",
      "\u001b[32m2024-09-10 14:04:42.994\u001b[0m | \u001b[34m\u001b[1mDEBUG   \u001b[0m | \u001b[36mream.actor_graph\u001b[0m:\u001b[36mcreate_actor\u001b[0m:\u001b[36m274\u001b[0m - \u001b[34m\u001b[1mDetermine the actor to run...\u001b[0m\n",
      "\u001b[32m2024-09-10 14:04:42.994\u001b[0m | \u001b[34m\u001b[1mDEBUG   \u001b[0m | \u001b[36mream.actor_graph\u001b[0m:\u001b[36mcreate_actor\u001b[0m:\u001b[36m276\u001b[0m - \u001b[34m\u001b[1mInitializing argument parser...\u001b[0m\n",
      "\u001b[32m2024-09-10 14:04:42.995\u001b[0m | \u001b[34m\u001b[1mDEBUG   \u001b[0m | \u001b[36mream.actor_graph\u001b[0m:\u001b[36mcreate_actor\u001b[0m:\u001b[36m296\u001b[0m - \u001b[34m\u001b[1mConstructing the actor...\u001b[0m\n",
      "\u001b[32m2024-09-10 14:04:43.034\u001b[0m | \u001b[34m\u001b[1mDEBUG   \u001b[0m | \u001b[36mMinmodGraphGenerationActor\u001b[0m:\u001b[36mream.actors.base\u001b[0m:\u001b[36mget_working_fs\u001b[0m:\u001b[36m98\u001b[0m - \u001b[34m\u001b[1mUsing working directory: /Users/rook/workspace/darpa-criticalmaas/data/ream/MinmodGraphGenerationActor/v113/002\u001b[0m\n"
     ]
    },
    {
     "name": "stdout",
     "output_type": "stream",
     "text": [
      "Performance of Mudd-and-Jowitt-2017-Zinc\n",
      "SmPrecisionRecallF1Output(precision=1.0, recall=1.0, f1=1.0, bijection=<sm.evaluation.sm_metrics.PartialBijection object at 0x3b57de1a0>, n_corrects=9.0, n_examples=9, n_predictions=9, gold_triples={NodeTriple(source_id=1, link_label='https://minmod.isi.edu/ontology-simple/resource_tonnage', target_id=7), NodeTriple(source_id=0, link_label='http://www.w3.org/2000/01/rdf-schema#label', target_id=3), NodeTriple(source_id=0, link_label='https://minmod.isi.edu/ontology-simple/deposit_type', target_id=6), NodeTriple(source_id=0, link_label='https://minmod.isi.edu/ontology-simple/mineral_inventory', target_id=1), NodeTriple(source_id=0, link_label='https://minmod.isi.edu/ontology-simple/deposit_type', target_id=5), NodeTriple(source_id=0, link_label='https://minmod.isi.edu/ontology-simple/country', target_id=4), NodeTriple(source_id=1, link_label='https://minmod.isi.edu/ontology-simple/grade', target_id=9), NodeTriple(source_id=0, link_label='https://minmod.isi.edu/ontology-simple/row_index', target_id=2), NodeTriple(source_id=1, link_label='https://minmod.isi.edu/ontology-simple/commodity', target_id=8)}, pred_triples={NodeTriple(source_id=1, link_label='https://minmod.isi.edu/ontology-simple/resource_tonnage', target_id=7), NodeTriple(source_id=0, link_label='http://www.w3.org/2000/01/rdf-schema#label', target_id=3), NodeTriple(source_id=0, link_label='https://minmod.isi.edu/ontology-simple/deposit_type', target_id=6), NodeTriple(source_id=0, link_label='https://minmod.isi.edu/ontology-simple/mineral_inventory', target_id=1), NodeTriple(source_id=0, link_label='https://minmod.isi.edu/ontology-simple/deposit_type', target_id=5), NodeTriple(source_id=0, link_label='https://minmod.isi.edu/ontology-simple/country', target_id=4), NodeTriple(source_id=1, link_label='https://minmod.isi.edu/ontology-simple/grade', target_id=9), NodeTriple(source_id=0, link_label='https://minmod.isi.edu/ontology-simple/row_index', target_id=2), NodeTriple(source_id=1, link_label='https://minmod.isi.edu/ontology-simple/commodity', target_id=8)})\n"
     ]
    },
    {
     "data": {
      "application/vnd.jupyter.widget-view+json": {
       "model_id": "369b87a4222542dcb7c88dd6bed0a678",
       "version_major": 2,
       "version_minor": 0
      },
      "text/plain": [
       "Compute similarity matrix:   0%|          | 0/60 [00:00<?, ?it/s]"
      ]
     },
     "metadata": {},
     "output_type": "display_data"
    },
    {
     "name": "stderr",
     "output_type": "stream",
     "text": [
      "\u001b[32m2024-09-10 14:04:44.374\u001b[0m | \u001b[34m\u001b[1mDEBUG   \u001b[0m | \u001b[36mdsl.dsl\u001b[0m:\u001b[36mtrain_model\u001b[0m:\u001b[36m135\u001b[0m - \u001b[34m\u001b[1mPerformance:\u001b[0m\n",
      "\u001b[32m2024-09-10 14:04:44.393\u001b[0m | \u001b[34m\u001b[1mDEBUG   \u001b[0m | \u001b[36mdsl.dsl\u001b[0m:\u001b[36mtrain_model\u001b[0m:\u001b[36m149\u001b[0m - \u001b[34m\u001b[1mSave model...\u001b[0m\n"
     ]
    },
    {
     "name": "stdout",
     "output_type": "stream",
     "text": [
      "              precision    recall  f1-score   support\n",
      "\n",
      "           0       1.00      1.00      1.00      1180\n",
      "           1       1.00      0.97      0.98        59\n",
      "\n",
      "    accuracy                           1.00      1239\n",
      "   macro avg       1.00      0.98      0.99      1239\n",
      "weighted avg       1.00      1.00      1.00      1239\n",
      "\n"
     ]
    },
    {
     "name": "stderr",
     "output_type": "stream",
     "text": [
      "\u001b[32m2024-09-10 14:04:45.989\u001b[0m | \u001b[1mINFO    \u001b[0m | \u001b[36mtum.sm.dsl.main\u001b[0m:\u001b[36mgen_can_graph\u001b[0m:\u001b[36m133\u001b[0m - \u001b[1mCandidate Graph with: 14 nodes and 25 edges\u001b[0m\n",
      "\u001b[32m2024-09-10 14:04:46.032\u001b[0m | \u001b[34m\u001b[1mDEBUG   \u001b[0m | \u001b[36mream.actor_graph\u001b[0m:\u001b[36mcreate_actor\u001b[0m:\u001b[36m274\u001b[0m - \u001b[34m\u001b[1mDetermine the actor to run...\u001b[0m\n",
      "\u001b[32m2024-09-10 14:04:46.033\u001b[0m | \u001b[34m\u001b[1mDEBUG   \u001b[0m | \u001b[36mream.actor_graph\u001b[0m:\u001b[36mcreate_actor\u001b[0m:\u001b[36m276\u001b[0m - \u001b[34m\u001b[1mInitializing argument parser...\u001b[0m\n",
      "\u001b[32m2024-09-10 14:04:46.033\u001b[0m | \u001b[34m\u001b[1mDEBUG   \u001b[0m | \u001b[36mream.actor_graph\u001b[0m:\u001b[36mcreate_actor\u001b[0m:\u001b[36m296\u001b[0m - \u001b[34m\u001b[1mConstructing the actor...\u001b[0m\n",
      "\u001b[32m2024-09-10 14:04:46.072\u001b[0m | \u001b[34m\u001b[1mDEBUG   \u001b[0m | \u001b[36mMinmodGraphGenerationActor\u001b[0m:\u001b[36mream.actors.base\u001b[0m:\u001b[36mget_working_fs\u001b[0m:\u001b[36m98\u001b[0m - \u001b[34m\u001b[1mUsing working directory: /Users/rook/workspace/darpa-criticalmaas/data/ream/MinmodGraphGenerationActor/v113/003\u001b[0m\n"
     ]
    },
    {
     "name": "stdout",
     "output_type": "stream",
     "text": [
      "Performance of Mudd-and-Jowitt-2018-Copper\n",
      "SmPrecisionRecallF1Output(precision=0.5384615384615384, recall=0.5384615384615384, f1=0.5384615384615384, bijection=<sm.evaluation.sm_metrics.PartialBijection object at 0x3b5ca5f60>, n_corrects=7.0, n_examples=13, n_predictions=13, gold_triples={NodeTriple(source_id=0, link_label='http://www.w3.org/2000/01/rdf-schema#label', target_id=3), NodeTriple(source_id=0, link_label='https://minmod.isi.edu/ontology-simple/deposit_type', target_id=6), NodeTriple(source_id=1, link_label='https://minmod.isi.edu/ontology-simple/resource_commodity', target_id=10), NodeTriple(source_id=1, link_label='https://minmod.isi.edu/ontology-simple/reserve_tonnage', target_id=9), NodeTriple(source_id=0, link_label='https://minmod.isi.edu/ontology-simple/mineral_inventory', target_id=1), NodeTriple(source_id=0, link_label='https://minmod.isi.edu/ontology-simple/deposit_type', target_id=5), NodeTriple(source_id=0, link_label='https://minmod.isi.edu/ontology-simple/country', target_id=4), NodeTriple(source_id=1, link_label='https://minmod.isi.edu/ontology-simple/reserve_grade', target_id=13), NodeTriple(source_id=1, link_label='https://minmod.isi.edu/ontology-simple/resource_tonnage', target_id=8), NodeTriple(source_id=0, link_label='https://minmod.isi.edu/ontology-simple/deposit_type', target_id=7), NodeTriple(source_id=1, link_label='https://minmod.isi.edu/ontology-simple/reserve_commodity', target_id=12), NodeTriple(source_id=0, link_label='https://minmod.isi.edu/ontology-simple/row_index', target_id=2), NodeTriple(source_id=1, link_label='https://minmod.isi.edu/ontology-simple/resource_grade', target_id=11)}, pred_triples={NodeTriple(source_id=0, link_label='http://www.w3.org/2000/01/rdf-schema#label', target_id=3), NodeTriple(source_id=0, link_label='https://minmod.isi.edu/ontology-simple/deposit_type', target_id=6), NodeTriple(source_id=0, link_label='https://minmod.isi.edu/ontology-simple/row_index', target_id=8), NodeTriple(source_id=1, link_label='https://minmod.isi.edu/ontology-simple/grade', target_id=13), NodeTriple(source_id=0, link_label='https://minmod.isi.edu/ontology-simple/mineral_inventory', target_id=1), NodeTriple(source_id=0, link_label='https://minmod.isi.edu/ontology-simple/deposit_type', target_id=5), NodeTriple(source_id=0, link_label='https://minmod.isi.edu/ontology-simple/country', target_id=4), NodeTriple(source_id=1, link_label='https://minmod.isi.edu/ontology-simple/commodity', target_id=10), NodeTriple(source_id=1, link_label='https://minmod.isi.edu/ontology-simple/grade', target_id=11), NodeTriple(source_id=1, link_label='https://minmod.isi.edu/ontology-simple/reserve_grade', target_id=9), NodeTriple(source_id=0, link_label='https://minmod.isi.edu/ontology-simple/deposit_type', target_id=7), NodeTriple(source_id=1, link_label='https://minmod.isi.edu/ontology-simple/commodity', target_id=12), NodeTriple(source_id=0, link_label='https://minmod.isi.edu/ontology-simple/row_index', target_id=2)})\n"
     ]
    },
    {
     "data": {
      "application/vnd.jupyter.widget-view+json": {
       "model_id": "b09eaafafb5f41f0997d0cdd31da5f6e",
       "version_major": 2,
       "version_minor": 0
      },
      "text/plain": [
       "Compute similarity matrix:   0%|          | 0/61 [00:00<?, ?it/s]"
      ]
     },
     "metadata": {},
     "output_type": "display_data"
    },
    {
     "name": "stderr",
     "output_type": "stream",
     "text": [
      "\u001b[32m2024-09-10 14:04:47.652\u001b[0m | \u001b[34m\u001b[1mDEBUG   \u001b[0m | \u001b[36mdsl.dsl\u001b[0m:\u001b[36mtrain_model\u001b[0m:\u001b[36m135\u001b[0m - \u001b[34m\u001b[1mPerformance:\u001b[0m\n",
      "\u001b[32m2024-09-10 14:04:47.671\u001b[0m | \u001b[34m\u001b[1mDEBUG   \u001b[0m | \u001b[36mdsl.dsl\u001b[0m:\u001b[36mtrain_model\u001b[0m:\u001b[36m149\u001b[0m - \u001b[34m\u001b[1mSave model...\u001b[0m\n"
     ]
    },
    {
     "name": "stdout",
     "output_type": "stream",
     "text": [
      "              precision    recall  f1-score   support\n",
      "\n",
      "           0       1.00      1.00      1.00      1320\n",
      "           1       0.95      0.95      0.95        60\n",
      "\n",
      "    accuracy                           1.00      1380\n",
      "   macro avg       0.97      0.97      0.97      1380\n",
      "weighted avg       1.00      1.00      1.00      1380\n",
      "\n"
     ]
    },
    {
     "name": "stderr",
     "output_type": "stream",
     "text": [
      "\u001b[32m2024-09-10 14:04:48.950\u001b[0m | \u001b[1mINFO    \u001b[0m | \u001b[36mtum.sm.dsl.main\u001b[0m:\u001b[36mgen_can_graph\u001b[0m:\u001b[36m133\u001b[0m - \u001b[1mCandidate Graph with: 17 nodes and 31 edges\u001b[0m\n",
      "\u001b[32m2024-09-10 14:04:49.009\u001b[0m | \u001b[34m\u001b[1mDEBUG   \u001b[0m | \u001b[36mream.actor_graph\u001b[0m:\u001b[36mcreate_actor\u001b[0m:\u001b[36m274\u001b[0m - \u001b[34m\u001b[1mDetermine the actor to run...\u001b[0m\n",
      "\u001b[32m2024-09-10 14:04:49.009\u001b[0m | \u001b[34m\u001b[1mDEBUG   \u001b[0m | \u001b[36mream.actor_graph\u001b[0m:\u001b[36mcreate_actor\u001b[0m:\u001b[36m276\u001b[0m - \u001b[34m\u001b[1mInitializing argument parser...\u001b[0m\n",
      "\u001b[32m2024-09-10 14:04:49.009\u001b[0m | \u001b[34m\u001b[1mDEBUG   \u001b[0m | \u001b[36mream.actor_graph\u001b[0m:\u001b[36mcreate_actor\u001b[0m:\u001b[36m296\u001b[0m - \u001b[34m\u001b[1mConstructing the actor...\u001b[0m\n",
      "\u001b[32m2024-09-10 14:04:49.057\u001b[0m | \u001b[34m\u001b[1mDEBUG   \u001b[0m | \u001b[36mMinmodGraphGenerationActor\u001b[0m:\u001b[36mream.actors.base\u001b[0m:\u001b[36mget_working_fs\u001b[0m:\u001b[36m98\u001b[0m - \u001b[34m\u001b[1mUsing working directory: /Users/rook/workspace/darpa-criticalmaas/data/ream/MinmodGraphGenerationActor/v113/004\u001b[0m\n"
     ]
    },
    {
     "name": "stdout",
     "output_type": "stream",
     "text": [
      "Performance of Mudd-and-Jowitt-2022-Nickel\n",
      "SmPrecisionRecallF1Output(precision=0.5625, recall=0.75, f1=0.6428571428571429, bijection=<sm.evaluation.sm_metrics.PartialBijection object at 0x3b63983a0>, n_corrects=9.0, n_examples=12, n_predictions=16, gold_triples={NodeTriple(source_id=0, link_label='http://www.w3.org/2000/01/rdf-schema#label', target_id=3), NodeTriple(source_id=1, link_label='https://minmod.isi.edu/ontology-simple/grade', target_id=16), NodeTriple(source_id=0, link_label='https://minmod.isi.edu/ontology-simple/deposit_type', target_id=12), NodeTriple(source_id=1, link_label='https://minmod.isi.edu/ontology-simple/commodity', target_id=14), NodeTriple(source_id=0, link_label='https://minmod.isi.edu/ontology-simple/mineral_inventory', target_id=1), NodeTriple(source_id=0, link_label='https://minmod.isi.edu/ontology-simple/latitude', target_id=4), NodeTriple(source_id=1, link_label='https://minmod.isi.edu/ontology-simple/tonnage', target_id=15), NodeTriple(source_id=0, link_label='https://minmod.isi.edu/ontology-simple/deposit_type', target_id=11), NodeTriple(source_id=0, link_label='https://minmod.isi.edu/ontology-simple/deposit_type', target_id=10), NodeTriple(source_id=0, link_label='https://minmod.isi.edu/ontology-simple/longitude', target_id=5), NodeTriple(source_id=0, link_label='https://minmod.isi.edu/ontology-simple/country', target_id=2), NodeTriple(source_id=1, link_label='https://minmod.isi.edu/ontology-simple/category', target_id=13)}, pred_triples={NodeTriple(source_id=0, link_label='https://minmod.isi.edu/ontology-simple/mineral_inventory', target_id=1), NodeTriple(source_id=0, link_label='http://www.w3.org/2000/01/rdf-schema#label', target_id=8), NodeTriple(source_id=0, link_label='https://minmod.isi.edu/ontology-simple/record_id', target_id=4), NodeTriple(source_id=0, link_label='https://minmod.isi.edu/ontology-simple/deposit_type', target_id=11), NodeTriple(source_id=1, link_label='https://minmod.isi.edu/ontology-simple/resource_tonnage', target_id=5), NodeTriple(source_id=0, link_label='https://minmod.isi.edu/ontology-simple/country', target_id=2), NodeTriple(source_id=1, link_label='https://minmod.isi.edu/ontology-simple/cutoff_grade_unit', target_id=6), NodeTriple(source_id=0, link_label='http://www.w3.org/2000/01/rdf-schema#label', target_id=3), NodeTriple(source_id=0, link_label='http://www.w3.org/2000/01/rdf-schema#label', target_id=9), NodeTriple(source_id=1, link_label='https://minmod.isi.edu/ontology-simple/resource_commodity', target_id=7), NodeTriple(source_id=0, link_label='https://minmod.isi.edu/ontology-simple/deposit_type', target_id=12), NodeTriple(source_id=1, link_label='https://minmod.isi.edu/ontology-simple/grade', target_id=16), NodeTriple(source_id=1, link_label='https://minmod.isi.edu/ontology-simple/commodity', target_id=14), NodeTriple(source_id=1, link_label='https://minmod.isi.edu/ontology-simple/reserve_tonnage', target_id=15), NodeTriple(source_id=0, link_label='https://minmod.isi.edu/ontology-simple/deposit_type', target_id=10), NodeTriple(source_id=1, link_label='https://minmod.isi.edu/ontology-simple/category', target_id=13)})\n"
     ]
    },
    {
     "data": {
      "application/vnd.jupyter.widget-view+json": {
       "model_id": "aabf723ba70a4607b06a4008d7e6b7d9",
       "version_major": 2,
       "version_minor": 0
      },
      "text/plain": [
       "Compute similarity matrix:   0%|          | 0/64 [00:00<?, ?it/s]"
      ]
     },
     "metadata": {},
     "output_type": "display_data"
    },
    {
     "name": "stderr",
     "output_type": "stream",
     "text": [
      "\u001b[32m2024-09-10 14:04:50.471\u001b[0m | \u001b[34m\u001b[1mDEBUG   \u001b[0m | \u001b[36mdsl.dsl\u001b[0m:\u001b[36mtrain_model\u001b[0m:\u001b[36m135\u001b[0m - \u001b[34m\u001b[1mPerformance:\u001b[0m\n",
      "\u001b[32m2024-09-10 14:04:50.491\u001b[0m | \u001b[34m\u001b[1mDEBUG   \u001b[0m | \u001b[36mdsl.dsl\u001b[0m:\u001b[36mtrain_model\u001b[0m:\u001b[36m149\u001b[0m - \u001b[34m\u001b[1mSave model...\u001b[0m\n",
      "\u001b[32m2024-09-10 14:04:50.610\u001b[0m | \u001b[1mINFO    \u001b[0m | \u001b[36mtum.sm.dsl.main\u001b[0m:\u001b[36mgen_can_graph\u001b[0m:\u001b[36m133\u001b[0m - \u001b[1mCandidate Graph with: 10 nodes and 17 edges\u001b[0m\n",
      "\u001b[32m2024-09-10 14:04:50.648\u001b[0m | \u001b[34m\u001b[1mDEBUG   \u001b[0m | \u001b[36mream.actor_graph\u001b[0m:\u001b[36mcreate_actor\u001b[0m:\u001b[36m274\u001b[0m - \u001b[34m\u001b[1mDetermine the actor to run...\u001b[0m\n",
      "\u001b[32m2024-09-10 14:04:50.648\u001b[0m | \u001b[34m\u001b[1mDEBUG   \u001b[0m | \u001b[36mream.actor_graph\u001b[0m:\u001b[36mcreate_actor\u001b[0m:\u001b[36m276\u001b[0m - \u001b[34m\u001b[1mInitializing argument parser...\u001b[0m\n",
      "\u001b[32m2024-09-10 14:04:50.649\u001b[0m | \u001b[34m\u001b[1mDEBUG   \u001b[0m | \u001b[36mream.actor_graph\u001b[0m:\u001b[36mcreate_actor\u001b[0m:\u001b[36m296\u001b[0m - \u001b[34m\u001b[1mConstructing the actor...\u001b[0m\n"
     ]
    },
    {
     "name": "stdout",
     "output_type": "stream",
     "text": [
      "              precision    recall  f1-score   support\n",
      "\n",
      "           0       1.00      1.00      1.00      1386\n",
      "           1       1.00      0.98      0.99        63\n",
      "\n",
      "    accuracy                           1.00      1449\n",
      "   macro avg       1.00      0.99      1.00      1449\n",
      "weighted avg       1.00      1.00      1.00      1449\n",
      "\n",
      "Performance of Nevada_Lithium_Resources_and_Reserves_March_2024_update\n",
      "SmPrecisionRecallF1Output(precision=0.7777777777777778, recall=0.7777777777777778, f1=0.7777777777777778, bijection=<sm.evaluation.sm_metrics.PartialBijection object at 0x3b601bd00>, n_corrects=7.0, n_examples=9, n_predictions=9, gold_triples={NodeTriple(source_id=1, link_label='https://minmod.isi.edu/ontology-simple/reserve_tonnage', target_id=6), NodeTriple(source_id=0, link_label='http://www.w3.org/2000/01/rdf-schema#label', target_id=2), NodeTriple(source_id=0, link_label='https://minmod.isi.edu/ontology-simple/mineral_inventory', target_id=1), NodeTriple(source_id=1, link_label='https://minmod.isi.edu/ontology-simple/reserve_grade', target_id=7), NodeTriple(source_id=1, link_label='https://minmod.isi.edu/ontology-simple/date', target_id=9), NodeTriple(source_id=1, link_label='https://minmod.isi.edu/ontology-simple/resource_tonnage', target_id=4), NodeTriple(source_id=1, link_label='https://minmod.isi.edu/ontology-simple/cutoff_grade', target_id=8), NodeTriple(source_id=1, link_label='https://minmod.isi.edu/ontology-simple/resource_grade', target_id=5), NodeTriple(source_id=0, link_label='https://minmod.isi.edu/ontology-simple/deposit_type', target_id=3)}, pred_triples={NodeTriple(source_id=1, link_label='https://minmod.isi.edu/ontology-simple/reserve_tonnage', target_id=6), NodeTriple(source_id=0, link_label='http://www.w3.org/2000/01/rdf-schema#label', target_id=2), NodeTriple(source_id=0, link_label='https://minmod.isi.edu/ontology-simple/mineral_inventory', target_id=1), NodeTriple(source_id=1, link_label='https://minmod.isi.edu/ontology-simple/date', target_id=9), NodeTriple(source_id=1, link_label='https://minmod.isi.edu/ontology-simple/reserve_tonnage', target_id=7), NodeTriple(source_id=0, link_label='https://minmod.isi.edu/ontology-simple/country', target_id=3), NodeTriple(source_id=1, link_label='https://minmod.isi.edu/ontology-simple/resource_grade', target_id=5), NodeTriple(source_id=1, link_label='https://minmod.isi.edu/ontology-simple/cutoff_grade', target_id=8), NodeTriple(source_id=1, link_label='https://minmod.isi.edu/ontology-simple/resource_tonnage', target_id=4)})\n"
     ]
    },
    {
     "name": "stderr",
     "output_type": "stream",
     "text": [
      "\u001b[32m2024-09-10 14:04:50.692\u001b[0m | \u001b[34m\u001b[1mDEBUG   \u001b[0m | \u001b[36mMinmodGraphGenerationActor\u001b[0m:\u001b[36mream.actors.base\u001b[0m:\u001b[36mget_working_fs\u001b[0m:\u001b[36m98\u001b[0m - \u001b[34m\u001b[1mUsing working directory: /Users/rook/workspace/darpa-criticalmaas/data/ream/MinmodGraphGenerationActor/v113/005\u001b[0m\n"
     ]
    },
    {
     "data": {
      "application/vnd.jupyter.widget-view+json": {
       "model_id": "87764f96eba145d4a296372a3b1ddace",
       "version_major": 2,
       "version_minor": 0
      },
      "text/plain": [
       "Compute similarity matrix:   0%|          | 0/64 [00:00<?, ?it/s]"
      ]
     },
     "metadata": {},
     "output_type": "display_data"
    },
    {
     "name": "stderr",
     "output_type": "stream",
     "text": [
      "\u001b[32m2024-09-10 14:04:52.328\u001b[0m | \u001b[34m\u001b[1mDEBUG   \u001b[0m | \u001b[36mdsl.dsl\u001b[0m:\u001b[36mtrain_model\u001b[0m:\u001b[36m135\u001b[0m - \u001b[34m\u001b[1mPerformance:\u001b[0m\n",
      "\u001b[32m2024-09-10 14:04:52.348\u001b[0m | \u001b[34m\u001b[1mDEBUG   \u001b[0m | \u001b[36mdsl.dsl\u001b[0m:\u001b[36mtrain_model\u001b[0m:\u001b[36m149\u001b[0m - \u001b[34m\u001b[1mSave model...\u001b[0m\n"
     ]
    },
    {
     "name": "stdout",
     "output_type": "stream",
     "text": [
      "              precision    recall  f1-score   support\n",
      "\n",
      "           0       1.00      1.00      1.00      1386\n",
      "           1       1.00      0.95      0.98        63\n",
      "\n",
      "    accuracy                           1.00      1449\n",
      "   macro avg       1.00      0.98      0.99      1449\n",
      "weighted avg       1.00      1.00      1.00      1449\n",
      "\n"
     ]
    },
    {
     "name": "stderr",
     "output_type": "stream",
     "text": [
      "\u001b[32m2024-09-10 14:04:52.564\u001b[0m | \u001b[1mINFO    \u001b[0m | \u001b[36mtum.sm.dsl.main\u001b[0m:\u001b[36mgen_can_graph\u001b[0m:\u001b[36m133\u001b[0m - \u001b[1mCandidate Graph with: 10 nodes and 17 edges\u001b[0m\n",
      "\u001b[32m2024-09-10 14:04:52.608\u001b[0m | \u001b[34m\u001b[1mDEBUG   \u001b[0m | \u001b[36mream.actor_graph\u001b[0m:\u001b[36mcreate_actor\u001b[0m:\u001b[36m274\u001b[0m - \u001b[34m\u001b[1mDetermine the actor to run...\u001b[0m\n",
      "\u001b[32m2024-09-10 14:04:52.609\u001b[0m | \u001b[34m\u001b[1mDEBUG   \u001b[0m | \u001b[36mream.actor_graph\u001b[0m:\u001b[36mcreate_actor\u001b[0m:\u001b[36m276\u001b[0m - \u001b[34m\u001b[1mInitializing argument parser...\u001b[0m\n",
      "\u001b[32m2024-09-10 14:04:52.609\u001b[0m | \u001b[34m\u001b[1mDEBUG   \u001b[0m | \u001b[36mream.actor_graph\u001b[0m:\u001b[36mcreate_actor\u001b[0m:\u001b[36m296\u001b[0m - \u001b[34m\u001b[1mConstructing the actor...\u001b[0m\n",
      "\u001b[32m2024-09-10 14:04:52.649\u001b[0m | \u001b[34m\u001b[1mDEBUG   \u001b[0m | \u001b[36mMinmodGraphGenerationActor\u001b[0m:\u001b[36mream.actors.base\u001b[0m:\u001b[36mget_working_fs\u001b[0m:\u001b[36m98\u001b[0m - \u001b[34m\u001b[1mUsing working directory: /Users/rook/workspace/darpa-criticalmaas/data/ream/MinmodGraphGenerationActor/v113/006\u001b[0m\n"
     ]
    },
    {
     "name": "stdout",
     "output_type": "stream",
     "text": [
      "Performance of Weng_et_al_2015_REE\n",
      "SmPrecisionRecallF1Output(precision=0.8888888888888888, recall=0.8888888888888888, f1=0.8888888888888888, bijection=<sm.evaluation.sm_metrics.PartialBijection object at 0x3b6218b80>, n_corrects=8.0, n_examples=9, n_predictions=9, gold_triples={NodeTriple(source_id=0, link_label='https://minmod.isi.edu/ontology-simple/row_index', target_id=2), NodeTriple(source_id=0, link_label='http://www.w3.org/2000/01/rdf-schema#label', target_id=3), NodeTriple(source_id=1, link_label='https://minmod.isi.edu/ontology-simple/resource_tonnage', target_id=7), NodeTriple(source_id=0, link_label='https://minmod.isi.edu/ontology-simple/deposit_type', target_id=6), NodeTriple(source_id=0, link_label='https://minmod.isi.edu/ontology-simple/mineral_inventory', target_id=1), NodeTriple(source_id=1, link_label='https://minmod.isi.edu/ontology-simple/grade', target_id=9), NodeTriple(source_id=0, link_label='https://minmod.isi.edu/ontology-simple/state_or_province', target_id=4), NodeTriple(source_id=0, link_label='https://minmod.isi.edu/ontology-simple/country', target_id=5), NodeTriple(source_id=1, link_label='https://minmod.isi.edu/ontology-simple/commodity', target_id=8)}, pred_triples={NodeTriple(source_id=0, link_label='https://minmod.isi.edu/ontology-simple/row_index', target_id=2), NodeTriple(source_id=0, link_label='http://www.w3.org/2000/01/rdf-schema#label', target_id=3), NodeTriple(source_id=0, link_label='https://minmod.isi.edu/ontology-simple/deposit_type', target_id=6), NodeTriple(source_id=1, link_label='https://minmod.isi.edu/ontology-simple/cutoff_grade', target_id=7), NodeTriple(source_id=0, link_label='https://minmod.isi.edu/ontology-simple/mineral_inventory', target_id=1), NodeTriple(source_id=1, link_label='https://minmod.isi.edu/ontology-simple/grade', target_id=9), NodeTriple(source_id=0, link_label='https://minmod.isi.edu/ontology-simple/state_or_province', target_id=4), NodeTriple(source_id=0, link_label='https://minmod.isi.edu/ontology-simple/country', target_id=5), NodeTriple(source_id=1, link_label='https://minmod.isi.edu/ontology-simple/commodity', target_id=8)})\n"
     ]
    },
    {
     "data": {
      "application/vnd.jupyter.widget-view+json": {
       "model_id": "fe64a901dfe7489fbdd466e4fb330c71",
       "version_major": 2,
       "version_minor": 0
      },
      "text/plain": [
       "Compute similarity matrix:   0%|          | 0/58 [00:00<?, ?it/s]"
      ]
     },
     "metadata": {},
     "output_type": "display_data"
    },
    {
     "name": "stderr",
     "output_type": "stream",
     "text": [
      "\u001b[32m2024-09-10 14:04:53.954\u001b[0m | \u001b[34m\u001b[1mDEBUG   \u001b[0m | \u001b[36mdsl.dsl\u001b[0m:\u001b[36mtrain_model\u001b[0m:\u001b[36m135\u001b[0m - \u001b[34m\u001b[1mPerformance:\u001b[0m\n",
      "\u001b[32m2024-09-10 14:04:53.972\u001b[0m | \u001b[34m\u001b[1mDEBUG   \u001b[0m | \u001b[36mdsl.dsl\u001b[0m:\u001b[36mtrain_model\u001b[0m:\u001b[36m149\u001b[0m - \u001b[34m\u001b[1mSave model...\u001b[0m\n"
     ]
    },
    {
     "name": "stdout",
     "output_type": "stream",
     "text": [
      "              precision    recall  f1-score   support\n",
      "\n",
      "           0       1.00      0.99      1.00      1083\n",
      "           1       0.89      0.96      0.92        57\n",
      "\n",
      "    accuracy                           0.99      1140\n",
      "   macro avg       0.94      0.98      0.96      1140\n",
      "weighted avg       0.99      0.99      0.99      1140\n",
      "\n"
     ]
    },
    {
     "name": "stderr",
     "output_type": "stream",
     "text": [
      "\u001b[32m2024-09-10 14:04:54.903\u001b[0m | \u001b[1mINFO    \u001b[0m | \u001b[36mtum.sm.dsl.main\u001b[0m:\u001b[36mgen_can_graph\u001b[0m:\u001b[36m133\u001b[0m - \u001b[1mCandidate Graph with: 16 nodes and 29 edges\u001b[0m\n"
     ]
    },
    {
     "name": "stdout",
     "output_type": "stream",
     "text": [
      "Performance of World_Tin_Tungsten_Deposit\n",
      "SmPrecisionRecallF1Output(precision=0.6, recall=0.6, f1=0.6, bijection=<sm.evaluation.sm_metrics.PartialBijection object at 0x3b6398970>, n_corrects=9.0, n_examples=15, n_predictions=15, gold_triples={NodeTriple(source_id=0, link_label='http://www.w3.org/2000/01/rdf-schema#label', target_id=3), NodeTriple(source_id=1, link_label='https://minmod.isi.edu/ontology-simple/cutoff_grade', target_id=13), NodeTriple(source_id=0, link_label='https://minmod.isi.edu/ontology-simple/record_id', target_id=2), NodeTriple(source_id=1, link_label='https://minmod.isi.edu/ontology-simple/category', target_id=9), NodeTriple(source_id=0, link_label='https://minmod.isi.edu/ontology-simple/mineral_inventory', target_id=1), NodeTriple(source_id=0, link_label='https://minmod.isi.edu/ontology-simple/country', target_id=4), NodeTriple(source_id=1, link_label='https://minmod.isi.edu/ontology-simple/date', target_id=15), NodeTriple(source_id=1, link_label='https://minmod.isi.edu/ontology-simple/cutoff_grade_unit', target_id=14), NodeTriple(source_id=1, link_label='https://minmod.isi.edu/ontology-simple/commodity', target_id=10), NodeTriple(source_id=0, link_label='https://minmod.isi.edu/ontology-simple/latitude', target_id=6), NodeTriple(source_id=0, link_label='https://minmod.isi.edu/ontology-simple/longitude', target_id=5), NodeTriple(source_id=1, link_label='https://minmod.isi.edu/ontology-simple/grade_unit', target_id=12), NodeTriple(source_id=1, link_label='https://minmod.isi.edu/ontology-simple/tonnage', target_id=7), NodeTriple(source_id=1, link_label='https://minmod.isi.edu/ontology-simple/tonnage_unit', target_id=8), NodeTriple(source_id=1, link_label='https://minmod.isi.edu/ontology-simple/grade', target_id=11)}, pred_triples={NodeTriple(source_id=0, link_label='http://www.w3.org/2000/01/rdf-schema#label', target_id=3), NodeTriple(source_id=1, link_label='https://minmod.isi.edu/ontology-simple/reserve_tonnage', target_id=6), NodeTriple(source_id=1, link_label='https://minmod.isi.edu/ontology-simple/cutoff_grade', target_id=13), NodeTriple(source_id=1, link_label='https://minmod.isi.edu/ontology-simple/category', target_id=9), NodeTriple(source_id=0, link_label='https://minmod.isi.edu/ontology-simple/mineral_inventory', target_id=1), NodeTriple(source_id=0, link_label='https://minmod.isi.edu/ontology-simple/country', target_id=4), NodeTriple(source_id=1, link_label='https://minmod.isi.edu/ontology-simple/commodity', target_id=12), NodeTriple(source_id=0, link_label='http://www.w3.org/2000/01/rdf-schema#label', target_id=8), NodeTriple(source_id=1, link_label='https://minmod.isi.edu/ontology-simple/commodity', target_id=10), NodeTriple(source_id=0, link_label='https://minmod.isi.edu/ontology-simple/record_id', target_id=14), NodeTriple(source_id=1, link_label='https://minmod.isi.edu/ontology-simple/reserve_grade', target_id=15), NodeTriple(source_id=0, link_label='https://minmod.isi.edu/ontology-simple/longitude', target_id=5), NodeTriple(source_id=1, link_label='https://minmod.isi.edu/ontology-simple/resource_grade', target_id=2), NodeTriple(source_id=1, link_label='https://minmod.isi.edu/ontology-simple/tonnage', target_id=7), NodeTriple(source_id=1, link_label='https://minmod.isi.edu/ontology-simple/grade', target_id=11)})\n"
     ]
    }
   ],
   "source": [
    "out = [predict(test_ex) for test_ex in test_exs]"
   ]
  },
  {
   "cell_type": "code",
   "execution_count": 6,
   "metadata": {},
   "outputs": [
    {
     "name": "stdout",
     "output_type": "stream",
     "text": [
      "PrecisionRecallF1(precision=0.7191849816849816, recall=0.7459706959706959, f1=0.7306645735217163)\n"
     ]
    }
   ],
   "source": [
    "print(PrecisionRecallF1.avg([x[-1] for x in out]))"
   ]
  },
  {
   "cell_type": "code",
   "execution_count": 10,
   "metadata": {},
   "outputs": [],
   "source": [
    "from sm.evaluation.sm_metrics import NodeTriple"
   ]
  },
  {
   "cell_type": "code",
   "execution_count": 25,
   "metadata": {},
   "outputs": [],
   "source": [
    "ytrue = []\n",
    "ypred = []\n",
    "\n",
    "for item in out:\n",
    "    x = item[-1]\n",
    "\n",
    "    pred = {\n",
    "        NodeTriple(\n",
    "            x.bijection.prime2x[triple.source_id],\n",
    "            triple.link_label,\n",
    "            x.bijection.prime2x[triple.target_id],\n",
    "        )\n",
    "        for triple in x.pred_triples\n",
    "    }\n",
    "    gold = x.gold_triples\n",
    "\n",
    "    pred = {(t.source_id, t.target_id): t.link_label for t in pred}\n",
    "    gold = {(t.source_id, t.target_id): t.link_label for t in gold}\n",
    "\n",
    "    for t, l in gold.items():\n",
    "        if t in pred:\n",
    "            ytrue.append(l)\n",
    "            ypred.append(pred[t])\n",
    "    for t, l in pred.items():\n",
    "        if t not in gold:\n",
    "            ytrue.append(\"\")\n",
    "            ypred.append(l)"
   ]
  },
  {
   "cell_type": "code",
   "execution_count": 22,
   "metadata": {},
   "outputs": [],
   "source": [
    "from sklearn.metrics import precision_recall_fscore_support, classification_report"
   ]
  },
  {
   "cell_type": "code",
   "execution_count": 31,
   "metadata": {},
   "outputs": [
    {
     "data": {
      "text/plain": [
       "{'http://www.w3.org/2000/01/rdf-schema#label',\n",
       " 'https://minmod.isi.edu/ontology-simple/category',\n",
       " 'https://minmod.isi.edu/ontology-simple/commodity',\n",
       " 'https://minmod.isi.edu/ontology-simple/country',\n",
       " 'https://minmod.isi.edu/ontology-simple/cutoff_grade',\n",
       " 'https://minmod.isi.edu/ontology-simple/cutoff_grade_unit',\n",
       " 'https://minmod.isi.edu/ontology-simple/date',\n",
       " 'https://minmod.isi.edu/ontology-simple/deposit_type',\n",
       " 'https://minmod.isi.edu/ontology-simple/grade',\n",
       " 'https://minmod.isi.edu/ontology-simple/grade_unit',\n",
       " 'https://minmod.isi.edu/ontology-simple/latitude',\n",
       " 'https://minmod.isi.edu/ontology-simple/longitude',\n",
       " 'https://minmod.isi.edu/ontology-simple/mineral_inventory',\n",
       " 'https://minmod.isi.edu/ontology-simple/record_id',\n",
       " 'https://minmod.isi.edu/ontology-simple/reserve_commodity',\n",
       " 'https://minmod.isi.edu/ontology-simple/reserve_grade',\n",
       " 'https://minmod.isi.edu/ontology-simple/reserve_tonnage',\n",
       " 'https://minmod.isi.edu/ontology-simple/resource_commodity',\n",
       " 'https://minmod.isi.edu/ontology-simple/resource_grade',\n",
       " 'https://minmod.isi.edu/ontology-simple/resource_tonnage',\n",
       " 'https://minmod.isi.edu/ontology-simple/row_index',\n",
       " 'https://minmod.isi.edu/ontology-simple/state_or_province',\n",
       " 'https://minmod.isi.edu/ontology-simple/tonnage',\n",
       " 'https://minmod.isi.edu/ontology-simple/tonnage_unit'}"
      ]
     },
     "execution_count": 31,
     "metadata": {},
     "output_type": "execute_result"
    }
   ],
   "source": [
    "{triple.link_label for x in out for triple in x[-1].gold_triples}"
   ]
  },
  {
   "cell_type": "code",
   "execution_count": 29,
   "metadata": {},
   "outputs": [
    {
     "data": {
      "text/plain": [
       "[]"
      ]
     },
     "execution_count": 29,
     "metadata": {},
     "output_type": "execute_result"
    }
   ],
   "source": [
    "[x for x in ytrue if x.endswith(\"record_id\")]"
   ]
  },
  {
   "cell_type": "code",
   "execution_count": 27,
   "metadata": {},
   "outputs": [
    {
     "name": "stdout",
     "output_type": "stream",
     "text": [
      "                                                           precision    recall  f1-score   support\n",
      "\n",
      "                                                              0.0000    0.0000    0.0000        14\n",
      "               http://www.w3.org/2000/01/rdf-schema#label     0.7000    1.0000    0.8235         7\n",
      "          https://minmod.isi.edu/ontology-simple/category     1.0000    1.0000    1.0000         2\n",
      "         https://minmod.isi.edu/ontology-simple/commodity     0.5000    1.0000    0.6667         5\n",
      "           https://minmod.isi.edu/ontology-simple/country     0.8571    1.0000    0.9231         6\n",
      "      https://minmod.isi.edu/ontology-simple/cutoff_grade     0.6667    1.0000    0.8000         2\n",
      " https://minmod.isi.edu/ontology-simple/cutoff_grade_unit     0.0000    0.0000    0.0000         0\n",
      "              https://minmod.isi.edu/ontology-simple/date     1.0000    0.5000    0.6667         2\n",
      "      https://minmod.isi.edu/ontology-simple/deposit_type     1.0000    0.9091    0.9524        11\n",
      "             https://minmod.isi.edu/ontology-simple/grade     0.5556    1.0000    0.7143         5\n",
      "        https://minmod.isi.edu/ontology-simple/grade_unit     0.0000    0.0000    0.0000         1\n",
      "          https://minmod.isi.edu/ontology-simple/latitude     0.0000    0.0000    0.0000         1\n",
      "         https://minmod.isi.edu/ontology-simple/longitude     1.0000    1.0000    1.0000         1\n",
      " https://minmod.isi.edu/ontology-simple/mineral_inventory     1.0000    1.0000    1.0000         7\n",
      "         https://minmod.isi.edu/ontology-simple/record_id     0.0000    0.0000    0.0000         0\n",
      " https://minmod.isi.edu/ontology-simple/reserve_commodity     0.0000    0.0000    0.0000         1\n",
      "     https://minmod.isi.edu/ontology-simple/reserve_grade     0.0000    0.0000    0.0000         2\n",
      "   https://minmod.isi.edu/ontology-simple/reserve_tonnage     0.2500    0.5000    0.3333         2\n",
      "https://minmod.isi.edu/ontology-simple/resource_commodity     0.0000    0.0000    0.0000         1\n",
      "    https://minmod.isi.edu/ontology-simple/resource_grade     0.5000    0.5000    0.5000         2\n",
      "  https://minmod.isi.edu/ontology-simple/resource_tonnage     0.7500    0.7500    0.7500         4\n",
      "         https://minmod.isi.edu/ontology-simple/row_index     0.8000    1.0000    0.8889         4\n",
      " https://minmod.isi.edu/ontology-simple/state_or_province     1.0000    1.0000    1.0000         1\n",
      "           https://minmod.isi.edu/ontology-simple/tonnage     1.0000    0.5000    0.6667         2\n",
      "\n",
      "                                                 accuracy                         0.6867        83\n",
      "                                                macro avg     0.5241    0.5691    0.5286        83\n",
      "                                             weighted avg     0.6067    0.6867    0.6286        83\n",
      "\n"
     ]
    },
    {
     "name": "stderr",
     "output_type": "stream",
     "text": [
      "/Users/rook/workspace/darpa-criticalmaas/.venv/lib/python3.11/site-packages/sklearn/metrics/_classification.py:1531: UndefinedMetricWarning: Precision is ill-defined and being set to 0.0 in labels with no predicted samples. Use `zero_division` parameter to control this behavior.\n",
      "  _warn_prf(average, modifier, f\"{metric.capitalize()} is\", len(result))\n",
      "/Users/rook/workspace/darpa-criticalmaas/.venv/lib/python3.11/site-packages/sklearn/metrics/_classification.py:1531: UndefinedMetricWarning: Recall is ill-defined and being set to 0.0 in labels with no true samples. Use `zero_division` parameter to control this behavior.\n",
      "  _warn_prf(average, modifier, f\"{metric.capitalize()} is\", len(result))\n",
      "/Users/rook/workspace/darpa-criticalmaas/.venv/lib/python3.11/site-packages/sklearn/metrics/_classification.py:1531: UndefinedMetricWarning: Precision is ill-defined and being set to 0.0 in labels with no predicted samples. Use `zero_division` parameter to control this behavior.\n",
      "  _warn_prf(average, modifier, f\"{metric.capitalize()} is\", len(result))\n",
      "/Users/rook/workspace/darpa-criticalmaas/.venv/lib/python3.11/site-packages/sklearn/metrics/_classification.py:1531: UndefinedMetricWarning: Recall is ill-defined and being set to 0.0 in labels with no true samples. Use `zero_division` parameter to control this behavior.\n",
      "  _warn_prf(average, modifier, f\"{metric.capitalize()} is\", len(result))\n",
      "/Users/rook/workspace/darpa-criticalmaas/.venv/lib/python3.11/site-packages/sklearn/metrics/_classification.py:1531: UndefinedMetricWarning: Precision is ill-defined and being set to 0.0 in labels with no predicted samples. Use `zero_division` parameter to control this behavior.\n",
      "  _warn_prf(average, modifier, f\"{metric.capitalize()} is\", len(result))\n",
      "/Users/rook/workspace/darpa-criticalmaas/.venv/lib/python3.11/site-packages/sklearn/metrics/_classification.py:1531: UndefinedMetricWarning: Recall is ill-defined and being set to 0.0 in labels with no true samples. Use `zero_division` parameter to control this behavior.\n",
      "  _warn_prf(average, modifier, f\"{metric.capitalize()} is\", len(result))\n"
     ]
    }
   ],
   "source": [
    "print(classification_report(ytrue, ypred, digits=4))"
   ]
  },
  {
   "cell_type": "code",
   "execution_count": 8,
   "metadata": {},
   "outputs": [
    {
     "data": {
      "text/plain": [
       "{NodeTriple(source_id=0, link_label='http://www.w3.org/2000/01/rdf-schema#label', target_id=4),\n",
       " NodeTriple(source_id=0, link_label='https://minmod.isi.edu/ontology-simple/country', target_id=5),\n",
       " NodeTriple(source_id=0, link_label='https://minmod.isi.edu/ontology-simple/deposit_type', target_id=7),\n",
       " NodeTriple(source_id=0, link_label='https://minmod.isi.edu/ontology-simple/mineral_inventory', target_id=1),\n",
       " NodeTriple(source_id=0, link_label='https://minmod.isi.edu/ontology-simple/row_index', target_id=2),\n",
       " NodeTriple(source_id=1, link_label='https://minmod.isi.edu/ontology-simple/commodity', target_id=11),\n",
       " NodeTriple(source_id=1, link_label='https://minmod.isi.edu/ontology-simple/commodity', target_id=3),\n",
       " NodeTriple(source_id=1, link_label='https://minmod.isi.edu/ontology-simple/commodity', target_id=6),\n",
       " NodeTriple(source_id=1, link_label='https://minmod.isi.edu/ontology-simple/grade', target_id=12),\n",
       " NodeTriple(source_id=1, link_label='https://minmod.isi.edu/ontology-simple/grade', target_id=8),\n",
       " NodeTriple(source_id=1, link_label='https://minmod.isi.edu/ontology-simple/grade', target_id=9),\n",
       " NodeTriple(source_id=1, link_label='https://minmod.isi.edu/ontology-simple/resource_tonnage', target_id=10)}"
      ]
     },
     "execution_count": 8,
     "metadata": {},
     "output_type": "execute_result"
    }
   ],
   "source": [
    "out[0][-1].pred_triples"
   ]
  },
  {
   "cell_type": "code",
   "execution_count": 4,
   "metadata": {},
   "outputs": [],
   "source": [
    "test_ex = test_exs[-1]"
   ]
  },
  {
   "cell_type": "code",
   "execution_count": 5,
   "metadata": {},
   "outputs": [
    {
     "name": "stderr",
     "output_type": "stream",
     "text": [
      "\u001b[32m2024-09-10 12:17:49.557\u001b[0m | \u001b[34m\u001b[1mDEBUG   \u001b[0m | \u001b[36mream.actor_graph\u001b[0m:\u001b[36mcreate_actor\u001b[0m:\u001b[36m274\u001b[0m - \u001b[34m\u001b[1mDetermine the actor to run...\u001b[0m\n",
      "\u001b[32m2024-09-10 12:17:49.558\u001b[0m | \u001b[34m\u001b[1mDEBUG   \u001b[0m | \u001b[36mream.actor_graph\u001b[0m:\u001b[36mcreate_actor\u001b[0m:\u001b[36m276\u001b[0m - \u001b[34m\u001b[1mInitializing argument parser...\u001b[0m\n",
      "\u001b[32m2024-09-10 12:17:49.558\u001b[0m | \u001b[34m\u001b[1mDEBUG   \u001b[0m | \u001b[36mream.actor_graph\u001b[0m:\u001b[36mcreate_actor\u001b[0m:\u001b[36m296\u001b[0m - \u001b[34m\u001b[1mConstructing the actor...\u001b[0m\n",
      "\u001b[32m2024-09-10 12:17:49.604\u001b[0m | \u001b[34m\u001b[1mDEBUG   \u001b[0m | \u001b[36mMinmodGraphGenerationActor\u001b[0m:\u001b[36mream.actors.base\u001b[0m:\u001b[36mget_working_fs\u001b[0m:\u001b[36m98\u001b[0m - \u001b[34m\u001b[1mUsing working directory: /Users/rook/workspace/darpa-criticalmaas/data/ream/MinmodGraphGenerationActor/v112/013\u001b[0m\n",
      "\u001b[32m2024-09-10 12:17:49.734\u001b[0m | \u001b[1mINFO    \u001b[0m | \u001b[36msm.misc.ray_helper\u001b[0m:\u001b[36mray_init\u001b[0m:\u001b[36m102\u001b[0m - \u001b[1mInitialize ray with args: {'log_to_driver': False}\u001b[0m\n",
      "2024-09-10 12:17:50,791\tINFO worker.py:1781 -- Started a local Ray instance.\n"
     ]
    },
    {
     "data": {
      "application/vnd.jupyter.widget-view+json": {
       "model_id": "63a68c28162745eab6b23d800c1d3935",
       "version_major": 2,
       "version_minor": 0
      },
      "text/plain": [
       "Compute similarity matrix:   0%|          | 0/58 [00:00<?, ?it/s]"
      ]
     },
     "metadata": {},
     "output_type": "display_data"
    },
    {
     "name": "stderr",
     "output_type": "stream",
     "text": [
      "\u001b[32m2024-09-10 12:17:56.795\u001b[0m | \u001b[34m\u001b[1mDEBUG   \u001b[0m | \u001b[36mdsl.dsl\u001b[0m:\u001b[36mtrain_model\u001b[0m:\u001b[36m135\u001b[0m - \u001b[34m\u001b[1mPerformance:\u001b[0m\n",
      "\u001b[32m2024-09-10 12:17:56.817\u001b[0m | \u001b[34m\u001b[1mDEBUG   \u001b[0m | \u001b[36mdsl.dsl\u001b[0m:\u001b[36mtrain_model\u001b[0m:\u001b[36m149\u001b[0m - \u001b[34m\u001b[1mSave model...\u001b[0m\n"
     ]
    },
    {
     "name": "stdout",
     "output_type": "stream",
     "text": [
      "              precision    recall  f1-score   support\n",
      "\n",
      "           0       1.00      0.99      1.00      1083\n",
      "           1       0.89      0.96      0.92        57\n",
      "\n",
      "    accuracy                           0.99      1140\n",
      "   macro avg       0.94      0.98      0.96      1140\n",
      "weighted avg       0.99      0.99      0.99      1140\n",
      "\n"
     ]
    },
    {
     "name": "stderr",
     "output_type": "stream",
     "text": [
      "\u001b[32m2024-09-10 12:17:57.759\u001b[0m | \u001b[1mINFO    \u001b[0m | \u001b[36mtum.sm.dsl.main\u001b[0m:\u001b[36mgen_can_graph\u001b[0m:\u001b[36m133\u001b[0m - \u001b[1mCandidate Graph with: 16 nodes and 29 edges\u001b[0m\n"
     ]
    },
    {
     "name": "stdout",
     "output_type": "stream",
     "text": [
      "Performance of World_Tin_Tungsten_Deposit\n",
      "SmPrecisionRecallF1Output(precision=0.6, recall=0.6, f1=0.6, bijection=<sm.evaluation.sm_metrics.PartialBijection object at 0x336d739d0>, n_corrects=9.0, n_examples=15, n_predictions=15, gold_triples={NodeTriple(source_id=1, link_label='https://minmod.isi.edu/ontology-simple/category', target_id=9), NodeTriple(source_id=0, link_label='https://minmod.isi.edu/ontology-simple/latitude', target_id=6), NodeTriple(source_id=1, link_label='https://minmod.isi.edu/ontology-simple/commodity', target_id=10), NodeTriple(source_id=1, link_label='https://minmod.isi.edu/ontology-simple/cutoff_grade_unit', target_id=14), NodeTriple(source_id=0, link_label='https://minmod.isi.edu/ontology-simple/longitude', target_id=5), NodeTriple(source_id=1, link_label='https://minmod.isi.edu/ontology-simple/cutoff_grade', target_id=13), NodeTriple(source_id=0, link_label='http://www.w3.org/2000/01/rdf-schema#label', target_id=3), NodeTriple(source_id=1, link_label='https://minmod.isi.edu/ontology-simple/tonnage', target_id=7), NodeTriple(source_id=1, link_label='https://minmod.isi.edu/ontology-simple/tonnage_unit', target_id=8), NodeTriple(source_id=1, link_label='https://minmod.isi.edu/ontology-simple/grade', target_id=11), NodeTriple(source_id=1, link_label='https://minmod.isi.edu/ontology-simple/date', target_id=15), NodeTriple(source_id=0, link_label='https://minmod.isi.edu/ontology-simple/record_id', target_id=2), NodeTriple(source_id=0, link_label='https://minmod.isi.edu/ontology-simple/country', target_id=4), NodeTriple(source_id=0, link_label='https://minmod.isi.edu/ontology-simple/mineral_inventory', target_id=1), NodeTriple(source_id=1, link_label='https://minmod.isi.edu/ontology-simple/grade_unit', target_id=12)}, pred_triples={NodeTriple(source_id=1, link_label='https://minmod.isi.edu/ontology-simple/category', target_id=9), NodeTriple(source_id=1, link_label='https://minmod.isi.edu/ontology-simple/resource_grade', target_id=2), NodeTriple(source_id=1, link_label='https://minmod.isi.edu/ontology-simple/commodity', target_id=12), NodeTriple(source_id=0, link_label='https://minmod.isi.edu/ontology-simple/longitude', target_id=5), NodeTriple(source_id=1, link_label='https://minmod.isi.edu/ontology-simple/cutoff_grade', target_id=13), NodeTriple(source_id=1, link_label='https://minmod.isi.edu/ontology-simple/reserve_tonnage', target_id=6), NodeTriple(source_id=0, link_label='http://www.w3.org/2000/01/rdf-schema#label', target_id=3), NodeTriple(source_id=1, link_label='https://minmod.isi.edu/ontology-simple/tonnage', target_id=7), NodeTriple(source_id=0, link_label='https://minmod.isi.edu/ontology-simple/record_id', target_id=14), NodeTriple(source_id=1, link_label='https://minmod.isi.edu/ontology-simple/reserve_grade', target_id=15), NodeTriple(source_id=1, link_label='https://minmod.isi.edu/ontology-simple/grade', target_id=11), NodeTriple(source_id=0, link_label='https://minmod.isi.edu/ontology-simple/country', target_id=4), NodeTriple(source_id=0, link_label='https://minmod.isi.edu/ontology-simple/mineral_inventory', target_id=1), NodeTriple(source_id=0, link_label='http://www.w3.org/2000/01/rdf-schema#label', target_id=8), NodeTriple(source_id=1, link_label='https://minmod.isi.edu/ontology-simple/commodity', target_id=10)})\n"
     ]
    }
   ],
   "source": [
    "actor, sm, train_exs = predict(test_ex)"
   ]
  },
  {
   "cell_type": "code",
   "execution_count": 7,
   "metadata": {},
   "outputs": [
    {
     "data": {
      "application/vnd.jupyter.widget-view+json": {
       "model_id": "9a5107a705f2425fab95f79141d84c11",
       "version_major": 2,
       "version_minor": 0
      },
      "text/plain": [
       "HTML(value='<pre>\\n00.\\t<span style=\"background: #b7eb8f; color: black; padding: 2px; border-radius: 3px;\">[0]…"
      ]
     },
     "metadata": {},
     "output_type": "display_data"
    }
   ],
   "source": [
    "sm.print(env=\"notebook\")"
   ]
  },
  {
   "cell_type": "code",
   "execution_count": 8,
   "metadata": {},
   "outputs": [],
   "source": [
    "dsl = actor.graphinfer_actor.cangraph_actor.get_dsl()"
   ]
  },
  {
   "cell_type": "code",
   "execution_count": 9,
   "metadata": {},
   "outputs": [
    {
     "data": {
      "text/plain": [
       "[[SemanticTypePrediction(stype=SType(mos:MineralInventory--mos:resource_grade), score=0.14926494223508927, col_index=0, col_name='deposit_no'),\n",
       "  SemanticTypePrediction(stype=SType(mos:MineralInventory--mos:reserve_grade), score=0.07508409202491795, col_index=0, col_name='deposit_no')],\n",
       " [SemanticTypePrediction(stype=SType(mos:MineralSite--rdfs:label), score=0.8681363636363638, col_index=1, col_name='deposit_name'),\n",
       "  SemanticTypePrediction(stype=SType(mos:MineralInventory--mos:category), score=0.16024576682619857, col_index=1, col_name='deposit_name')],\n",
       " [SemanticTypePrediction(stype=SType(mos:MineralSite--mos:country), score=0.89, col_index=2, col_name='country'),\n",
       "  SemanticTypePrediction(stype=SType(mos:MineralSite--mos:deposit_type), score=0.16024576682619857, col_index=2, col_name='country')],\n",
       " [SemanticTypePrediction(stype=SType(mos:MineralSite--mos:longitude), score=0.16024576682619857, col_index=3, col_name='longdd'),\n",
       "  SemanticTypePrediction(stype=SType(mos:MineralInventory--mos:cutoff_grade), score=0.16024576682619857, col_index=3, col_name='longdd')],\n",
       " [SemanticTypePrediction(stype=SType(mos:MineralInventory--mos:reserve_tonnage), score=0.1705161608984297, col_index=4, col_name='latdd'),\n",
       "  SemanticTypePrediction(stype=SType(mos:MineralInventory--mos:resource_grade), score=0.16024576682619857, col_index=4, col_name='latdd')],\n",
       " [SemanticTypePrediction(stype=SType(mos:MineralInventory--mos:tonnage), score=0.5287356321839081, col_index=5, col_name='tonnage'),\n",
       "  SemanticTypePrediction(stype=SType(mos:MineralInventory--mos:reserve_tonnage), score=0.23, col_index=5, col_name='tonnage')],\n",
       " [SemanticTypePrediction(stype=SType(mos:MineralSite--rdfs:label), score=0.24652718798042475, col_index=6, col_name='tonnage_unit'),\n",
       "  SemanticTypePrediction(stype=SType(mos:MineralSite--mos:deposit_type), score=0.16024576682619857, col_index=6, col_name='tonnage_unit')],\n",
       " [SemanticTypePrediction(stype=SType(mos:MineralInventory--mos:category), score=0.93, col_index=7, col_name='category'),\n",
       "  SemanticTypePrediction(stype=SType(mos:MineralSite--mos:deposit_type), score=0.16024576682619857, col_index=7, col_name='category')],\n",
       " [SemanticTypePrediction(stype=SType(mos:MineralInventory--mos:commodity), score=0.85, col_index=8, col_name='commodity'),\n",
       "  SemanticTypePrediction(stype=SType(mos:MineralSite--mos:deposit_type), score=0.16249222892131876, col_index=8, col_name='commodity')],\n",
       " [SemanticTypePrediction(stype=SType(mos:MineralInventory--mos:grade), score=0.85, col_index=9, col_name='grade'),\n",
       "  SemanticTypePrediction(stype=SType(mos:MineralSite--mos:latitude), score=0.16024576682619857, col_index=9, col_name='grade')],\n",
       " [SemanticTypePrediction(stype=SType(mos:MineralInventory--mos:commodity), score=0.5617137099872872, col_index=10, col_name='grade_unit'),\n",
       "  SemanticTypePrediction(stype=SType(mos:MineralSite--mos:deposit_type), score=0.16024576682619857, col_index=10, col_name='grade_unit')],\n",
       " [SemanticTypePrediction(stype=SType(mos:MineralInventory--mos:cutoff_grade), score=0.6237254901960785, col_index=11, col_name='cutoff_grade'),\n",
       "  SemanticTypePrediction(stype=SType(mos:MineralSite--mos:latitude), score=0.16024576682619857, col_index=11, col_name='cutoff_grade')],\n",
       " [SemanticTypePrediction(stype=SType(mos:MineralSite--mos:deposit_type), score=0.16024576682619857, col_index=12, col_name='cutoff_grade_unit'),\n",
       "  SemanticTypePrediction(stype=SType(mos:MineralSite--mos:record_id), score=0.16024576682619857, col_index=12, col_name='cutoff_grade_unit')],\n",
       " [SemanticTypePrediction(stype=SType(mos:MineralInventory--mos:reserve_grade), score=0.16627519710623717, col_index=13, col_name='year'),\n",
       "  SemanticTypePrediction(stype=SType(mos:MineralInventory--mos:grade), score=0.16024576682619857, col_index=13, col_name='year')]]"
      ]
     },
     "execution_count": 9,
     "metadata": {},
     "output_type": "execute_result"
    }
   ],
   "source": [
    "dsl_main.get_semantic_types(dsl, test_ex.table.table, top_n=2)"
   ]
  },
  {
   "cell_type": "code",
   "execution_count": 10,
   "metadata": {},
   "outputs": [],
   "source": [
    "from sm.dataset import Example\n",
    "\n",
    "ex = Example(\n",
    "    id=test_ex.id,\n",
    "    table=dsl_main.DSLTable.from_column_based_table(test_ex.table.table),\n",
    "    sms=[],\n",
    ")\n",
    "\n",
    "stypes = dsl([ex], top_n=1)[0]"
   ]
  },
  {
   "cell_type": "code",
   "execution_count": 11,
   "metadata": {},
   "outputs": [],
   "source": [
    "from dsl.dsl import DSLConfig, sample_table_data"
   ]
  },
  {
   "cell_type": "code",
   "execution_count": 12,
   "metadata": {},
   "outputs": [
    {
     "data": {
      "application/vnd.jupyter.widget-view+json": {
       "model_id": "ce3098083556409f9f18450e21be7170",
       "version_major": 2,
       "version_minor": 0
      },
      "text/plain": [
       "Compute similarity matrix:   0%|          | 0/14 [00:00<?, ?it/s]"
      ]
     },
     "metadata": {},
     "output_type": "display_data"
    }
   ],
   "source": [
    "cfg = DSLConfig.get_instance()\n",
    "columns = ex.table.columns\n",
    "simmatrix = dsl.stype_db.get_similarity_matrix(columns, verbose=True)"
   ]
  },
  {
   "cell_type": "code",
   "execution_count": 13,
   "metadata": {},
   "outputs": [
    {
     "data": {
      "text/plain": [
       "DSLColumn(id='World_Tin_Tungsten_Deposit:6:tonnage_unit', table_id='World_Tin_Tungsten_Deposit', col_index=6, col_name='tonnage_unit', type=<ColumnType.STRING: 'string'>, type_stats={<ColumnType.NUMBER: 'number'>: 0.0, <ColumnType.STRING: 'string'>: 0.7048237940514871, <ColumnType.DATETIME: 'datetime'>: 0.0, <ColumnType.NULL: 'null'>: 0.29517620594851285}, size=4001, num_array=[], num_idx_array=[], str_array=['metric tons', 'metric tons', 'metric tons', 'metric tons', 'metric tons', 'metric tons', 'metric tons', 'metric tons', 'metric tons', 'metric tons', 'metric tons', 'metric tons', 'metric tons', 'metric tons', 'metric tons', 'metric tons', 'metric tons', 'metric tons', 'million metric tons', 'metric tons', 'metric tons', 'million metric tons', 'million metric tons', 'metric tons', 'metric tons', 'metric tons', 'metric tons', 'metric tons', 'metric tons', 'metric tons', 'million metric tons', 'million metric tons', 'million metric tons', 'metric tons', 'metric tons', 'million metric tons', 'million metric tons', 'million metric tons', 'metric tons', 'metric tons', 'metric tons', 'metric tons', 'metric tons', 'metric tons', 'metric tons', 'metric tons', 'metric tons', 'metric tons', 'million metric tons', 'million metric tons', 'million metric tons', 'metric tons', 'million metric tons', 'million metric tons', 'million metric tons', 'metric tons', 'metric tons', 'metric tons', 'metric tons', 'metric tons', 'metric tons', 'metric tons', 'metric tons', 'million metric tons', 'million metric tons', 'million metric tons', 'million metric tons', 'metric tons', 'metric tons', 'million metric tons', 'million metric tons', 'million metric tons', 'million metric tons', 'million metric tons', 'million metric tons', 'million metric tons', 'million metric tons', 'metric tons', 'million metric tons', 'metric tons', 'metric tons', 'million metric tons', 'million metric tons', 'million metric tons', 'million metric tons', 'million metric tons', 'million metric tons', 'million metric tons', 'million metric tons', 'million metric tons', 'million metric tons', 'million metric tons', 'million metric tons', 'metric tons', 'million metric tons', 'million metric tons', 'million metric tons', 'million metric tons', 'million metric tons', 'million metric tons', 'million metric tons', 'million metric tons', 'million metric tons', 'million metric tons', 'metric tons', 'metric tons', 'metric tons', 'million metric tons', 'million metric tons', 'million metric tons', 'million metric tons', 'million metric tons', 'million metric tons', 'million metric tons', 'million metric tons', 'metric tons', 'metric tons', 'metric tons', 'million metric tons', 'metric tons', 'metric tons', 'metric tons', 'metric tons', 'million metric tons', 'million metric tons', 'million metric tons', 'million metric tons', 'million metric tons', 'metric tons', 'metric tons', 'cubic metres', 'metric tons', 'metric tons', 'million metric tons', 'metric tons', 'metric tons', 'metric tons', 'million metric tons', 'million metric tons', 'million metric tons', 'cubic metres', 'cubic metres', 'metric tons', 'million metric tons', 'million metric tons', 'million metric tons', 'million metric tons', 'million metric tons', 'million metric tons', 'million metric tons', 'million metric tons', 'million metric tons', 'million metric tons', 'million metric tons', 'million metric tons', 'million metric tons', 'million metric tons', 'million metric tons', 'million metric tons', 'million metric tons', 'million metric tons', 'million metric tons', 'million metric tons', 'million metric tons', 'million metric tons', 'million metric tons', 'million metric tons', 'million metric tons', 'million metric tons', 'million metric tons', 'million metric tons', 'million metric tons', 'metric tons', 'metric tons', 'metric tons', 'metric tons', 'metric tons', 'metric tons', 'metric tons', 'metric tons', 'metric tons', 'metric tons', 'metric tons', 'metric tons', 'million metric tons', 'million metric tons', 'metric tons', 'metric tons', 'million metric tons', 'million metric tons', 'million metric tons', 'million metric tons', 'metric tons', 'metric tons', 'million metric tons', 'million metric tons', 'metric tons', 'metric tons', 'metric tons', 'million metric tons', 'million metric tons', 'million metric tons', 'million metric tons', 'million metric tons', 'million metric tons', 'metric tons', 'metric tons', 'million metric tons', 'million metric tons', 'million metric tons', 'million metric tons', 'million metric tons', 'million metric tons', 'million metric tons', 'million metric tons', 'million metric tons', 'million metric tons', 'million metric tons', 'million metric tons', 'million metric tons', 'million metric tons', 'million metric tons', 'million metric tons', 'million metric tons', 'million metric tons', 'million metric tons', 'million metric tons', 'million metric tons', 'million metric tons', 'million metric tons', 'million metric tons', 'million metric tons', 'million metric tons', 'million metric tons', 'million metric tons', 'million metric tons', 'million metric tons', 'million metric tons', 'metric tons', 'metric tons', 'metric tons', 'metric tons', 'million metric tons', 'metric tons', 'million metric tons', 'metric tons', 'metric tons', 'million metric tons', 'metric tons', 'million metric tons', 'million metric tons', 'million metric tons', 'million metric tons', 'million metric tons', 'million metric tons', 'million metric tons', 'million metric tons', 'million metric tons', 'million metric tons', 'million metric tons', 'metric tons', 'metric tons', 'metric tons', 'metric tons', 'metric tons', 'metric tons', 'metric tons', 'metric tons', 'metric tons', 'metric tons', 'metric tons', 'metric tons', 'metric tons', 'metric tons', 'metric tons', 'metric tons', 'metric tons', 'million metric tons', 'metric tons', 'metric tons', 'million metric tons', 'metric tons', 'metric tons', 'metric tons', 'metric tons', 'million metric tons', 'million metric tons', 'million metric tons', 'million metric tons', 'million metric tons', 'million metric tons', 'million metric tons', 'metric tons', 'metric tons', 'metric tons', 'metric tons', 'million metric tons', 'million metric tons', 'metric tons', 'million metric tons', 'million metric tons', 'million metric tons', 'metric tons', 'million metric tons', 'metric tons', 'metric tons', 'metric tons', 'million metric tons', 'million metric tons', 'million metric tons', 'million metric tons', 'million metric tons', 'million metric tons', 'million metric tons', 'million metric tons', 'million metric tons', 'million metric tons', 'million metric tons', 'million metric tons', 'million metric tons', 'million metric tons', 'million metric tons', 'million metric tons', 'million metric tons', 'million metric tons', 'million metric tons', 'million metric tons', 'million metric tons', 'million metric tons', 'million metric tons', 'million metric tons', 'million metric tons', 'million metric tons', 'million metric tons', 'million metric tons', 'million metric tons', 'million metric tons', 'million metric tons', 'million metric tons', 'million metric tons', 'million metric tons', 'million metric tons', 'million metric tons', 'million metric tons', 'million metric tons', 'million metric tons', 'million metric tons', 'million metric tons', 'million metric tons', 'million metric tons', 'million metric tons', 'million metric tons', 'million metric tons', 'million metric tons', 'million metric tons', 'million metric tons', 'million metric tons', 'million metric tons', 'million metric tons', 'million metric tons', 'million metric tons', 'million metric tons', 'million metric tons', 'million metric tons', 'million metric tons', 'million metric tons', 'million metric tons', 'million metric tons', 'million metric tons', 'million metric tons', 'million metric tons', 'million metric tons', 'million metric tons', 'million metric tons', 'million metric tons', 'million metric tons', 'million metric tons', 'million metric tons', 'million metric tons', 'million metric tons', 'million metric tons', 'million metric tons', 'million metric tons', 'million metric tons', 'million metric tons', 'million metric tons', 'million metric tons', 'million metric tons', 'million metric tons', 'million metric tons', 'million metric tons', 'million metric tons', 'million metric tons', 'million metric tons', 'million metric tons', 'million metric tons', 'million metric tons', 'million metric tons', 'million metric tons', 'million metric tons', 'million metric tons', 'million metric tons', 'million metric tons', 'million metric tons', 'million metric tons', 'million metric tons', 'million metric tons', 'million metric tons', 'million metric tons', 'million metric tons', 'million metric tons', 'million metric tons', 'million metric tons', 'million metric tons', 'million metric tons', 'million metric tons', 'million metric tons', 'million metric tons', 'million metric tons', 'million metric tons', 'million metric tons', 'million metric tons', 'million metric tons', 'million metric tons', 'million metric tons', 'million metric tons', 'million metric tons', 'million metric tons', 'million metric tons', 'million metric tons', 'million metric tons', 'million metric tons', 'million metric tons', 'million metric tons', 'million metric tons', 'million metric tons', 'million metric tons', 'million metric tons', 'million metric tons', 'million metric tons', 'million metric tons', 'million metric tons', 'million metric tons', 'million metric tons', 'million metric tons', 'million metric tons', 'million metric tons', 'million metric tons', 'million metric tons', 'million metric tons', 'million metric tons', 'million metric tons', 'million metric tons', 'million metric tons', 'million metric tons', 'million metric tons', 'million metric tons', 'million metric tons', 'million metric tons', 'million metric tons', 'million metric tons', 'million metric tons', 'million metric tons', 'million metric tons', 'million metric tons', 'million metric tons', 'million metric tons', 'million metric tons', 'million metric tons', 'million metric tons', 'million metric tons', 'million metric tons', 'million metric tons', 'million metric tons', 'million metric tons', 'million metric tons', 'million metric tons', 'million metric tons', 'million metric tons', 'million metric tons', 'million metric tons', 'million metric tons', 'million metric tons', 'million metric tons', 'million metric tons', 'million metric tons', 'million metric tons', 'million metric tons', 'million metric tons', 'million metric tons', 'million metric tons', 'million metric tons', 'million metric tons', 'million metric tons', 'million metric tons', 'million metric tons', 'million metric tons', 'million metric tons', 'million metric tons', 'million metric tons', 'million metric tons', 'million metric tons', 'million metric tons', 'million metric tons', 'million metric tons', 'million metric tons', 'million metric tons', 'million metric tons', 'million metric tons', 'million metric tons', 'million metric tons', 'million metric tons', 'million metric tons', 'million metric tons', 'million metric tons', 'million metric tons', 'million metric tons', 'million metric tons', 'million metric tons', 'million metric tons', 'million metric tons', 'million metric tons', 'million metric tons', 'million metric tons', 'million metric tons', 'million metric tons', 'million metric tons', 'million metric tons', 'million metric tons', 'million metric tons', 'million metric tons', 'million metric tons', 'million metric tons', 'million metric tons', 'million metric tons', 'million metric tons', 'million metric tons', 'million metric tons', 'million metric tons', 'million metric tons', 'million metric tons', 'million metric tons', 'million metric tons', 'million metric tons', 'million metric tons', 'million metric tons', 'million metric tons', 'million metric tons', 'million metric tons', 'million metric tons', 'million metric tons', 'million metric tons', 'million metric tons', 'million metric tons', 'million metric tons', 'million metric tons', 'metric tons', 'million metric tons', 'million metric tons', 'metric tons', 'million metric tons', 'million metric tons', 'metric tons', 'metric tons', 'metric tons', 'million metric tons', 'million metric tons', 'million metric tons', 'million metric tons', 'million metric tons', 'metric tons', 'million metric tons', 'metric tons', 'million metric tons', 'metric tons', 'million metric tons', 'metric tons', 'million metric tons', 'metric tons', 'million metric tons', 'metric tons', 'million metric tons', 'metric tons', 'million metric tons', 'metric tons', 'million metric tons', 'metric tons', 'million metric tons', 'metric tons', 'million metric tons', 'million metric tons', 'million metric tons', 'million metric tons', 'million metric tons', 'million metric tons', 'million metric tons', 'million metric tons', 'million metric tons', 'million metric tons', 'million metric tons', 'million metric tons', 'million metric tons', 'million metric tons', 'million metric tons', 'million metric tons', 'million metric tons', 'million metric tons', 'million metric tons', 'million metric tons', 'million metric tons', 'million metric tons', 'million metric tons', 'million metric tons', 'million metric tons', 'million metric tons', 'million metric tons', 'million metric tons', 'million metric tons', 'million metric tons', 'million metric tons', 'million metric tons', 'million metric tons', 'million metric tons', 'million metric tons', 'million metric tons', 'million metric tons', 'million metric tons', 'million metric tons', 'metric tons', 'metric tons', 'metric tons', 'metric tons', 'million metric tons', 'million metric tons', 'million metric tons', 'million metric tons', 'million metric tons', 'million metric tons', 'million metric tons', 'million metric tons', 'million metric tons', 'million metric tons', 'million metric tons', 'million metric tons', 'million metric tons', 'million metric tons', 'million metric tons', 'million metric tons', 'million metric tons', 'million metric tons', 'million metric tons', 'million metric tons', 'million metric tons', 'million metric tons', 'million metric tons', 'million metric tons', 'million metric tons', 'million metric tons', 'million metric tons', 'million metric tons', 'million metric tons', 'metric tons', 'metric tons', 'metric tons', 'metric tons', 'metric tons', 'million metric tons', 'million metric tons', 'million metric tons', 'million metric tons', 'million metric tons', 'million metric tons', 'million metric tons', 'million metric tons', 'million metric tons', 'million metric tons', 'million metric tons', 'million metric tons', 'million metric tons', 'million metric tons', 'million metric tons', 'million metric tons', 'million metric tons', 'million metric tons', 'million metric tons', 'million metric tons', 'metric tons', 'metric tons', 'metric tons', 'million metric tons', 'million metric tons', 'million metric tons', 'million metric tons', 'million metric tons', 'million metric tons', 'million metric tons', 'million metric tons', 'million metric tons', 'million metric tons', 'million metric tons', 'million metric tons', 'million metric tons', 'million metric tons', 'million metric tons', 'million metric tons', 'million metric tons', 'million metric tons', 'million metric tons', 'million metric tons', 'million metric tons', 'million metric tons', 'million metric tons', 'million metric tons', 'million metric tons', 'million metric tons', 'million metric tons', 'million metric tons', 'million metric tons', 'million metric tons', 'million metric tons', 'million metric tons', 'million metric tons', 'million metric tons', 'million metric tons', 'million metric tons', 'million metric tons', 'million metric tons', 'million metric tons', 'million metric tons', 'million metric tons', 'million metric tons', 'million metric tons', 'million metric tons', 'million metric tons', 'million metric tons', 'million metric tons', 'million metric tons', 'million metric tons', 'million metric tons', 'million metric tons', 'million metric tons', 'million metric tons', 'million metric tons', 'million metric tons', 'million metric tons', 'million metric tons', 'million metric tons', 'million metric tons', 'million metric tons', 'million metric tons', 'million metric tons', 'million metric tons', 'million metric tons', 'million metric tons', 'million metric tons', 'million metric tons', 'million metric tons', 'million metric tons', 'million metric tons', 'million metric tons', 'million metric tons', 'million metric tons', 'million metric tons', 'million metric tons', 'million metric tons', 'million metric tons', 'million metric tons', 'million metric tons', 'million metric tons', 'million metric tons', 'million metric tons', 'million metric tons', 'million metric tons', 'million metric tons', 'million metric tons', 'million metric tons', 'million metric tons', 'million metric tons', 'million metric tons', 'million metric tons', 'million metric tons', 'million metric tons', 'million metric tons', 'million metric tons', 'million metric tons', 'million metric tons', 'million metric tons', 'million metric tons', 'million metric tons', 'million metric tons', 'million metric tons', 'million metric tons', 'million metric tons', 'million metric tons', 'million metric tons', 'million metric tons', 'million metric tons', 'million metric tons', 'million metric tons', 'million metric tons', 'million metric tons', 'million metric tons', 'million metric tons', 'million metric tons', 'million metric tons', 'million metric tons', 'million metric tons', 'million metric tons', 'million metric tons', 'million metric tons', 'million metric tons', 'million metric tons', 'million metric tons', 'million metric tons', 'million metric tons', 'million metric tons', 'million metric tons', 'million metric tons', 'million metric tons', 'million metric tons', 'million metric tons', 'million metric tons', 'million metric tons', 'million metric tons', 'million metric tons', 'million metric tons', 'million metric tons', 'million metric tons', 'million metric tons', 'million metric tons', 'million metric tons', 'million metric tons', 'million metric tons', 'million metric tons', 'million metric tons', 'million metric tons', 'million metric tons', 'million metric tons', 'million metric tons', 'million metric tons', 'million metric tons', 'million metric tons', 'million metric tons', 'million metric tons', 'million metric tons', 'million metric tons', 'million metric tons', 'million metric tons', 'million metric tons', 'million metric tons', 'million metric tons', 'million metric tons', 'million metric tons', 'million metric tons', 'million metric tons', 'million metric tons', 'million metric tons', 'million metric tons', 'million metric tons', 'million metric tons', 'million metric tons', 'million metric tons', 'million metric tons', 'million metric tons', 'million metric tons', 'million metric tons', 'million metric tons', 'million metric tons', 'million metric tons', 'million metric tons', 'million metric tons', 'million metric tons', 'million metric tons', 'million metric tons', 'million metric tons', 'million metric tons', 'million metric tons', 'million metric tons', 'million metric tons', 'million metric tons', 'million metric tons', 'million metric tons', 'million metric tons', 'million metric tons', 'million metric tons', 'million metric tons', 'million metric tons', 'million metric tons', 'million metric tons', 'million metric tons', 'million metric tons', 'million metric tons', 'million metric tons', 'million metric tons', 'million metric tons', 'million metric tons', 'million metric tons', 'million metric tons', 'million metric tons', 'million metric tons', 'million metric tons', 'million metric tons', 'million metric tons', 'million metric tons', 'million metric tons', 'million metric tons', 'million metric tons', 'million metric tons', 'million metric tons', 'million metric tons', 'million metric tons', 'million metric tons', 'million metric tons', 'million metric tons', 'million metric tons', 'million metric tons', 'million metric tons', 'million metric tons', 'million metric tons', 'million metric tons', 'million metric tons', 'million metric tons', 'million metric tons', 'million metric tons', 'million metric tons', 'million metric tons', 'million metric tons', 'million metric tons', 'million metric tons', 'million metric tons', 'million metric tons', 'million metric tons', 'million metric tons', 'million metric tons', 'million metric tons', 'million metric tons', 'million metric tons', 'million metric tons', 'million metric tons', 'million metric tons', 'million metric tons', 'million metric tons', 'million metric tons', 'million metric tons', 'million metric tons', 'million metric tons', 'million metric tons', 'million metric tons', 'million metric tons', 'million metric tons', 'million metric tons', 'million metric tons', 'million metric tons', 'million metric tons', 'million metric tons', 'million metric tons', 'million metric tons', 'million metric tons', 'million metric tons', 'million metric tons', 'million metric tons', 'million metric tons', 'million metric tons', 'million metric tons', 'million metric tons', 'million metric tons', 'million metric tons', 'million metric tons', 'million metric tons', 'million metric tons', 'million metric tons', 'million metric tons', 'million metric tons', 'million metric tons', 'million metric tons', 'million metric tons', 'million metric tons', 'million metric tons', 'million metric tons', 'million metric tons', 'million metric tons', 'million metric tons', 'million metric tons', 'million metric tons', 'million metric tons', 'million metric tons', 'million metric tons', 'million metric tons', 'million metric tons', 'million metric tons', 'million metric tons', 'million metric tons', 'million metric tons', 'million metric tons', 'million metric tons', 'million metric tons', 'million metric tons', 'million metric tons', 'million metric tons', 'million metric tons', 'million metric tons', 'million metric tons', 'million metric tons', 'million metric tons', 'million metric tons', 'million metric tons', 'million metric tons', 'million metric tons', 'million metric tons', 'million metric tons', 'million metric tons', 'million metric tons', 'million metric tons', 'million metric tons', 'million metric tons', 'million metric tons', 'million metric tons', 'million metric tons', 'million metric tons', 'million metric tons', 'million metric tons', 'million metric tons', 'million metric tons', 'million metric tons', 'million metric tons', 'million metric tons', 'million metric tons', 'million metric tons', 'million metric tons', 'million metric tons', 'million metric tons', 'million metric tons', 'million metric tons', 'million metric tons', 'million metric tons', 'million metric tons', 'million metric tons', 'million metric tons', 'million metric tons', 'million metric tons', 'million metric tons', 'million metric tons', 'million metric tons', 'million metric tons', 'million metric tons', 'million metric tons', 'million metric tons', 'million metric tons', 'million metric tons', 'million metric tons', 'million metric tons', 'million metric tons', 'million metric tons', 'million metric tons', 'million metric tons', 'million metric tons', 'million metric tons', 'million metric tons', 'million metric tons', 'million metric tons', 'million metric tons', 'million metric tons', 'million metric tons', 'million metric tons', 'million metric tons', 'million metric tons', 'million metric tons', 'million metric tons', 'million metric tons', 'million metric tons', 'million metric tons', 'million metric tons', 'million metric tons', 'million metric tons', 'million metric tons', 'million metric tons', 'million metric tons', 'million metric tons', 'million metric tons', 'million metric tons', 'million metric tons', 'million metric tons', 'million metric tons', 'million metric tons', 'million metric tons', 'million metric tons', 'million metric tons', 'million metric tons', 'million metric tons', 'million metric tons', 'million metric tons', 'million metric tons', 'million metric tons', 'million metric tons', 'million metric tons', 'million metric tons', 'million metric tons', 'million metric tons', 'million metric tons', 'million metric tons', 'million metric tons', 'million metric tons', 'million metric tons', 'million metric tons', 'million metric tons', 'million metric tons', 'million metric tons', 'million metric tons', 'million metric tons', 'million metric tons', 'million metric tons', 'million metric tons', 'million metric tons', 'million metric tons', 'million metric tons', 'million metric tons', 'million metric tons', 'million metric tons', 'million metric tons', 'million metric tons', 'million metric tons', 'million metric tons', 'million metric tons', 'million metric tons', 'million metric tons', 'million metric tons', 'million metric tons', 'million metric tons', 'million metric tons', 'million metric tons', 'million metric tons', 'million metric tons', 'million metric tons', 'million metric tons', 'million metric tons', 'million metric tons', 'million metric tons', 'million metric tons', 'million metric tons', 'million metric tons', 'million metric tons', 'million metric tons', 'million metric tons', 'million metric tons', 'million metric tons', 'million metric tons', 'million metric tons', 'million metric tons', 'million metric tons', 'million metric tons', 'million metric tons', 'million metric tons', 'million metric tons', 'million metric tons', 'million metric tons', 'million metric tons', 'million metric tons', 'million metric tons', 'million metric tons', 'million metric tons', 'million metric tons', 'million metric tons', 'million metric tons', 'million metric tons', 'million metric tons', 'million metric tons', 'million metric tons', 'million metric tons', 'million metric tons', 'million metric tons', 'million metric tons', 'million metric tons', 'million metric tons', 'million metric tons', 'million metric tons', 'million metric tons', 'million metric tons', 'million metric tons', 'million metric tons', 'million metric tons', 'million metric tons', 'million metric tons', 'million metric tons', 'million metric tons', 'million metric tons', 'million metric tons', 'million metric tons', 'million metric tons', 'million metric tons', 'million metric tons', 'million metric tons', 'million metric tons', 'million metric tons', 'million metric tons', 'million metric tons', 'million metric tons', 'million metric tons', 'million metric tons', 'million metric tons', 'million metric tons', 'million metric tons', 'million metric tons', 'million metric tons', 'million metric tons', 'million metric tons', 'million metric tons', 'million metric tons', 'million metric tons', 'million metric tons', 'million metric tons', 'million metric tons', 'million metric tons', 'million metric tons', 'million metric tons', 'million metric tons', 'million metric tons', 'million metric tons', 'million metric tons', 'million metric tons', 'million metric tons', 'million metric tons', 'million metric tons', 'million metric tons', 'million metric tons', 'million metric tons', 'million metric tons', 'million metric tons', 'million metric tons', 'million metric tons', 'million metric tons', 'million metric tons', 'million metric tons', 'million metric tons', 'million metric tons', 'million metric tons', 'million metric tons', 'million metric tons', 'million metric tons', 'million metric tons', 'million metric tons', 'million metric tons', 'million metric tons', 'million metric tons', 'million metric tons', 'million metric tons', 'million metric tons', 'million metric tons', 'million metric tons', 'million metric tons', 'million metric tons', 'million metric tons', 'million metric tons', 'million metric tons', 'million metric tons', 'million metric tons', 'million metric tons', 'million metric tons', 'million metric tons', 'million metric tons', 'million metric tons', 'million metric tons', 'million metric tons', 'million metric tons', 'million metric tons', 'million metric tons', 'million metric tons', 'million metric tons', 'million metric tons', 'million metric tons', 'million metric tons', 'million metric tons', 'million metric tons', 'million metric tons', 'million metric tons', 'million metric tons', 'million metric tons', 'million metric tons', 'million metric tons', 'million metric tons', 'million metric tons', 'million metric tons', 'million metric tons', 'million metric tons', 'million metric tons', 'million metric tons', 'million metric tons', 'million metric tons', 'million metric tons', 'million metric tons', 'million metric tons', 'million metric tons', 'million metric tons', 'million metric tons', 'million metric tons', 'million metric tons', 'million metric tons', 'million metric tons', 'million metric tons', 'million metric tons', 'million metric tons', 'million metric tons', 'million metric tons', 'million metric tons', 'million metric tons', 'million metric tons', 'million metric tons', 'million metric tons', 'million metric tons', 'million metric tons', 'million metric tons', 'million metric tons', 'million metric tons', 'million metric tons', 'million metric tons', 'million metric tons', 'million metric tons', 'million metric tons', 'million metric tons', 'million metric tons', 'million metric tons', 'million metric tons', 'million metric tons', 'million metric tons', 'million metric tons', 'million metric tons', 'million metric tons', 'million metric tons', 'million metric tons', 'million metric tons', 'million metric tons', 'million metric tons', 'million metric tons', 'million metric tons', 'million metric tons', 'million metric tons', 'million metric tons', 'million metric tons', 'million metric tons', 'million metric tons', 'million metric tons', 'million metric tons', 'million metric tons', 'million metric tons', 'million metric tons', 'million metric tons', 'million metric tons', 'million metric tons', 'million metric tons', 'million metric tons', 'million metric tons', 'million metric tons', 'million metric tons', 'million metric tons', 'million metric tons', 'million metric tons', 'million metric tons', 'million metric tons', 'million metric tons', 'million metric tons', 'million metric tons', 'million metric tons', 'million metric tons', 'million metric tons', 'million metric tons', 'million metric tons', 'million metric tons', 'million metric tons', 'million metric tons', 'million metric tons', 'million metric tons', 'million metric tons', 'million metric tons', 'million metric tons', 'million metric tons', 'million metric tons', 'million metric tons', 'million metric tons', 'million metric tons', 'million metric tons', 'million metric tons', 'million metric tons', 'million metric tons', 'million metric tons', 'million metric tons', 'million metric tons', 'million metric tons', 'million metric tons', 'million metric tons', 'million metric tons', 'million metric tons', 'million metric tons', 'million metric tons', 'million metric tons', 'million metric tons', 'million metric tons', 'million metric tons', 'million metric tons', 'million metric tons', 'million metric tons', 'million metric tons', 'million metric tons', 'million metric tons', 'million metric tons', 'million metric tons', 'million metric tons', 'million metric tons', 'million metric tons', 'million metric tons', 'million metric tons', 'million metric tons', 'million metric tons', 'million metric tons', 'million metric tons', 'million metric tons', 'million metric tons', 'million metric tons', 'million metric tons', 'million metric tons', 'million metric tons', 'million metric tons', 'million metric tons', 'million metric tons', 'million metric tons', 'million metric tons', 'million metric tons', 'million metric tons', 'million metric tons', 'million metric tons', 'million metric tons', 'million metric tons', 'million metric tons', 'million metric tons', 'million metric tons', 'million metric tons', 'million metric tons', 'million metric tons', 'million metric tons', 'million metric tons', 'million metric tons', 'million metric tons', 'million metric tons', 'million metric tons', 'million metric tons', 'million metric tons', 'million metric tons', 'million metric tons', 'million metric tons', 'million metric tons', 'million metric tons', 'million metric tons', 'million metric tons', 'million metric tons', 'million metric tons', 'million metric tons', 'million metric tons', 'million metric tons', 'million metric tons', 'million metric tons', 'million metric tons', 'million metric tons', 'million metric tons', 'million metric tons', 'million metric tons', 'million metric tons', 'million metric tons', 'million metric tons', 'million metric tons', 'million metric tons', 'million metric tons', 'million metric tons', 'million metric tons', 'million metric tons', 'million metric tons', 'million metric tons', 'million metric tons', 'million metric tons', 'million metric tons', 'million metric tons', 'million metric tons', 'million metric tons', 'million metric tons', 'million metric tons', 'million metric tons', 'million metric tons', 'million metric tons', 'million metric tons', 'million metric tons', 'million metric tons', 'million metric tons', 'million metric tons', 'million metric tons', 'million metric tons', 'million metric tons', 'million metric tons', 'million metric tons', 'million metric tons', 'million metric tons', 'million metric tons', 'million metric tons', 'million metric tons', 'million metric tons', 'million metric tons', 'million metric tons', 'million metric tons', 'million metric tons', 'million metric tons', 'million metric tons', 'million metric tons', 'million metric tons', 'million metric tons', 'million metric tons', 'million metric tons', 'million metric tons', 'million metric tons', 'million metric tons', 'million metric tons', 'million metric tons', 'million metric tons', 'million metric tons', 'million metric tons', 'million metric tons', 'million metric tons', 'million metric tons', 'million metric tons', 'million metric tons', 'million metric tons', 'million metric tons', 'million metric tons', 'million metric tons', 'million metric tons', 'million metric tons', 'million metric tons', 'million metric tons', 'million metric tons', 'million metric tons', 'million metric tons', 'million metric tons', 'million metric tons', 'million metric tons', 'million metric tons', 'million metric tons', 'million metric tons', 'million metric tons', 'million metric tons', 'million metric tons', 'million metric tons', 'million metric tons', 'million metric tons', 'million metric tons', 'million metric tons', 'million metric tons', 'million metric tons', 'million metric tons', 'million metric tons', 'million metric tons', 'million metric tons', 'million metric tons', 'million metric tons', 'million metric tons', 'million metric tons', 'million metric tons', 'million metric tons', 'million metric tons', 'million metric tons', 'million metric tons', 'million metric tons', 'million metric tons', 'million metric tons', 'million metric tons', 'million metric tons', 'million metric tons', 'million metric tons', 'million metric tons', 'million metric tons', 'million metric tons', 'million metric tons', 'million metric tons', 'million metric tons', 'million metric tons', 'million metric tons', 'million metric tons', 'million metric tons', 'million metric tons', 'million metric tons', 'million metric tons', 'million metric tons', 'million metric tons', 'million metric tons', 'million metric tons', 'million metric tons', 'million metric tons', 'million metric tons', 'million metric tons', 'million metric tons', 'million metric tons', 'million metric tons', 'million metric tons', 'million metric tons', 'million metric tons', 'million metric tons', 'million metric tons', 'million metric tons', 'million metric tons', 'million metric tons', 'million metric tons', 'million metric tons', 'million metric tons', 'million metric tons', 'million metric tons', 'million metric tons', 'million metric tons', 'million metric tons', 'million metric tons', 'million metric tons', 'million metric tons', 'million metric tons', 'million metric tons', 'million metric tons', 'million metric tons', 'million metric tons', 'million metric tons', 'million metric tons', 'million metric tons', 'million metric tons', 'million metric tons', 'million metric tons', 'million metric tons', 'million metric tons', 'million metric tons', 'million metric tons', 'million metric tons', 'million metric tons', 'million metric tons', 'million metric tons', 'million metric tons', 'million metric tons', 'million metric tons', 'million metric tons', 'million metric tons', 'million metric tons', 'million metric tons', 'million metric tons', 'million metric tons', 'million metric tons', 'million metric tons', 'million metric tons', 'million metric tons', 'million metric tons', 'million metric tons', 'million metric tons', 'million metric tons', 'million metric tons', 'million metric tons', 'million metric tons', 'million metric tons', 'million metric tons', 'million metric tons', 'million metric tons', 'million metric tons', 'million metric tons', 'million metric tons', 'million metric tons', 'million metric tons', 'million metric tons', 'million metric tons', 'million metric tons', 'million metric tons', 'million metric tons', 'million metric tons', 'million metric tons', 'million metric tons', 'million metric tons', 'million metric tons', 'million metric tons', 'million metric tons', 'million metric tons', 'million metric tons', 'million metric tons', 'million metric tons', 'million metric tons', 'million metric tons', 'million metric tons', 'metric tons', 'metric tons', 'metric tons', 'metric tons', 'metric tons', 'metric tons', 'metric tons', 'metric tons', 'metric tons', 'metric tons', 'metric tons', 'metric tons', 'metric tons', 'metric tons', 'metric tons', 'metric tons', 'metric tons', 'metric tons', 'million metric tons', 'million metric tons', 'metric tons', 'metric tons', 'metric tons', 'million metric tons', 'million metric tons', 'million metric tons', 'million metric tons', 'million metric tons', 'million metric tons', 'million metric tons', 'million metric tons', 'million metric tons', 'million metric tons', 'million metric tons', 'million metric tons', 'million metric tons', 'million metric tons', 'million metric tons', 'million metric tons', 'million metric tons', 'million metric tons', 'million metric tons', 'million metric tons', 'million metric tons', 'million metric tons', 'million metric tons', 'million metric tons', 'million metric tons', 'million metric tons', 'million metric tons', 'million metric tons', 'metric tons', 'metric tons', 'metric tons', 'metric tons', 'metric tons', 'metric tons', 'metric tons', 'metric tons', 'metric tons', 'metric tons', 'million metric tons', 'million metric tons', 'million metric tons', 'million metric tons', 'million metric tons', 'million metric tons', 'million metric tons', 'million metric tons', 'million metric tons', 'million metric tons', 'million metric tons', 'million metric tons', 'million metric tons', 'million metric tons', 'million metric tons', 'million metric tons', 'million metric tons', 'million metric tons', 'million metric tons', 'million metric tons', 'million metric tons', 'million metric tons', 'million metric tons', 'million metric tons', 'million metric tons', 'million metric tons', 'million metric tons', 'million metric tons', 'million metric tons', 'million metric tons', 'million metric tons', 'million metric tons', 'million metric tons', 'million metric tons', 'million metric tons', 'million metric tons', 'million metric tons', 'million metric tons', 'million metric tons', 'million metric tons', 'million metric tons', 'million metric tons', 'million metric tons', 'million metric tons', 'million metric tons', 'million metric tons', 'million metric tons', 'million metric tons', 'million metric tons', 'million metric tons', 'million metric tons', 'million metric tons', 'million metric tons', 'million metric tons', 'million metric tons', 'million metric tons', 'million metric tons', 'million metric tons', 'million metric tons', 'million metric tons', 'million metric tons', 'million metric tons', 'million metric tons', 'million metric tons', 'metric tons', 'metric tons', 'metric tons', 'metric tons', 'metric tons', 'metric tons', 'metric tons', 'metric tons', 'metric tons', 'metric tons', 'metric tons', 'metric tons', 'metric tons', 'metric tons', 'metric tons', 'metric tons', 'metric tons', 'metric tons', 'metric tons', 'metric tons', 'metric tons', 'metric tons', 'metric tons', 'metric tons', 'million metric tons', 'million metric tons', 'million metric tons', 'million metric tons', 'million metric tons', 'million metric tons', 'million metric tons', 'million metric tons', 'million metric tons', 'million metric tons', 'million metric tons', 'million metric tons', 'million metric tons', 'million metric tons', 'million metric tons', 'million metric tons', 'million metric tons', 'million metric tons', 'million metric tons', 'million metric tons', 'million metric tons', 'million metric tons', 'million metric tons', 'million metric tons', 'million metric tons', 'million metric tons', 'million metric tons', 'million metric tons', 'million metric tons', 'million metric tons', 'million metric tons', 'million metric tons', 'metric tons', 'metric tons', 'metric tons', 'metric tons', 'metric tons', 'million metric tons', 'metric tons', 'metric tons', 'metric tons', 'metric tons', 'metric tons', 'metric tons', 'metric tons', 'metric tons', 'metric tons', 'metric tons', 'metric tons', 'metric tons', 'metric tons', 'metric tons', 'metric tons', 'metric tons', 'metric tons', 'metric tons', 'metric tons', 'metric tons', 'metric tons', 'metric tons', 'metric tons', 'metric tons', 'metric tons', 'metric tons', 'metric tons', 'metric tons', 'metric tons', 'metric tons', 'metric tons', 'metric tons', 'metric tons', 'metric tons', 'metric tons', 'metric tons', 'metric tons', 'metric tons', 'metric tons', 'metric tons', 'metric tons', 'metric tons', 'metric tons', 'metric tons', 'metric tons', 'metric tons', 'metric tons', 'metric tons', 'metric tons', 'metric tons', 'metric tons', 'metric tons', 'metric tons', 'metric tons', 'metric tons', 'metric tons', 'metric tons', 'metric tons', 'metric tons', 'metric tons', 'metric tons', 'metric tons', 'metric tons', 'metric tons', 'metric tons', 'metric tons', 'metric tons', 'metric tons', 'metric tons', 'metric tons', 'metric tons', 'million metric tons', 'million metric tons', 'million metric tons', 'million metric tons', 'metric tons', 'million metric tons', 'million metric tons', 'million metric tons', 'million metric tons', 'million metric tons', 'million metric tons', 'million metric tons', 'million metric tons', 'metric tons', 'metric tons', 'metric tons', 'metric tons', 'metric tons', 'metric tons', 'metric tons', 'million metric tons', 'million metric tons', 'metric tons', 'metric tons', 'metric tons', 'metric tons', 'metric tons', 'metric tons', 'metric tons', 'million metric tons', 'million metric tons', 'metric tons', 'metric tons', 'metric tons', 'metric tons', 'metric tons', 'metric tons', 'metric tons', 'million metric tons', 'million metric tons', 'metric tons', 'metric tons', 'million metric tons', 'metric tons', 'metric tons', 'metric tons', 'million metric tons', 'million metric tons', 'metric tons', 'metric tons', 'metric tons', 'metric tons', 'metric tons', 'million metric tons', 'million metric tons', 'million metric tons', 'million metric tons', 'metric tons', 'metric tons', 'million metric tons', 'million metric tons', 'million metric tons', 'million metric tons', 'million metric tons', 'million metric tons', 'million metric tons', 'million metric tons', 'million metric tons', 'million metric tons', 'million metric tons', 'million metric tons', 'million metric tons', 'million metric tons', 'million metric tons', 'million metric tons', 'million metric tons', 'million metric tons', 'million metric tons', 'million metric tons', 'million metric tons', 'million metric tons', 'million metric tons', 'million metric tons', 'million metric tons', 'million metric tons', 'million metric tons', 'million metric tons', 'million metric tons', 'million metric tons', 'million metric tons', 'million metric tons', 'million metric tons', 'million metric tons', 'million metric tons', 'million metric tons', 'million metric tons', 'million metric tons', 'metric tons', 'metric tons', 'metric tons', 'metric tons', 'metric tons', 'metric tons', 'million metric tons', 'metric tons', 'million metric tons', 'million metric tons', 'million metric tons', 'million metric tons', 'million metric tons', 'million metric tons', 'million metric tons', 'million metric tons', 'million metric tons', 'million metric tons', 'million metric tons', 'million metric tons', 'million metric tons', 'million metric tons', 'million metric tons', 'million metric tons', 'million metric tons', 'million metric tons', 'million metric tons', 'million metric tons', 'million metric tons', 'million metric tons', 'million metric tons', 'million metric tons', 'million metric tons', 'million metric tons', 'million metric tons', 'million metric tons', 'million metric tons', 'million metric tons', 'metric tons', 'metric tons', 'metric tons', 'metric tons', 'metric tons', 'metric tons', 'million metric tons', 'million metric tons', 'million metric tons', 'million metric tons', 'million metric tons', 'million metric tons', 'million metric tons', 'million metric tons', 'million metric tons', 'million metric tons', 'million metric tons', 'million metric tons', 'million metric tons', 'million metric tons', 'million metric tons', 'million metric tons', 'million metric tons', 'million metric tons', 'million metric tons', 'million metric tons', 'million metric tons', 'million metric tons', 'million metric tons', 'million metric tons', 'metric tons', 'metric tons', 'metric tons', 'metric tons', 'million metric tons', 'metric tons', 'million metric tons', 'metric tons', 'million metric tons', 'metric tons', 'metric tons', 'metric tons', 'metric tons', 'metric tons', 'metric tons', 'metric tons', 'million metric tons', 'million metric tons', 'million metric tons', 'million metric tons', 'million metric tons', 'million metric tons', 'million metric tons', 'metric tons', 'million metric tons', 'million metric tons', 'million metric tons', 'million metric tons', 'million metric tons', 'million metric tons', 'million metric tons', 'million metric tons', 'million metric tons', 'million metric tons', 'million metric tons', 'million metric tons', 'million metric tons', 'million metric tons', 'metric tons', 'million metric tons', 'million metric tons', 'million metric tons', 'million metric tons', 'million metric tons', 'million metric tons', 'metric tons', 'metric tons', 'metric tons', 'million metric tons', 'million metric tons', 'million metric tons', 'million metric tons', 'metric tons', 'million metric tons', 'million metric tons', 'million metric tons', 'million metric tons', 'metric tons', 'metric tons', 'metric tons', 'metric tons', 'metric tons', 'million metric tons', 'million metric tons', 'million metric tons', 'million metric tons', 'million metric tons', 'million metric tons', 'metric tons', 'metric tons', 'metric tons', 'million metric tons', 'million metric tons', 'million metric tons', 'million metric tons', 'metric tons', 'metric tons', 'metric tons', 'metric tons', 'metric tons', 'metric tons', 'metric tons', 'metric tons', 'million metric tons', 'million metric tons', 'million metric tons', 'million metric tons', 'million metric tons', 'million metric tons', 'metric tons', 'metric tons', 'metric tons', 'metric tons', 'metric tons', 'metric tons', 'metric tons', 'metric tons', 'metric tons', 'metric tons', 'metric tons', 'metric tons', 'metric tons', 'metric tons', 'metric tons', 'metric tons', 'metric tons', 'metric tons', 'metric tons', 'metric tons', 'metric tons', 'metric tons', 'metric tons', 'metric tons', 'metric tons', 'metric tons', 'metric tons', 'metric tons', 'metric tons', 'metric tons', 'metric tons', 'metric tons', 'metric tons', 'metric tons', 'metric tons', 'metric tons', 'metric tons', 'metric tons', 'metric tons', 'metric tons', 'metric tons', 'metric tons', 'metric tons', 'metric tons', 'metric tons', 'metric tons', 'metric tons', 'metric tons', 'metric tons', 'metric tons', 'metric tons', 'metric tons', 'metric tons', 'metric tons', 'metric tons', 'metric tons', 'metric tons', 'metric tons', 'metric tons', 'metric tons', 'metric tons', 'metric tons', 'metric tons', 'metric tons', 'metric tons', 'metric tons', 'metric tons', 'metric tons', 'metric tons', 'metric tons', 'metric tons', 'metric tons', 'metric tons', 'metric tons', 'metric tons', 'metric tons', 'metric tons', 'metric tons', 'metric tons', 'metric tons', 'metric tons', 'metric tons', 'metric tons', 'metric tons', 'metric tons', 'metric tons', 'metric tons', 'metric tons', 'metric tons', 'metric tons', 'metric tons', 'metric tons', 'metric tons', 'metric tons', 'metric tons', 'metric tons', 'metric tons', 'metric tons', 'metric tons', 'metric tons', 'metric tons', 'metric tons', 'metric tons', 'metric tons', 'metric tons', 'metric tons', 'metric tons', 'metric tons', 'metric tons', 'metric tons', 'metric tons', 'metric tons', 'metric tons', 'metric tons', 'metric tons', 'metric tons', 'metric tons', 'metric tons', 'metric tons', 'metric tons', 'metric tons', 'metric tons', 'metric tons', 'metric tons', 'metric tons', 'metric tons', 'metric tons', 'metric tons', 'metric tons', 'metric tons', 'metric tons', 'metric tons', 'metric tons', 'metric tons', 'metric tons', 'metric tons', 'metric tons', 'metric tons', 'metric tons', 'metric tons', 'metric tons', 'metric tons', 'metric tons', 'metric tons', 'metric tons', 'metric tons', 'metric tons', 'metric tons', 'metric tons', 'metric tons', 'metric tons', 'metric tons', 'metric tons', 'metric tons', 'metric tons', 'metric tons', 'metric tons', 'metric tons', 'metric tons', 'metric tons', 'metric tons', 'metric tons', 'metric tons', 'metric tons', 'million metric tons', 'million metric tons', 'million metric tons', 'million metric tons', 'million metric tons', 'million metric tons', 'million metric tons', 'million metric tons', 'million metric tons', 'million metric tons', 'million metric tons', 'million metric tons', 'million metric tons', 'million metric tons', 'million metric tons', 'million metric tons', 'million metric tons', 'million metric tons', 'million metric tons', 'million metric tons', 'million metric tons', 'million metric tons', 'million metric tons', 'million metric tons', 'million metric tons', 'million metric tons', 'million metric tons', 'million metric tons', 'million metric tons', 'million metric tons', 'million metric tons', 'million metric tons', 'million metric tons', 'million metric tons', 'million metric tons', 'million metric tons', 'million metric tons', 'million metric tons', 'million metric tons', 'million metric tons', 'million metric tons', 'million metric tons', 'million metric tons', 'million metric tons', 'million metric tons', 'million metric tons', 'million metric tons', 'million metric tons', 'million metric tons', 'million metric tons', 'million metric tons', 'million metric tons', 'million metric tons', 'million metric tons', 'million metric tons', 'million metric tons', 'million metric tons', 'million metric tons', 'million metric tons', 'million metric tons', 'million metric tons', 'million metric tons', 'million metric tons', 'million metric tons', 'million metric tons', 'million metric tons', 'million metric tons', 'million metric tons', 'million metric tons', 'million metric tons', 'million metric tons', 'million metric tons', 'million metric tons', 'million metric tons', 'million metric tons', 'million metric tons', 'million metric tons', 'million metric tons', 'million metric tons', 'million metric tons', 'million metric tons', 'million metric tons', 'million metric tons', 'million metric tons', 'metric tons', 'metric tons', 'metric tons', 'metric tons', 'metric tons', 'metric tons', 'metric tons', 'metric tons', 'metric tons', 'metric tons', 'million metric tons', 'million metric tons', 'million metric tons', 'million metric tons', 'million metric tons', 'million metric tons', 'million metric tons', 'million metric tons', 'million metric tons', 'million metric tons', 'million metric tons', 'million metric tons', 'million metric tons', 'million metric tons', 'million metric tons', 'million metric tons', 'million metric tons', 'million metric tons', 'million metric tons', 'million metric tons', 'million metric tons', 'million metric tons', 'million metric tons', 'million metric tons', 'million metric tons', 'million metric tons', 'million metric tons', 'million metric tons', 'million metric tons', 'million metric tons', 'million metric tons', 'million metric tons', 'million metric tons', 'million metric tons', 'million metric tons', 'million metric tons', 'million metric tons', 'million metric tons', 'million metric tons', 'million metric tons', 'million metric tons', 'million metric tons', 'metric tons', 'metric tons', 'metric tons', 'metric tons', 'metric tons', 'metric tons', 'metric tons', 'metric tons', 'metric tons', 'metric tons', 'million metric tons', 'million metric tons', 'million metric tons', 'million metric tons', 'million metric tons', 'million metric tons', 'million metric tons', 'million metric tons', 'million metric tons', 'million metric tons', 'million metric tons', 'million metric tons', 'million metric tons', 'million metric tons', 'million metric tons', 'million metric tons', 'million metric tons', 'million metric tons', 'million metric tons', 'million metric tons', 'million short tons', 'million short tons', 'million short tons', 'million short tons', 'million short tons', 'million short tons', 'million short tons', 'metric tons', 'metric tons', 'metric tons', 'metric tons', 'metric tons', 'metric tons', 'metric tons', 'metric tons', 'metric tons', 'metric tons', 'metric tons', 'metric tons', 'metric tons', 'metric tons', 'million metric tons', 'million metric tons', 'million metric tons', 'million metric tons', 'million metric tons', 'million metric tons', 'million metric tons', 'million metric tons', 'million metric tons', 'metric tons', 'metric tons', 'metric tons', 'million metric tons', 'million metric tons', 'metric tons', 'metric tons', 'metric tons', 'metric tons', 'metric tons', 'million metric tons', 'million metric tons', 'million metric tons', 'million metric tons', 'million metric tons', 'million metric tons', 'million metric tons', 'million metric tons', 'million metric tons', 'million metric tons', 'million metric tons', 'million metric tons', 'million metric tons', 'metric tons', 'million metric tons', 'million metric tons', 'million metric tons', 'metric tons', 'metric tons', 'metric tons', 'metric tons', 'metric tons', 'metric tons', 'metric tons', 'million metric tons', 'million metric tons', 'million metric tons', 'million metric tons', 'million metric tons', 'million metric tons', 'million metric tons', 'million metric tons', 'million metric tons', 'million metric tons', 'million metric tons', 'million metric tons', 'metric tons', 'metric tons', 'metric tons', 'metric tons', 'metric tons', 'metric tons', 'metric tons', 'metric tons', 'metric tons', 'metric tons', 'metric tons', 'million metric tons', 'million metric tons', 'million metric tons', 'million metric tons', 'million short tons', 'million short tons', 'million metric tons', 'million metric tons', 'million metric tons', 'million metric tons', 'short tons', 'short tons', 'short tons', 'short tons', 'short tons', 'short tons', 'million short tons', 'metric tons', 'metric tons', 'metric tons', 'metric tons', 'million metric tons', 'million metric tons', 'million metric tons', 'million metric tons', 'million metric tons', 'million metric tons', 'million metric tons', 'million metric tons', 'million metric tons', 'million metric tons', 'million metric tons', 'million metric tons', 'million metric tons', 'million metric tons', 'million metric tons', 'million metric tons', 'million metric tons', 'million metric tons', 'million short tons', 'million short tons', 'million pounds (avdp)', 'million pounds (avdp)', 'million metric tons', 'metric tons', 'million metric tons', 'million metric tons', 'metric tons', 'metric tons', 'metric tons', 'metric tons', 'metric tons', 'million metric tons', 'million metric tons', 'million metric tons', 'million metric tons', 'million metric tons', 'million metric tons', 'million metric tons', 'million metric tons', 'million metric tons', 'million metric tons', 'million metric tons', 'million metric tons', 'million metric tons', 'million metric tons', 'million metric tons', 'million metric tons', 'million metric tons', 'million metric tons', 'million metric tons', 'million metric tons', 'million metric tons', 'million metric tons', 'million metric tons', 'million metric tons', 'million metric tons', 'million metric tons', 'million metric tons', 'million metric tons', 'million metric tons', 'million metric tons', 'million metric tons', 'million metric tons', 'million metric tons', 'million metric tons', 'million metric tons', 'million metric tons', 'million metric tons', 'million metric tons', 'million metric tons', 'million metric tons', 'million metric tons', 'million metric tons', 'million metric tons', 'million metric tons', 'million metric tons', 'million metric tons', 'million metric tons', 'million metric tons', 'million metric tons', 'million metric tons', 'million metric tons', 'million metric tons', 'million metric tons', 'million metric tons', 'million metric tons', 'million metric tons', 'million metric tons', 'million metric tons', 'million metric tons', 'million metric tons', 'million metric tons', 'million metric tons', 'million metric tons', 'million metric tons', 'million metric tons', 'million metric tons', 'million metric tons', 'million metric tons', 'million metric tons', 'million metric tons', 'million metric tons', 'million metric tons', 'million metric tons', 'million metric tons', 'million metric tons', 'million metric tons', 'million metric tons', 'million metric tons', 'million metric tons', 'million metric tons', 'metric tons', 'metric tons', 'metric tons', 'metric tons', 'metric tons', 'metric tons', 'million metric tons', 'million metric tons', 'million metric tons', 'million metric tons', 'million metric tons', 'million metric tons', 'million metric tons', 'million metric tons', 'million metric tons', 'million metric tons', 'million metric tons', 'million metric tons', 'million metric tons', 'million metric tons', 'million metric tons', 'million metric tons', 'million metric tons', 'million metric tons', 'million metric tons', 'million metric tons', 'million metric tons', 'million metric tons', 'million metric tons', 'million metric tons', 'million metric tons', 'million metric tons', 'million metric tons', 'million metric tons', 'million metric tons', 'million metric tons', 'million metric tons', 'million metric tons', 'million metric tons', 'million metric tons', 'million metric tons', 'million metric tons', 'million metric tons', 'million metric tons', 'million metric tons', 'million metric tons', 'million metric tons', 'cubic metres', 'metric tons', 'metric tons', 'metric tons', 'cubic metres', 'cubic metres', 'metric tons', 'metric tons', 'million metric tons', 'metric tons', 'million metric tons', 'metric tons', 'metric tons', 'million short tons', 'metric tons', 'metric tons', 'million short tons', 'metric tons', 'metric tons', 'metric tons', 'metric tons', 'metric tons', 'metric tons', 'metric tons', 'metric tons', 'metric tons', 'metric tons', 'metric tons', 'million metric tons', 'metric tons'], str_idx_array=[13, 14, 15, 16, 17, 18, 19, 20, 21, 22, 23, 24, 25, 26, 27, 28, 29, 30, 31, 32, 33, 36, 37, 38, 39, 40, 43, 44, 45, 46, 47, 48, 49, 50, 51, 52, 53, 54, 55, 56, 57, 58, 59, 60, 61, 62, 63, 64, 74, 75, 76, 77, 86, 87, 88, 92, 93, 94, 95, 96, 97, 98, 99, 102, 103, 104, 105, 106, 107, 108, 109, 110, 111, 122, 123, 124, 125, 131, 132, 133, 135, 137, 138, 139, 140, 141, 142, 143, 144, 145, 146, 147, 148, 149, 150, 152, 153, 155, 156, 157, 158, 159, 160, 161, 162, 163, 164, 165, 166, 167, 168, 169, 170, 171, 172, 175, 176, 177, 178, 179, 180, 181, 182, 183, 184, 185, 186, 187, 188, 189, 190, 191, 192, 193, 194, 196, 197, 202, 203, 204, 207, 208, 209, 210, 211, 212, 213, 215, 216, 217, 218, 219, 220, 221, 222, 223, 224, 226, 227, 228, 229, 230, 234, 235, 236, 237, 238, 239, 240, 241, 242, 243, 244, 245, 246, 247, 248, 249, 250, 251, 252, 253, 254, 255, 256, 257, 258, 259, 260, 261, 262, 263, 264, 265, 266, 267, 269, 270, 271, 273, 274, 275, 276, 277, 278, 279, 280, 281, 282, 283, 286, 287, 288, 289, 290, 291, 299, 300, 301, 302, 303, 304, 307, 308, 309, 310, 311, 312, 313, 314, 315, 316, 317, 318, 319, 321, 322, 323, 324, 325, 326, 327, 328, 329, 330, 331, 332, 333, 334, 335, 336, 337, 338, 339, 340, 341, 342, 343, 344, 345, 346, 347, 348, 349, 350, 351, 352, 353, 354, 355, 356, 357, 358, 359, 360, 361, 362, 363, 364, 365, 366, 367, 368, 369, 370, 371, 372, 373, 374, 375, 376, 377, 378, 379, 380, 381, 382, 383, 384, 385, 386, 387, 388, 389, 390, 391, 392, 404, 405, 406, 407, 408, 409, 410, 411, 412, 413, 414, 415, 416, 417, 418, 419, 420, 421, 422, 423, 424, 425, 426, 427, 428, 429, 430, 431, 432, 433, 434, 435, 436, 437, 438, 439, 440, 441, 442, 443, 444, 445, 446, 447, 448, 449, 450, 451, 452, 453, 454, 455, 456, 457, 458, 459, 460, 461, 462, 463, 464, 465, 466, 467, 468, 469, 470, 471, 472, 473, 474, 475, 476, 477, 478, 479, 480, 481, 482, 483, 484, 485, 486, 487, 488, 489, 490, 491, 492, 493, 494, 495, 496, 497, 498, 499, 500, 501, 502, 503, 504, 505, 506, 507, 508, 509, 510, 511, 512, 513, 514, 515, 516, 517, 518, 519, 520, 521, 522, 523, 524, 525, 526, 527, 528, 529, 530, 531, 532, 533, 534, 535, 536, 537, 538, 539, 540, 541, 542, 543, 544, 545, 546, 547, 548, 549, 550, 551, 552, 553, 554, 555, 556, 557, 558, 559, 560, 561, 562, 563, 564, 565, 566, 567, 568, 569, 570, 571, 572, 573, 574, 575, 576, 577, 578, 579, 580, 581, 582, 583, 584, 585, 586, 587, 588, 589, 590, 591, 592, 593, 594, 595, 596, 597, 598, 599, 600, 601, 602, 603, 604, 605, 606, 607, 608, 609, 610, 611, 612, 613, 614, 615, 616, 617, 618, 619, 620, 621, 622, 623, 624, 625, 626, 627, 628, 629, 630, 631, 632, 633, 634, 635, 636, 637, 638, 639, 640, 641, 642, 643, 644, 645, 646, 647, 648, 649, 650, 651, 652, 655, 656, 657, 658, 659, 660, 661, 662, 663, 664, 665, 666, 667, 668, 669, 670, 671, 672, 673, 674, 675, 676, 677, 678, 679, 680, 681, 682, 683, 684, 685, 686, 687, 688, 689, 690, 691, 692, 693, 694, 695, 696, 697, 698, 699, 700, 701, 702, 703, 704, 705, 706, 707, 708, 709, 710, 711, 712, 713, 714, 715, 716, 717, 718, 719, 720, 721, 722, 723, 724, 725, 726, 727, 728, 729, 730, 733, 734, 735, 736, 737, 739, 740, 741, 742, 743, 744, 745, 746, 747, 748, 749, 750, 751, 752, 753, 754, 755, 756, 757, 758, 759, 760, 761, 762, 763, 764, 765, 766, 767, 768, 769, 770, 771, 772, 773, 774, 775, 776, 777, 778, 779, 780, 781, 782, 783, 784, 785, 786, 787, 788, 789, 790, 791, 792, 793, 794, 795, 796, 797, 798, 799, 800, 801, 802, 803, 804, 805, 806, 807, 808, 809, 810, 811, 812, 813, 814, 815, 816, 817, 818, 819, 820, 821, 822, 823, 824, 825, 826, 827, 828, 829, 830, 831, 832, 833, 834, 835, 836, 837, 838, 839, 840, 841, 842, 843, 844, 845, 846, 847, 848, 849, 850, 851, 852, 853, 854, 855, 856, 857, 858, 859, 860, 861, 862, 863, 864, 865, 866, 867, 868, 869, 870, 871, 872, 873, 874, 875, 876, 877, 878, 879, 880, 881, 882, 883, 884, 885, 886, 887, 888, 889, 890, 891, 892, 893, 894, 895, 896, 897, 898, 899, 900, 901, 902, 903, 904, 905, 906, 907, 908, 909, 910, 911, 912, 913, 914, 915, 916, 917, 918, 919, 920, 921, 922, 923, 924, 925, 926, 927, 928, 929, 930, 931, 932, 933, 934, 935, 936, 937, 938, 939, 940, 941, 942, 943, 944, 945, 946, 947, 948, 949, 950, 951, 952, 953, 954, 955, 956, 957, 958, 959, 960, 961, 962, 963, 964, 965, 966, 967, 968, 969, 970, 971, 972, 973, 974, 975, 976, 977, 978, 979, 980, 981, 982, 983, 984, 985, 986, 987, 988, 989, 990, 991, 992, 993, 994, 995, 996, 997, 998, 999, 1000, 1001, 1002, 1003, 1004, 1005, 1006, 1007, 1008, 1009, 1010, 1011, 1012, 1013, 1014, 1015, 1016, 1017, 1018, 1019, 1020, 1021, 1022, 1023, 1024, 1025, 1026, 1027, 1028, 1029, 1030, 1031, 1032, 1033, 1034, 1035, 1036, 1037, 1038, 1039, 1040, 1041, 1042, 1043, 1044, 1045, 1046, 1047, 1048, 1049, 1050, 1051, 1052, 1053, 1054, 1055, 1056, 1057, 1058, 1059, 1060, 1061, 1062, 1063, 1064, 1065, 1066, 1067, 1068, 1069, 1070, 1071, 1072, 1073, 1074, 1075, 1076, 1077, 1078, 1079, 1080, 1081, 1082, 1083, 1084, 1085, 1086, 1087, 1088, 1089, 1090, 1091, 1092, 1093, 1094, 1095, 1096, 1097, 1098, 1099, 1100, 1101, 1102, 1103, 1104, 1105, 1106, 1107, 1108, 1109, 1110, 1111, 1112, 1113, 1114, 1115, 1116, 1117, 1118, 1119, 1120, 1121, 1122, 1123, 1124, 1125, 1126, 1127, 1128, 1129, 1130, 1131, 1132, 1133, 1134, 1135, 1136, 1137, 1138, 1139, 1140, 1141, 1142, 1143, 1144, 1145, 1146, 1147, 1148, 1149, 1150, 1151, 1152, 1153, 1154, 1155, 1156, 1157, 1158, 1159, 1160, 1161, 1162, 1163, 1164, 1165, 1166, 1167, 1168, 1169, 1170, 1171, 1172, 1173, 1174, 1175, 1176, 1177, 1178, 1179, 1180, 1181, 1182, 1183, 1184, 1185, 1186, 1187, 1188, 1189, 1190, 1191, 1192, 1193, 1194, 1195, 1196, 1197, 1198, 1199, 1200, 1201, 1202, 1203, 1204, 1205, 1206, 1207, 1208, 1209, 1210, 1211, 1212, 1213, 1214, 1215, 1216, 1217, 1218, 1219, 1220, 1221, 1222, 1223, 1224, 1225, 1226, 1227, 1228, 1229, 1230, 1231, 1232, 1233, 1234, 1235, 1236, 1237, 1238, 1239, 1240, 1241, 1242, 1243, 1244, 1245, 1246, 1247, 1248, 1249, 1250, 1251, 1252, 1253, 1254, 1255, 1256, 1257, 1258, 1259, 1260, 1261, 1262, 1263, 1264, 1265, 1266, 1267, 1268, 1269, 1270, 1271, 1272, 1273, 1274, 1275, 1276, 1277, 1278, 1279, 1280, 1281, 1282, 1283, 1284, 1285, 1286, 1287, 1288, 1289, 1290, 1291, 1292, 1293, 1294, 1295, 1296, 1297, 1298, 1299, 1300, 1301, 1302, 1303, 1304, 1305, 1306, 1307, 1308, 1309, 1310, 1311, 1312, 1313, 1314, 1315, 1316, 1317, 1318, 1319, 1320, 1321, 1322, 1323, 1324, 1325, 1326, 1327, 1328, 1329, 1330, 1331, 1332, 1333, 1334, 1335, 1336, 1337, 1338, 1339, 1340, 1341, 1342, 1343, 1344, 1345, 1346, 1347, 1348, 1349, 1350, 1351, 1352, 1353, 1354, 1355, 1356, 1357, 1358, 1359, 1360, 1361, 1362, 1363, 1364, 1365, 1366, 1367, 1368, 1369, 1370, 1371, 1372, 1373, 1374, 1375, 1376, 1377, 1378, 1379, 1380, 1381, 1382, 1383, 1384, 1385, 1386, 1387, 1388, 1389, 1390, 1391, 1392, 1393, 1394, 1395, 1396, 1397, 1398, 1399, 1400, 1401, 1402, 1403, 1404, 1405, 1406, 1407, 1408, 1409, 1410, 1411, 1412, 1413, 1414, 1415, 1416, 1417, 1418, 1419, 1420, 1421, 1422, 1423, 1424, 1425, 1426, 1427, 1428, 1429, 1430, 1431, 1432, 1433, 1434, 1435, 1436, 1437, 1438, 1439, 1440, 1441, 1442, 1443, 1444, 1445, 1446, 1447, 1448, 1449, 1450, 1451, 1452, 1453, 1454, 1455, 1456, 1457, 1458, 1459, 1460, 1461, 1462, 1463, 1464, 1465, 1466, 1467, 1468, 1469, 1470, 1471, 1472, 1473, 1474, 1475, 1476, 1477, 1478, 1479, 1480, 1481, 1482, 1483, 1484, 1485, 1486, 1487, 1488, 1489, 1490, 1491, 1492, 1493, 1494, 1495, 1496, 1497, 1498, 1499, 1500, 1501, 1502, 1503, 1504, 1505, 1506, 1507, 1508, 1509, 1510, 1511, 1512, 1513, 1514, 1515, 1516, 1517, 1518, 1519, 1520, 1521, 1522, 1523, 1524, 1525, 1526, 1527, 1528, 1529, 1530, 1531, 1532, 1533, 1534, 1535, 1536, 1537, 1538, 1539, 1540, 1541, 1542, 1543, 1544, 1545, 1546, 1547, 1548, 1549, 1550, 1551, 1552, 1553, 1554, 1555, 1556, 1557, 1558, 1559, 1560, 1561, 1562, 1563, 1564, 1565, 1566, 1567, 1568, 1569, 1570, 1571, 1572, 1573, 1574, 1575, 1576, 1577, 1578, 1579, 1580, 1581, 1582, 1583, 1584, 1585, 1586, 1587, 1588, 1589, 1590, 1591, 1592, 1593, 1594, 1595, 1596, 1597, 1598, 1599, 1600, 1601, 1602, 1603, 1604, 1605, 1606, 1607, 1608, 1609, 1610, 1611, 1612, 1613, 1614, 1615, 1616, 1617, 1618, 1619, 1620, 1621, 1622, 1623, 1624, 1625, 1626, 1627, 1628, 1629, 1630, 1631, 1632, 1633, 1634, 1635, 1636, 1637, 1638, 1639, 1640, 1641, 1642, 1643, 1644, 1645, 1646, 1647, 1648, 1649, 1650, 1651, 1652, 1653, 1654, 1655, 1656, 1657, 1658, 1659, 1660, 1661, 1662, 1663, 1664, 1665, 1666, 1667, 1668, 1669, 1670, 1671, 1672, 1673, 1674, 1675, 1676, 1677, 1678, 1679, 1680, 1681, 1682, 1683, 1684, 1685, 1686, 1687, 1688, 1689, 1690, 1691, 1692, 1693, 1694, 1695, 1696, 1697, 1698, 1699, 1700, 1701, 1702, 1703, 1704, 1705, 1706, 1707, 1708, 1709, 1710, 1711, 1712, 1713, 1714, 1715, 1716, 1717, 1718, 1719, 1720, 1721, 1722, 1723, 1724, 1725, 1726, 1727, 1728, 1729, 1730, 1731, 1732, 1733, 1734, 1735, 1736, 1737, 1738, 1739, 1740, 1741, 1742, 1743, 1744, 1745, 1746, 1747, 1748, 1749, 1750, 1751, 1752, 1753, 1754, 1755, 1756, 1757, 1758, 1759, 1760, 1761, 1762, 1763, 1764, 1765, 1766, 1767, 1768, 1769, 1770, 1771, 1772, 1773, 1774, 1775, 1776, 1777, 1778, 1779, 1780, 1781, 1782, 1783, 1784, 1785, 1786, 1787, 1788, 1789, 1790, 1791, 1792, 1793, 1794, 1795, 1796, 1797, 1798, 1799, 1800, 1801, 1802, 1803, 1822, 1823, 1824, 1825, 1826, 1827, 1828, 1829, 1830, 1831, 1832, 1833, 1834, 1835, 1836, 1837, 1838, 1839, 1840, 1841, 1842, 1843, 1844, 1845, 1846, 1847, 1848, 1849, 1850, 1851, 1852, 1863, 1864, 1865, 1866, 1867, 1868, 1869, 1870, 1871, 1872, 1875, 1876, 1877, 1878, 1879, 1880, 1881, 1882, 1883, 1884, 1885, 1886, 1887, 1888, 1889, 1890, 1891, 1892, 1893, 1894, 1895, 1896, 1897, 1898, 1899, 1900, 1901, 1902, 1903, 1904, 1905, 1906, 1907, 1908, 1909, 1910, 1911, 1912, 1913, 1914, 1915, 1916, 1917, 1918, 1919, 1920, 1921, 1922, 1923, 1924, 1925, 1926, 1927, 1928, 1929, 1930, 1931, 1932, 1933, 1934, 1935, 1936, 1937, 1938, 1940, 1949, 1950, 1951, 1952, 1955, 1956, 1957, 1958, 1959, 1960, 1961, 1962, 1963, 1964, 1965, 1966, 1967, 1968, 1969, 1985, 1986, 1987, 1988, 1997, 1998, 1999, 2000, 2001, 2002, 2003, 2004, 2005, 2006, 2007, 2008, 2009, 2010, 2011, 2012, 2013, 2014, 2015, 2016, 2017, 2018, 2019, 2020, 2021, 2022, 2023, 2024, 2025, 2026, 2027, 2028, 2030, 2031, 2032, 2033, 2034, 2046, 2048, 2049, 2050, 2051, 2056, 2057, 2058, 2059, 2073, 2074, 2075, 2077, 2078, 2079, 2080, 2091, 2092, 2093, 2094, 2095, 2096, 2112, 2113, 2114, 2116, 2117, 2118, 2119, 2120, 2121, 2129, 2130, 2131, 2132, 2133, 2134, 2135, 2136, 2137, 2143, 2144, 2145, 2146, 2157, 2158, 2159, 2160, 2164, 2165, 2166, 2167, 2168, 2169, 2170, 2171, 2173, 2174, 2182, 2191, 2192, 2196, 2197, 2198, 2199, 2200, 2201, 2202, 2203, 2206, 2207, 2208, 2225, 2226, 2227, 2228, 2229, 2236, 2237, 2238, 2239, 2240, 2241, 2242, 2243, 2244, 2245, 2246, 2247, 2248, 2249, 2250, 2251, 2252, 2253, 2254, 2255, 2256, 2257, 2258, 2259, 2260, 2261, 2262, 2263, 2264, 2265, 2266, 2267, 2268, 2269, 2270, 2290, 2291, 2292, 2293, 2294, 2295, 2297, 2298, 2299, 2302, 2303, 2310, 2311, 2323, 2324, 2326, 2327, 2329, 2330, 2333, 2334, 2340, 2341, 2342, 2343, 2344, 2345, 2346, 2347, 2395, 2396, 2397, 2398, 2399, 2400, 2401, 2402, 2403, 2404, 2405, 2406, 2407, 2408, 2409, 2410, 2411, 2412, 2413, 2414, 2415, 2416, 2417, 2418, 2419, 2420, 2421, 2422, 2423, 2424, 2425, 2426, 2427, 2428, 2429, 2430, 2431, 2432, 2433, 2434, 2435, 2436, 2437, 2438, 2439, 2440, 2441, 2442, 2443, 2444, 2445, 2446, 2447, 2448, 2449, 2450, 2451, 2452, 2453, 2454, 2455, 2456, 2457, 2458, 2459, 2460, 2461, 2462, 2463, 2464, 2465, 2466, 2467, 2468, 2469, 2470, 2471, 2472, 2473, 2474, 2475, 2476, 2477, 2478, 2479, 2480, 2481, 2482, 2483, 2484, 2485, 2486, 2487, 2488, 2489, 2490, 2491, 2492, 2493, 2494, 2495, 2496, 2497, 2498, 2499, 2500, 2501, 2502, 2503, 2504, 2505, 2506, 2507, 2508, 2509, 2517, 2518, 2519, 2539, 2540, 2541, 2542, 2543, 2544, 2545, 2546, 2547, 2548, 2549, 2550, 2551, 2552, 2553, 2554, 2555, 2557, 2562, 2563, 2564, 2565, 2566, 2567, 2568, 2569, 2574, 2575, 2576, 2577, 2578, 2610, 2611, 2612, 2613, 2615, 2619, 2620, 2621, 2622, 2627, 2628, 2629, 2630, 2631, 2632, 2634, 2635, 2636, 2637, 2638, 2640, 2641, 2674, 2675, 2676, 2677, 2678, 2679, 2680, 2681, 2682, 2683, 2684, 2685, 2686, 2687, 2699, 2700, 2701, 2702, 2703, 2704, 2705, 2706, 2707, 2708, 2709, 2710, 2711, 2712, 2713, 2714, 2718, 2719, 2720, 2721, 2722, 2723, 2727, 2728, 2729, 2730, 2731, 2732, 2733, 2734, 2735, 2736, 2737, 2738, 2741, 2749, 2750, 2751, 2752, 2753, 2754, 2755, 2756, 2757, 2758, 2759, 2760, 2761, 2762, 2763, 2764, 2765, 2766, 2767, 2768, 2769, 2770, 2771, 2772, 2773, 2774, 2775, 2776, 2777, 2778, 2779, 2780, 2781, 2787, 2788, 2789, 2790, 2791, 2792, 2793, 2794, 2795, 2796, 2797, 2798, 2799, 2800, 2801, 2802, 2803, 2804, 2805, 2806, 2807, 2808, 2809, 2810, 2811, 2812, 2813, 2814, 2815, 2816, 2817, 2818, 2819, 2820, 2821, 2822, 2823, 2824, 2825, 2826, 2827, 2828, 2829, 2830, 2831, 2832, 2833, 2834, 2835, 2836, 2837, 2838, 2864, 2865, 2866, 2867, 2915, 2916, 2917, 2918, 2919, 2920, 2921, 2922, 2923, 2924, 2925, 2926, 2927, 2928, 2929, 2930, 2931, 2932, 2933, 2934, 2935, 2936, 2937, 2938, 2939, 2940, 2941, 2942, 2943, 2944, 2945, 2946, 2947, 2948, 2949, 2950, 2951, 2952, 2953, 2954, 2955, 2956, 2957, 2958, 2959, 2960, 2961, 2962, 2963, 2964, 2965, 2966, 2967, 2968, 2969, 2970, 2971, 2972, 2973, 2974, 2975, 2976, 2977, 2978, 2979, 2980, 2981, 2982, 2983, 2984, 2985, 2986, 2987, 2988, 2989, 2990, 2991, 2992, 2993, 2994, 2995, 2996, 2997, 2998, 2999, 3000, 3001, 3002, 3003, 3004, 3005, 3006, 3007, 3008, 3009, 3010, 3011, 3012, 3013, 3014, 3015, 3016, 3017, 3018, 3019, 3020, 3021, 3022, 3023, 3024, 3025, 3026, 3027, 3028, 3029, 3030, 3031, 3032, 3033, 3034, 3035, 3036, 3037, 3038, 3088, 3089, 3102, 3106, 3107, 3109, 3110, 3115, 3208, 3219, 3227, 3228, 3229, 3230, 3231, 3232, 3233, 3234, 3235, 3236, 3260, 3261, 3262, 3263, 3264, 3265, 3266, 3267, 3268, 3269, 3270, 3271, 3272, 3273, 3274, 3275, 3276, 3277, 3278, 3279, 3280, 3281, 3282, 3283, 3284, 3285, 3286, 3287, 3288, 3289, 3290, 3291, 3328, 3345, 3346, 3370, 3371, 3372, 3373, 3374, 3375, 3376, 3378, 3379, 3380, 3382, 3383, 3384, 3385, 3386, 3387, 3388, 3389, 3395, 3396, 3397, 3398, 3399, 3400, 3401, 3402, 3403, 3425, 3426, 3427, 3428, 3429, 3430, 3431, 3434, 3435, 3436, 3437, 3438, 3439, 3440, 3441, 3442, 3443, 3444, 3445, 3446, 3447, 3454, 3455, 3456, 3457, 3458, 3459, 3460, 3461, 3462, 3463, 3464, 3465, 3468, 3469, 3473, 3474, 3475, 3476, 3478, 3479, 3480, 3489, 3490, 3491, 3492, 3493, 3494, 3495, 3496, 3497, 3498, 3499, 3500, 3506, 3507, 3508, 3513, 3514, 3516, 3549, 3550, 3551, 3552, 3555, 3556, 3557, 3558, 3559, 3560, 3561, 3562, 3563, 3564, 3565, 3566, 3595, 3596, 3597, 3598, 3599, 3600, 3614, 3615, 3689, 3690, 3691, 3692, 3693, 3694, 3695, 3712, 3713, 3715, 3716, 3717, 3718, 3719, 3720, 3721, 3722, 3727, 3728, 3729, 3730, 3731, 3732, 3733, 3735, 3736, 3737, 3738, 3739, 3740, 3741, 3742, 3743, 3744, 3745, 3746, 3747, 3748, 3749, 3750, 3751, 3752, 3755, 3756, 3760, 3761, 3763, 3764, 3770, 3771, 3779, 3780, 3784, 3791, 3792, 3793, 3794, 3795, 3796, 3797, 3798, 3799, 3800, 3801, 3802, 3803, 3804, 3805, 3806, 3807, 3808, 3809, 3810, 3811, 3812, 3813, 3814, 3815, 3816, 3817, 3818, 3819, 3820, 3821, 3822, 3823, 3824, 3825, 3826, 3827, 3828, 3829, 3830, 3831, 3832, 3833, 3834, 3835, 3836, 3837, 3838, 3839, 3840, 3841, 3842, 3843, 3844, 3845, 3846, 3847, 3848, 3849, 3850, 3851, 3852, 3853, 3854, 3855, 3856, 3857, 3858, 3859, 3860, 3861, 3862, 3863, 3864, 3865, 3866, 3867, 3868, 3869, 3870, 3871, 3872, 3873, 3874, 3875, 3876, 3877, 3879, 3880, 3881, 3882, 3883, 3884, 3885, 3886, 3887, 3896, 3897, 3898, 3899, 3900, 3901, 3902, 3903, 3904, 3905, 3906, 3907, 3908, 3909, 3910, 3911, 3912, 3913, 3914, 3915, 3916, 3917, 3918, 3919, 3920, 3921, 3922, 3923, 3924, 3925, 3926, 3927, 3928, 3931, 3932, 3933, 3934, 3939, 3940, 3943, 3946, 3947, 3948, 3949, 3950, 3951, 3952, 3953, 3954, 3955, 3956, 3957, 3958, 3959, 3960, 3961, 3975, 3987, 3991, 3992, 3993, 3994, 4000])"
      ]
     },
     "execution_count": 13,
     "metadata": {},
     "output_type": "execute_result"
    }
   ],
   "source": [
    "ex.table.columns[6]"
   ]
  },
  {
   "cell_type": "code",
   "execution_count": 15,
   "metadata": {},
   "outputs": [
    {
     "name": "stdout",
     "output_type": "stream",
     "text": [
      "grade_unit\n"
     ]
    },
    {
     "data": {
      "text/plain": [
       "[DSLPrediction(semantic_type=SType(mos:MineralInventory--mos:commodity), score=0.36309720373599447),\n",
       " DSLPrediction(semantic_type=SType(mos:MineralSite--mos:deposit_type), score=0.07631666664191615),\n",
       " DSLPrediction(semantic_type=SType(mos:MineralSite--mos:record_id), score=0.07631666664191615),\n",
       " DSLPrediction(semantic_type=SType(mos:MineralSite--mos:state_or_province), score=0.07631666664191615),\n",
       " DSLPrediction(semantic_type=SType(mos:MineralInventory--mos:category), score=0.07631666664191615),\n",
       " DSLPrediction(semantic_type=SType(mos:MineralInventory--mos:reserve_commodity), score=0.07631666664191615),\n",
       " DSLPrediction(semantic_type=SType(mos:MineralSite--rdfs:label), score=0.07631666664191615),\n",
       " DSLPrediction(semantic_type=SType(mos:MineralSite--mos:country), score=0.07631666664191615),\n",
       " DSLPrediction(semantic_type=SType(mos:MineralInventory--mos:resource_commodity), score=0.07631666664191615),\n",
       " DSLPrediction(semantic_type=SType(mos:MineralInventory--mos:grade), score=0.01),\n",
       " DSLPrediction(semantic_type=SType(mos:MineralInventory--mos:resource_tonnage), score=0.0004922279792746129),\n",
       " DSLPrediction(semantic_type=SType(mos:MineralSite--mos:row_index), score=0.0004922279792746129),\n",
       " DSLPrediction(semantic_type=SType(mos:MineralSite--mos:latitude), score=0.0004922279792746129),\n",
       " DSLPrediction(semantic_type=SType(mos:MineralSite--mos:longitude), score=0.0004922279792746129),\n",
       " DSLPrediction(semantic_type=SType(mos:MineralInventory--mos:tonnage), score=0.0004922279792746129),\n",
       " DSLPrediction(semantic_type=SType(mos:MineralInventory--mos:reserve_tonnage), score=0.0004922279792746129),\n",
       " DSLPrediction(semantic_type=SType(mos:MineralInventory--mos:date), score=0.0004922279792746129),\n",
       " DSLPrediction(semantic_type=SType(mos:MineralInventory--mos:reserve_grade), score=0.0),\n",
       " DSLPrediction(semantic_type=SType(mos:MineralInventory--mos:resource_grade), score=0.0),\n",
       " DSLPrediction(semantic_type=SType(mos:MineralInventory--mos:cutoff_grade), score=0.0)]"
      ]
     },
     "execution_count": 15,
     "metadata": {},
     "output_type": "execute_result"
    }
   ],
   "source": [
    "i = 10\n",
    "print(ex.table.columns[i].col_name)\n",
    "dsl.pred_type(i, ex.table.columns[i].col_name, 20, simmatrix)"
   ]
  },
  {
   "cell_type": "code",
   "execution_count": 32,
   "metadata": {},
   "outputs": [],
   "source": [
    "def find_train_cols(cls, pred):\n",
    "    out = []\n",
    "    for i in range(len(dsl.stype_db.train_column_stypes)):\n",
    "        stype = dsl.stype_db.train_column_stypes[i].type\n",
    "        if stype.class_rel_uri == cls and stype.predicate_rel_uri == pred:\n",
    "            out.append(\n",
    "                {\n",
    "                    \"col\": i,\n",
    "                    \"name\": [c.col_name for c in dsl.stype_db.train_columns[i].cols],\n",
    "                }\n",
    "            )\n",
    "    return pd.DataFrame(out)"
   ]
  },
  {
   "cell_type": "code",
   "execution_count": 40,
   "metadata": {},
   "outputs": [],
   "source": [
    "pd.set_option(\"display.max_colwidth\", None)"
   ]
  },
  {
   "cell_type": "code",
   "execution_count": 41,
   "metadata": {},
   "outputs": [
    {
     "data": {
      "text/html": [
       "<div>\n",
       "<style scoped>\n",
       "    .dataframe tbody tr th:only-of-type {\n",
       "        vertical-align: middle;\n",
       "    }\n",
       "\n",
       "    .dataframe tbody tr th {\n",
       "        vertical-align: top;\n",
       "    }\n",
       "\n",
       "    .dataframe thead th {\n",
       "        text-align: right;\n",
       "    }\n",
       "</style>\n",
       "<table border=\"1\" class=\"dataframe\">\n",
       "  <thead>\n",
       "    <tr style=\"text-align: right;\">\n",
       "      <th></th>\n",
       "      <th>col</th>\n",
       "      <th>name</th>\n",
       "    </tr>\n",
       "  </thead>\n",
       "  <tbody>\n",
       "    <tr>\n",
       "      <th>0</th>\n",
       "      <td>2</td>\n",
       "      <td>[Total Mineral Resource Mt (Tonnes of Million), Mt Ore, Mt ore, Mt Min. ResC, Resource Tonnage (Mt)]</td>\n",
       "    </tr>\n",
       "  </tbody>\n",
       "</table>\n",
       "</div>"
      ],
      "text/plain": [
       "   col  \\\n",
       "0    2   \n",
       "\n",
       "                                                                                                   name  \n",
       "0  [Total Mineral Resource Mt (Tonnes of Million), Mt Ore, Mt ore, Mt Min. ResC, Resource Tonnage (Mt)]  "
      ]
     },
     "execution_count": 41,
     "metadata": {},
     "output_type": "execute_result"
    }
   ],
   "source": [
    "traincols = find_train_cols(\"mos:MineralSite\", \"mos:deposit_type\")\n",
    "traincols = find_train_cols(\"mos:MineralInventory\", \"mos:resource_tonnage\")\n",
    "traincols"
   ]
  },
  {
   "cell_type": "code",
   "execution_count": 15,
   "metadata": {},
   "outputs": [
    {
     "data": {
      "text/html": [
       "<div>\n",
       "<style scoped>\n",
       "    .dataframe tbody tr th:only-of-type {\n",
       "        vertical-align: middle;\n",
       "    }\n",
       "\n",
       "    .dataframe tbody tr th {\n",
       "        vertical-align: top;\n",
       "    }\n",
       "\n",
       "    .dataframe thead th {\n",
       "        text-align: right;\n",
       "    }\n",
       "</style>\n",
       "<table border=\"1\" class=\"dataframe\">\n",
       "  <thead>\n",
       "    <tr style=\"text-align: right;\">\n",
       "      <th></th>\n",
       "      <th>col</th>\n",
       "      <th>name</th>\n",
       "    </tr>\n",
       "  </thead>\n",
       "  <tbody>\n",
       "    <tr>\n",
       "      <th>0</th>\n",
       "      <td>4</td>\n",
       "      <td>[DEPOSIT_UID]</td>\n",
       "    </tr>\n",
       "  </tbody>\n",
       "</table>\n",
       "</div>"
      ],
      "text/plain": [
       "   col           name\n",
       "0    4  [DEPOSIT_UID]"
      ]
     },
     "execution_count": 15,
     "metadata": {},
     "output_type": "execute_result"
    }
   ],
   "source": [
    "traincols = find_train_cols(\"mos:MineralSite\", \"mos:record_id\")\n",
    "traincols"
   ]
  },
  {
   "cell_type": "code",
   "execution_count": 44,
   "metadata": {},
   "outputs": [
    {
     "data": {
      "text/plain": [
       "DSLColumn(id='::Weng_et_al_2015_REE::--5:0:Total Mineral Resource Mt (Tonnes of Million)', table_id='::Weng_et_al_2015_REE::--5', col_index=0, col_name='Total Mineral Resource Mt (Tonnes of Million)', type=<ColumnType.STRING: 'string'>, type_stats={<ColumnType.NUMBER: 'number'>: 0.0, <ColumnType.STRING: 'string'>: 1.0, <ColumnType.DATETIME: 'datetime'>: 0.0, <ColumnType.NULL: 'null'>: 0.0}, size=3, num_array=[], num_idx_array=[], str_array=['::Mudd-and-Jowitt-2018-Copper::\\nMt Min. ResC\\n\\n2203.556\\n0.485\\n2.95\\n64.28571429\\n3073.0\\n64.2\\n1160.0\\n1.0\\n13.41\\n6.0\\n4.34\\n6.154\\n0.515\\n12.92\\n1.49\\n1.484422\\n1786.376364\\n44.5\\n3.813\\n1910.0\\n201.81\\n8.763\\n29.4\\n11.87\\n5.0\\n4.006\\n1257.4\\n1.569036874\\n15.2\\n965.0\\n0.658\\n16.4\\n10.0\\n2.855\\n76.4\\n5446.143\\n1333.333333\\n0.523849\\n54.57\\n25.4\\n1160.0\\n0.05\\n3.091\\n375.0\\n1786.376364\\n81.5\\n202.138\\n42.0\\n637.0\\n29.19\\n1.075\\n23.26\\n2.57\\n0.215534\\n76.4\\n448.0\\n48.038\\n11.6\\n1256.992\\n175.7\\n352.6\\n0.57\\n0.03\\n19.390243902438996\\n1008.0\\n0.39\\n21.569999999999997\\n79.005\\n0.523849\\n72.42380391\\n42.0\\n23.14\\n151.22\\n0.225\\n1.397\\n76.4\\n0.863772\\n42.57\\n5.0\\n17.78\\n3.79\\n14.6\\n51.0\\n123.432\\n0.5\\n32.975\\n85.01\\n4.925\\n258.2\\n4.377\\n0.01\\n79.005\\n800.0\\n5.4\\n302.0\\n0.02\\n15.07\\n6.0\\n105.0\\n30.0', '::Nevada_Lithium_Resources_and_Reserves_March_2024_update::\\nResource Tonnage (Mt)\\n\\n1754.4\\n207.0\\n2449.825\\n1540.4\\n3407.3\\n6091.0\\n2538.0\\n2826.808\\n477.0\\n357.6013893\\n310.3\\n711.275\\n184.002\\n1150.442\\n590.9258649999999\\n1276.79', '::Weng_et_al_2015_REE::\\nTotal Mineral Resource Mt (Tonnes of Million)\\n\\n26.3\\n435.0\\n4300.0\\n805.302\\n26.3\\n1033.8249999999998\\n1540.0\\n1540.0\\n58.1\\n0.39\\n496.698\\n16.713069255\\n195.0\\n1.52\\n805.302\\n26.3\\n4712.05\\n805.302\\n8.992999999999999\\n1.329\\n311.70000000000005\\n4.823588000000001\\n435.0\\n250.60000000000002\\n16.713069255\\n0.1515\\n12.421\\n250.60000000000002\\n0.4165\\n14.949\\n0.0286\\n58.1\\n311.70000000000005\\n51.709545\\n159.4\\n4300.0\\n4.46\\n0.0286\\n340.0\\n0.11\\n1195.7288401253918\\n28.29\\n9.0\\n44.3\\n250.60000000000002\\n496.698\\n47.3\\n0.4165\\n311.70000000000005\\n435.0\\n80.0\\n80.0\\n9.0\\n1.52\\n14.393999999999998\\n0.1515\\n0.11\\n9.0\\n805.302\\n28.29\\n9.0\\n59.303\\n8.992999999999999\\n422.74\\n492.479\\n4.823588000000001\\n414.0\\n435.0\\n56.489999999999995\\n51.602\\n466.8\\n2.53\\n36.2\\n36.2\\n12.4\\n51.709545\\n0.4165\\n51.709545\\n1058.2\\n2.53\\n1033.8249999999998\\n16.713069255\\n11.971\\n59.303\\n1195.7288401253918\\n28.29\\n0.39\\n26.3\\n414.0\\n24.45\\n6.579\\n0.0286\\n49.18\\n51.602\\n0.39\\n1.511\\n4712.05\\n11.971\\n44.3\\n14.393999999999998'], str_idx_array=[0, 1, 2])"
      ]
     },
     "execution_count": 44,
     "metadata": {},
     "output_type": "execute_result"
    }
   ],
   "source": [
    "dsl.stype_db.train_columns[2].cols[0]"
   ]
  },
  {
   "cell_type": "code",
   "execution_count": 37,
   "metadata": {},
   "outputs": [
    {
     "data": {
      "text/plain": [
       "DSLColumn(id='World_Tin_Tungsten_Deposit:6:tonnage_unit', table_id='World_Tin_Tungsten_Deposit', col_index=6, col_name='tonnage_unit', type=<ColumnType.STRING: 'string'>, type_stats={<ColumnType.NUMBER: 'number'>: 0.0, <ColumnType.STRING: 'string'>: 0.7048237940514871, <ColumnType.DATETIME: 'datetime'>: 0.0, <ColumnType.NULL: 'null'>: 0.29517620594851285}, size=4001, num_array=[], num_idx_array=[], str_array=['metric tons', 'metric tons', 'metric tons', 'metric tons', 'metric tons', 'metric tons', 'metric tons', 'metric tons', 'metric tons', 'metric tons', 'metric tons', 'metric tons', 'metric tons', 'metric tons', 'metric tons', 'metric tons', 'metric tons', 'metric tons', 'million metric tons', 'metric tons', 'metric tons', 'million metric tons', 'million metric tons', 'metric tons', 'metric tons', 'metric tons', 'metric tons', 'metric tons', 'metric tons', 'metric tons', 'million metric tons', 'million metric tons', 'million metric tons', 'metric tons', 'metric tons', 'million metric tons', 'million metric tons', 'million metric tons', 'metric tons', 'metric tons', 'metric tons', 'metric tons', 'metric tons', 'metric tons', 'metric tons', 'metric tons', 'metric tons', 'metric tons', 'million metric tons', 'million metric tons', 'million metric tons', 'metric tons', 'million metric tons', 'million metric tons', 'million metric tons', 'metric tons', 'metric tons', 'metric tons', 'metric tons', 'metric tons', 'metric tons', 'metric tons', 'metric tons', 'million metric tons', 'million metric tons', 'million metric tons', 'million metric tons', 'metric tons', 'metric tons', 'million metric tons', 'million metric tons', 'million metric tons', 'million metric tons', 'million metric tons', 'million metric tons', 'million metric tons', 'million metric tons', 'metric tons', 'million metric tons', 'metric tons', 'metric tons', 'million metric tons', 'million metric tons', 'million metric tons', 'million metric tons', 'million metric tons', 'million metric tons', 'million metric tons', 'million metric tons', 'million metric tons', 'million metric tons', 'million metric tons', 'million metric tons', 'metric tons', 'million metric tons', 'million metric tons', 'million metric tons', 'million metric tons', 'million metric tons', 'million metric tons', 'million metric tons', 'million metric tons', 'million metric tons', 'million metric tons', 'metric tons', 'metric tons', 'metric tons', 'million metric tons', 'million metric tons', 'million metric tons', 'million metric tons', 'million metric tons', 'million metric tons', 'million metric tons', 'million metric tons', 'metric tons', 'metric tons', 'metric tons', 'million metric tons', 'metric tons', 'metric tons', 'metric tons', 'metric tons', 'million metric tons', 'million metric tons', 'million metric tons', 'million metric tons', 'million metric tons', 'metric tons', 'metric tons', 'cubic metres', 'metric tons', 'metric tons', 'million metric tons', 'metric tons', 'metric tons', 'metric tons', 'million metric tons', 'million metric tons', 'million metric tons', 'cubic metres', 'cubic metres', 'metric tons', 'million metric tons', 'million metric tons', 'million metric tons', 'million metric tons', 'million metric tons', 'million metric tons', 'million metric tons', 'million metric tons', 'million metric tons', 'million metric tons', 'million metric tons', 'million metric tons', 'million metric tons', 'million metric tons', 'million metric tons', 'million metric tons', 'million metric tons', 'million metric tons', 'million metric tons', 'million metric tons', 'million metric tons', 'million metric tons', 'million metric tons', 'million metric tons', 'million metric tons', 'million metric tons', 'million metric tons', 'million metric tons', 'million metric tons', 'metric tons', 'metric tons', 'metric tons', 'metric tons', 'metric tons', 'metric tons', 'metric tons', 'metric tons', 'metric tons', 'metric tons', 'metric tons', 'metric tons', 'million metric tons', 'million metric tons', 'metric tons', 'metric tons', 'million metric tons', 'million metric tons', 'million metric tons', 'million metric tons', 'metric tons', 'metric tons', 'million metric tons', 'million metric tons', 'metric tons', 'metric tons', 'metric tons', 'million metric tons', 'million metric tons', 'million metric tons', 'million metric tons', 'million metric tons', 'million metric tons', 'metric tons', 'metric tons', 'million metric tons', 'million metric tons', 'million metric tons', 'million metric tons', 'million metric tons', 'million metric tons', 'million metric tons', 'million metric tons', 'million metric tons', 'million metric tons', 'million metric tons', 'million metric tons', 'million metric tons', 'million metric tons', 'million metric tons', 'million metric tons', 'million metric tons', 'million metric tons', 'million metric tons', 'million metric tons', 'million metric tons', 'million metric tons', 'million metric tons', 'million metric tons', 'million metric tons', 'million metric tons', 'million metric tons', 'million metric tons', 'million metric tons', 'million metric tons', 'million metric tons', 'metric tons', 'metric tons', 'metric tons', 'metric tons', 'million metric tons', 'metric tons', 'million metric tons', 'metric tons', 'metric tons', 'million metric tons', 'metric tons', 'million metric tons', 'million metric tons', 'million metric tons', 'million metric tons', 'million metric tons', 'million metric tons', 'million metric tons', 'million metric tons', 'million metric tons', 'million metric tons', 'million metric tons', 'metric tons', 'metric tons', 'metric tons', 'metric tons', 'metric tons', 'metric tons', 'metric tons', 'metric tons', 'metric tons', 'metric tons', 'metric tons', 'metric tons', 'metric tons', 'metric tons', 'metric tons', 'metric tons', 'metric tons', 'million metric tons', 'metric tons', 'metric tons', 'million metric tons', 'metric tons', 'metric tons', 'metric tons', 'metric tons', 'million metric tons', 'million metric tons', 'million metric tons', 'million metric tons', 'million metric tons', 'million metric tons', 'million metric tons', 'metric tons', 'metric tons', 'metric tons', 'metric tons', 'million metric tons', 'million metric tons', 'metric tons', 'million metric tons', 'million metric tons', 'million metric tons', 'metric tons', 'million metric tons', 'metric tons', 'metric tons', 'metric tons', 'million metric tons', 'million metric tons', 'million metric tons', 'million metric tons', 'million metric tons', 'million metric tons', 'million metric tons', 'million metric tons', 'million metric tons', 'million metric tons', 'million metric tons', 'million metric tons', 'million metric tons', 'million metric tons', 'million metric tons', 'million metric tons', 'million metric tons', 'million metric tons', 'million metric tons', 'million metric tons', 'million metric tons', 'million metric tons', 'million metric tons', 'million metric tons', 'million metric tons', 'million metric tons', 'million metric tons', 'million metric tons', 'million metric tons', 'million metric tons', 'million metric tons', 'million metric tons', 'million metric tons', 'million metric tons', 'million metric tons', 'million metric tons', 'million metric tons', 'million metric tons', 'million metric tons', 'million metric tons', 'million metric tons', 'million metric tons', 'million metric tons', 'million metric tons', 'million metric tons', 'million metric tons', 'million metric tons', 'million metric tons', 'million metric tons', 'million metric tons', 'million metric tons', 'million metric tons', 'million metric tons', 'million metric tons', 'million metric tons', 'million metric tons', 'million metric tons', 'million metric tons', 'million metric tons', 'million metric tons', 'million metric tons', 'million metric tons', 'million metric tons', 'million metric tons', 'million metric tons', 'million metric tons', 'million metric tons', 'million metric tons', 'million metric tons', 'million metric tons', 'million metric tons', 'million metric tons', 'million metric tons', 'million metric tons', 'million metric tons', 'million metric tons', 'million metric tons', 'million metric tons', 'million metric tons', 'million metric tons', 'million metric tons', 'million metric tons', 'million metric tons', 'million metric tons', 'million metric tons', 'million metric tons', 'million metric tons', 'million metric tons', 'million metric tons', 'million metric tons', 'million metric tons', 'million metric tons', 'million metric tons', 'million metric tons', 'million metric tons', 'million metric tons', 'million metric tons', 'million metric tons', 'million metric tons', 'million metric tons', 'million metric tons', 'million metric tons', 'million metric tons', 'million metric tons', 'million metric tons', 'million metric tons', 'million metric tons', 'million metric tons', 'million metric tons', 'million metric tons', 'million metric tons', 'million metric tons', 'million metric tons', 'million metric tons', 'million metric tons', 'million metric tons', 'million metric tons', 'million metric tons', 'million metric tons', 'million metric tons', 'million metric tons', 'million metric tons', 'million metric tons', 'million metric tons', 'million metric tons', 'million metric tons', 'million metric tons', 'million metric tons', 'million metric tons', 'million metric tons', 'million metric tons', 'million metric tons', 'million metric tons', 'million metric tons', 'million metric tons', 'million metric tons', 'million metric tons', 'million metric tons', 'million metric tons', 'million metric tons', 'million metric tons', 'million metric tons', 'million metric tons', 'million metric tons', 'million metric tons', 'million metric tons', 'million metric tons', 'million metric tons', 'million metric tons', 'million metric tons', 'million metric tons', 'million metric tons', 'million metric tons', 'million metric tons', 'million metric tons', 'million metric tons', 'million metric tons', 'million metric tons', 'million metric tons', 'million metric tons', 'million metric tons', 'million metric tons', 'million metric tons', 'million metric tons', 'million metric tons', 'million metric tons', 'million metric tons', 'million metric tons', 'million metric tons', 'million metric tons', 'million metric tons', 'million metric tons', 'million metric tons', 'million metric tons', 'million metric tons', 'million metric tons', 'million metric tons', 'million metric tons', 'million metric tons', 'million metric tons', 'million metric tons', 'million metric tons', 'million metric tons', 'million metric tons', 'million metric tons', 'million metric tons', 'million metric tons', 'million metric tons', 'million metric tons', 'million metric tons', 'million metric tons', 'million metric tons', 'million metric tons', 'million metric tons', 'million metric tons', 'million metric tons', 'million metric tons', 'million metric tons', 'million metric tons', 'million metric tons', 'million metric tons', 'million metric tons', 'million metric tons', 'million metric tons', 'million metric tons', 'million metric tons', 'million metric tons', 'million metric tons', 'million metric tons', 'million metric tons', 'million metric tons', 'million metric tons', 'million metric tons', 'million metric tons', 'million metric tons', 'million metric tons', 'million metric tons', 'million metric tons', 'million metric tons', 'million metric tons', 'million metric tons', 'million metric tons', 'million metric tons', 'million metric tons', 'million metric tons', 'million metric tons', 'million metric tons', 'million metric tons', 'million metric tons', 'million metric tons', 'million metric tons', 'million metric tons', 'million metric tons', 'million metric tons', 'million metric tons', 'million metric tons', 'million metric tons', 'million metric tons', 'million metric tons', 'million metric tons', 'million metric tons', 'million metric tons', 'million metric tons', 'million metric tons', 'million metric tons', 'million metric tons', 'million metric tons', 'million metric tons', 'million metric tons', 'metric tons', 'million metric tons', 'million metric tons', 'metric tons', 'million metric tons', 'million metric tons', 'metric tons', 'metric tons', 'metric tons', 'million metric tons', 'million metric tons', 'million metric tons', 'million metric tons', 'million metric tons', 'metric tons', 'million metric tons', 'metric tons', 'million metric tons', 'metric tons', 'million metric tons', 'metric tons', 'million metric tons', 'metric tons', 'million metric tons', 'metric tons', 'million metric tons', 'metric tons', 'million metric tons', 'metric tons', 'million metric tons', 'metric tons', 'million metric tons', 'metric tons', 'million metric tons', 'million metric tons', 'million metric tons', 'million metric tons', 'million metric tons', 'million metric tons', 'million metric tons', 'million metric tons', 'million metric tons', 'million metric tons', 'million metric tons', 'million metric tons', 'million metric tons', 'million metric tons', 'million metric tons', 'million metric tons', 'million metric tons', 'million metric tons', 'million metric tons', 'million metric tons', 'million metric tons', 'million metric tons', 'million metric tons', 'million metric tons', 'million metric tons', 'million metric tons', 'million metric tons', 'million metric tons', 'million metric tons', 'million metric tons', 'million metric tons', 'million metric tons', 'million metric tons', 'million metric tons', 'million metric tons', 'million metric tons', 'million metric tons', 'million metric tons', 'million metric tons', 'metric tons', 'metric tons', 'metric tons', 'metric tons', 'million metric tons', 'million metric tons', 'million metric tons', 'million metric tons', 'million metric tons', 'million metric tons', 'million metric tons', 'million metric tons', 'million metric tons', 'million metric tons', 'million metric tons', 'million metric tons', 'million metric tons', 'million metric tons', 'million metric tons', 'million metric tons', 'million metric tons', 'million metric tons', 'million metric tons', 'million metric tons', 'million metric tons', 'million metric tons', 'million metric tons', 'million metric tons', 'million metric tons', 'million metric tons', 'million metric tons', 'million metric tons', 'million metric tons', 'metric tons', 'metric tons', 'metric tons', 'metric tons', 'metric tons', 'million metric tons', 'million metric tons', 'million metric tons', 'million metric tons', 'million metric tons', 'million metric tons', 'million metric tons', 'million metric tons', 'million metric tons', 'million metric tons', 'million metric tons', 'million metric tons', 'million metric tons', 'million metric tons', 'million metric tons', 'million metric tons', 'million metric tons', 'million metric tons', 'million metric tons', 'million metric tons', 'metric tons', 'metric tons', 'metric tons', 'million metric tons', 'million metric tons', 'million metric tons', 'million metric tons', 'million metric tons', 'million metric tons', 'million metric tons', 'million metric tons', 'million metric tons', 'million metric tons', 'million metric tons', 'million metric tons', 'million metric tons', 'million metric tons', 'million metric tons', 'million metric tons', 'million metric tons', 'million metric tons', 'million metric tons', 'million metric tons', 'million metric tons', 'million metric tons', 'million metric tons', 'million metric tons', 'million metric tons', 'million metric tons', 'million metric tons', 'million metric tons', 'million metric tons', 'million metric tons', 'million metric tons', 'million metric tons', 'million metric tons', 'million metric tons', 'million metric tons', 'million metric tons', 'million metric tons', 'million metric tons', 'million metric tons', 'million metric tons', 'million metric tons', 'million metric tons', 'million metric tons', 'million metric tons', 'million metric tons', 'million metric tons', 'million metric tons', 'million metric tons', 'million metric tons', 'million metric tons', 'million metric tons', 'million metric tons', 'million metric tons', 'million metric tons', 'million metric tons', 'million metric tons', 'million metric tons', 'million metric tons', 'million metric tons', 'million metric tons', 'million metric tons', 'million metric tons', 'million metric tons', 'million metric tons', 'million metric tons', 'million metric tons', 'million metric tons', 'million metric tons', 'million metric tons', 'million metric tons', 'million metric tons', 'million metric tons', 'million metric tons', 'million metric tons', 'million metric tons', 'million metric tons', 'million metric tons', 'million metric tons', 'million metric tons', 'million metric tons', 'million metric tons', 'million metric tons', 'million metric tons', 'million metric tons', 'million metric tons', 'million metric tons', 'million metric tons', 'million metric tons', 'million metric tons', 'million metric tons', 'million metric tons', 'million metric tons', 'million metric tons', 'million metric tons', 'million metric tons', 'million metric tons', 'million metric tons', 'million metric tons', 'million metric tons', 'million metric tons', 'million metric tons', 'million metric tons', 'million metric tons', 'million metric tons', 'million metric tons', 'million metric tons', 'million metric tons', 'million metric tons', 'million metric tons', 'million metric tons', 'million metric tons', 'million metric tons', 'million metric tons', 'million metric tons', 'million metric tons', 'million metric tons', 'million metric tons', 'million metric tons', 'million metric tons', 'million metric tons', 'million metric tons', 'million metric tons', 'million metric tons', 'million metric tons', 'million metric tons', 'million metric tons', 'million metric tons', 'million metric tons', 'million metric tons', 'million metric tons', 'million metric tons', 'million metric tons', 'million metric tons', 'million metric tons', 'million metric tons', 'million metric tons', 'million metric tons', 'million metric tons', 'million metric tons', 'million metric tons', 'million metric tons', 'million metric tons', 'million metric tons', 'million metric tons', 'million metric tons', 'million metric tons', 'million metric tons', 'million metric tons', 'million metric tons', 'million metric tons', 'million metric tons', 'million metric tons', 'million metric tons', 'million metric tons', 'million metric tons', 'million metric tons', 'million metric tons', 'million metric tons', 'million metric tons', 'million metric tons', 'million metric tons', 'million metric tons', 'million metric tons', 'million metric tons', 'million metric tons', 'million metric tons', 'million metric tons', 'million metric tons', 'million metric tons', 'million metric tons', 'million metric tons', 'million metric tons', 'million metric tons', 'million metric tons', 'million metric tons', 'million metric tons', 'million metric tons', 'million metric tons', 'million metric tons', 'million metric tons', 'million metric tons', 'million metric tons', 'million metric tons', 'million metric tons', 'million metric tons', 'million metric tons', 'million metric tons', 'million metric tons', 'million metric tons', 'million metric tons', 'million metric tons', 'million metric tons', 'million metric tons', 'million metric tons', 'million metric tons', 'million metric tons', 'million metric tons', 'million metric tons', 'million metric tons', 'million metric tons', 'million metric tons', 'million metric tons', 'million metric tons', 'million metric tons', 'million metric tons', 'million metric tons', 'million metric tons', 'million metric tons', 'million metric tons', 'million metric tons', 'million metric tons', 'million metric tons', 'million metric tons', 'million metric tons', 'million metric tons', 'million metric tons', 'million metric tons', 'million metric tons', 'million metric tons', 'million metric tons', 'million metric tons', 'million metric tons', 'million metric tons', 'million metric tons', 'million metric tons', 'million metric tons', 'million metric tons', 'million metric tons', 'million metric tons', 'million metric tons', 'million metric tons', 'million metric tons', 'million metric tons', 'million metric tons', 'million metric tons', 'million metric tons', 'million metric tons', 'million metric tons', 'million metric tons', 'million metric tons', 'million metric tons', 'million metric tons', 'million metric tons', 'million metric tons', 'million metric tons', 'million metric tons', 'million metric tons', 'million metric tons', 'million metric tons', 'million metric tons', 'million metric tons', 'million metric tons', 'million metric tons', 'million metric tons', 'million metric tons', 'million metric tons', 'million metric tons', 'million metric tons', 'million metric tons', 'million metric tons', 'million metric tons', 'million metric tons', 'million metric tons', 'million metric tons', 'million metric tons', 'million metric tons', 'million metric tons', 'million metric tons', 'million metric tons', 'million metric tons', 'million metric tons', 'million metric tons', 'million metric tons', 'million metric tons', 'million metric tons', 'million metric tons', 'million metric tons', 'million metric tons', 'million metric tons', 'million metric tons', 'million metric tons', 'million metric tons', 'million metric tons', 'million metric tons', 'million metric tons', 'million metric tons', 'million metric tons', 'million metric tons', 'million metric tons', 'million metric tons', 'million metric tons', 'million metric tons', 'million metric tons', 'million metric tons', 'million metric tons', 'million metric tons', 'million metric tons', 'million metric tons', 'million metric tons', 'million metric tons', 'million metric tons', 'million metric tons', 'million metric tons', 'million metric tons', 'million metric tons', 'million metric tons', 'million metric tons', 'million metric tons', 'million metric tons', 'million metric tons', 'million metric tons', 'million metric tons', 'million metric tons', 'million metric tons', 'million metric tons', 'million metric tons', 'million metric tons', 'million metric tons', 'million metric tons', 'million metric tons', 'million metric tons', 'million metric tons', 'million metric tons', 'million metric tons', 'million metric tons', 'million metric tons', 'million metric tons', 'million metric tons', 'million metric tons', 'million metric tons', 'million metric tons', 'million metric tons', 'million metric tons', 'million metric tons', 'million metric tons', 'million metric tons', 'million metric tons', 'million metric tons', 'million metric tons', 'million metric tons', 'million metric tons', 'million metric tons', 'million metric tons', 'million metric tons', 'million metric tons', 'million metric tons', 'million metric tons', 'million metric tons', 'million metric tons', 'million metric tons', 'million metric tons', 'million metric tons', 'million metric tons', 'million metric tons', 'million metric tons', 'million metric tons', 'million metric tons', 'million metric tons', 'million metric tons', 'million metric tons', 'million metric tons', 'million metric tons', 'million metric tons', 'million metric tons', 'million metric tons', 'million metric tons', 'million metric tons', 'million metric tons', 'million metric tons', 'million metric tons', 'million metric tons', 'million metric tons', 'million metric tons', 'million metric tons', 'million metric tons', 'million metric tons', 'million metric tons', 'million metric tons', 'million metric tons', 'million metric tons', 'million metric tons', 'million metric tons', 'million metric tons', 'million metric tons', 'million metric tons', 'million metric tons', 'million metric tons', 'million metric tons', 'million metric tons', 'million metric tons', 'million metric tons', 'million metric tons', 'million metric tons', 'million metric tons', 'million metric tons', 'million metric tons', 'million metric tons', 'million metric tons', 'million metric tons', 'million metric tons', 'million metric tons', 'million metric tons', 'million metric tons', 'million metric tons', 'million metric tons', 'million metric tons', 'million metric tons', 'million metric tons', 'million metric tons', 'million metric tons', 'million metric tons', 'million metric tons', 'million metric tons', 'million metric tons', 'million metric tons', 'million metric tons', 'million metric tons', 'million metric tons', 'million metric tons', 'million metric tons', 'million metric tons', 'million metric tons', 'million metric tons', 'million metric tons', 'million metric tons', 'million metric tons', 'million metric tons', 'million metric tons', 'million metric tons', 'million metric tons', 'million metric tons', 'million metric tons', 'million metric tons', 'million metric tons', 'million metric tons', 'million metric tons', 'million metric tons', 'million metric tons', 'million metric tons', 'million metric tons', 'million metric tons', 'million metric tons', 'million metric tons', 'million metric tons', 'million metric tons', 'million metric tons', 'million metric tons', 'million metric tons', 'million metric tons', 'million metric tons', 'million metric tons', 'million metric tons', 'million metric tons', 'million metric tons', 'million metric tons', 'million metric tons', 'million metric tons', 'million metric tons', 'million metric tons', 'million metric tons', 'million metric tons', 'million metric tons', 'million metric tons', 'million metric tons', 'million metric tons', 'million metric tons', 'million metric tons', 'million metric tons', 'million metric tons', 'million metric tons', 'million metric tons', 'million metric tons', 'million metric tons', 'million metric tons', 'million metric tons', 'million metric tons', 'million metric tons', 'million metric tons', 'million metric tons', 'million metric tons', 'million metric tons', 'million metric tons', 'million metric tons', 'million metric tons', 'million metric tons', 'million metric tons', 'million metric tons', 'million metric tons', 'million metric tons', 'million metric tons', 'million metric tons', 'million metric tons', 'million metric tons', 'million metric tons', 'million metric tons', 'million metric tons', 'million metric tons', 'million metric tons', 'million metric tons', 'million metric tons', 'million metric tons', 'million metric tons', 'million metric tons', 'million metric tons', 'million metric tons', 'million metric tons', 'million metric tons', 'million metric tons', 'million metric tons', 'million metric tons', 'million metric tons', 'million metric tons', 'million metric tons', 'million metric tons', 'million metric tons', 'million metric tons', 'million metric tons', 'million metric tons', 'million metric tons', 'million metric tons', 'million metric tons', 'million metric tons', 'million metric tons', 'million metric tons', 'million metric tons', 'million metric tons', 'million metric tons', 'million metric tons', 'million metric tons', 'million metric tons', 'million metric tons', 'million metric tons', 'million metric tons', 'million metric tons', 'million metric tons', 'million metric tons', 'million metric tons', 'million metric tons', 'million metric tons', 'million metric tons', 'million metric tons', 'million metric tons', 'million metric tons', 'million metric tons', 'million metric tons', 'million metric tons', 'million metric tons', 'million metric tons', 'million metric tons', 'million metric tons', 'million metric tons', 'million metric tons', 'million metric tons', 'million metric tons', 'million metric tons', 'million metric tons', 'million metric tons', 'million metric tons', 'million metric tons', 'million metric tons', 'million metric tons', 'million metric tons', 'million metric tons', 'million metric tons', 'million metric tons', 'million metric tons', 'million metric tons', 'million metric tons', 'million metric tons', 'million metric tons', 'million metric tons', 'million metric tons', 'million metric tons', 'million metric tons', 'million metric tons', 'million metric tons', 'million metric tons', 'million metric tons', 'million metric tons', 'million metric tons', 'million metric tons', 'million metric tons', 'million metric tons', 'million metric tons', 'million metric tons', 'million metric tons', 'million metric tons', 'million metric tons', 'million metric tons', 'million metric tons', 'million metric tons', 'million metric tons', 'million metric tons', 'million metric tons', 'million metric tons', 'million metric tons', 'million metric tons', 'million metric tons', 'million metric tons', 'million metric tons', 'million metric tons', 'million metric tons', 'million metric tons', 'million metric tons', 'million metric tons', 'million metric tons', 'million metric tons', 'million metric tons', 'million metric tons', 'million metric tons', 'million metric tons', 'million metric tons', 'million metric tons', 'million metric tons', 'million metric tons', 'million metric tons', 'million metric tons', 'million metric tons', 'million metric tons', 'million metric tons', 'million metric tons', 'million metric tons', 'million metric tons', 'million metric tons', 'million metric tons', 'million metric tons', 'million metric tons', 'million metric tons', 'million metric tons', 'million metric tons', 'million metric tons', 'million metric tons', 'million metric tons', 'million metric tons', 'million metric tons', 'million metric tons', 'million metric tons', 'million metric tons', 'million metric tons', 'million metric tons', 'million metric tons', 'million metric tons', 'million metric tons', 'million metric tons', 'million metric tons', 'million metric tons', 'million metric tons', 'million metric tons', 'million metric tons', 'million metric tons', 'million metric tons', 'million metric tons', 'million metric tons', 'million metric tons', 'million metric tons', 'million metric tons', 'million metric tons', 'million metric tons', 'million metric tons', 'million metric tons', 'million metric tons', 'million metric tons', 'million metric tons', 'million metric tons', 'million metric tons', 'million metric tons', 'million metric tons', 'million metric tons', 'million metric tons', 'million metric tons', 'million metric tons', 'million metric tons', 'million metric tons', 'million metric tons', 'million metric tons', 'million metric tons', 'million metric tons', 'million metric tons', 'million metric tons', 'million metric tons', 'million metric tons', 'million metric tons', 'million metric tons', 'million metric tons', 'million metric tons', 'million metric tons', 'million metric tons', 'million metric tons', 'million metric tons', 'million metric tons', 'million metric tons', 'million metric tons', 'million metric tons', 'million metric tons', 'million metric tons', 'million metric tons', 'million metric tons', 'million metric tons', 'million metric tons', 'million metric tons', 'million metric tons', 'million metric tons', 'million metric tons', 'million metric tons', 'million metric tons', 'million metric tons', 'million metric tons', 'million metric tons', 'million metric tons', 'million metric tons', 'million metric tons', 'million metric tons', 'million metric tons', 'million metric tons', 'million metric tons', 'million metric tons', 'million metric tons', 'million metric tons', 'million metric tons', 'million metric tons', 'million metric tons', 'million metric tons', 'million metric tons', 'million metric tons', 'million metric tons', 'million metric tons', 'million metric tons', 'million metric tons', 'million metric tons', 'million metric tons', 'million metric tons', 'million metric tons', 'million metric tons', 'million metric tons', 'million metric tons', 'million metric tons', 'million metric tons', 'million metric tons', 'million metric tons', 'million metric tons', 'million metric tons', 'million metric tons', 'million metric tons', 'million metric tons', 'million metric tons', 'million metric tons', 'million metric tons', 'million metric tons', 'million metric tons', 'million metric tons', 'million metric tons', 'million metric tons', 'million metric tons', 'million metric tons', 'million metric tons', 'million metric tons', 'million metric tons', 'million metric tons', 'million metric tons', 'million metric tons', 'million metric tons', 'million metric tons', 'million metric tons', 'million metric tons', 'million metric tons', 'million metric tons', 'million metric tons', 'million metric tons', 'million metric tons', 'million metric tons', 'million metric tons', 'million metric tons', 'million metric tons', 'million metric tons', 'million metric tons', 'million metric tons', 'million metric tons', 'million metric tons', 'million metric tons', 'million metric tons', 'million metric tons', 'million metric tons', 'million metric tons', 'million metric tons', 'million metric tons', 'million metric tons', 'million metric tons', 'million metric tons', 'million metric tons', 'million metric tons', 'million metric tons', 'million metric tons', 'million metric tons', 'million metric tons', 'million metric tons', 'million metric tons', 'million metric tons', 'million metric tons', 'million metric tons', 'million metric tons', 'million metric tons', 'million metric tons', 'million metric tons', 'million metric tons', 'million metric tons', 'million metric tons', 'million metric tons', 'million metric tons', 'million metric tons', 'million metric tons', 'million metric tons', 'million metric tons', 'million metric tons', 'million metric tons', 'million metric tons', 'million metric tons', 'million metric tons', 'million metric tons', 'million metric tons', 'million metric tons', 'million metric tons', 'million metric tons', 'million metric tons', 'million metric tons', 'million metric tons', 'million metric tons', 'million metric tons', 'million metric tons', 'million metric tons', 'million metric tons', 'million metric tons', 'million metric tons', 'million metric tons', 'million metric tons', 'million metric tons', 'million metric tons', 'million metric tons', 'million metric tons', 'million metric tons', 'million metric tons', 'million metric tons', 'million metric tons', 'million metric tons', 'million metric tons', 'million metric tons', 'million metric tons', 'million metric tons', 'million metric tons', 'million metric tons', 'million metric tons', 'million metric tons', 'million metric tons', 'million metric tons', 'million metric tons', 'million metric tons', 'million metric tons', 'million metric tons', 'million metric tons', 'million metric tons', 'million metric tons', 'million metric tons', 'million metric tons', 'million metric tons', 'million metric tons', 'million metric tons', 'million metric tons', 'million metric tons', 'million metric tons', 'million metric tons', 'million metric tons', 'million metric tons', 'million metric tons', 'million metric tons', 'million metric tons', 'million metric tons', 'million metric tons', 'million metric tons', 'million metric tons', 'million metric tons', 'million metric tons', 'million metric tons', 'million metric tons', 'million metric tons', 'million metric tons', 'million metric tons', 'million metric tons', 'million metric tons', 'million metric tons', 'million metric tons', 'million metric tons', 'million metric tons', 'million metric tons', 'million metric tons', 'million metric tons', 'million metric tons', 'million metric tons', 'million metric tons', 'million metric tons', 'million metric tons', 'million metric tons', 'million metric tons', 'million metric tons', 'million metric tons', 'million metric tons', 'million metric tons', 'million metric tons', 'million metric tons', 'million metric tons', 'million metric tons', 'million metric tons', 'million metric tons', 'million metric tons', 'million metric tons', 'million metric tons', 'million metric tons', 'million metric tons', 'million metric tons', 'million metric tons', 'million metric tons', 'million metric tons', 'million metric tons', 'million metric tons', 'million metric tons', 'million metric tons', 'million metric tons', 'million metric tons', 'million metric tons', 'million metric tons', 'million metric tons', 'million metric tons', 'million metric tons', 'million metric tons', 'million metric tons', 'million metric tons', 'million metric tons', 'million metric tons', 'million metric tons', 'million metric tons', 'million metric tons', 'million metric tons', 'million metric tons', 'million metric tons', 'million metric tons', 'million metric tons', 'million metric tons', 'million metric tons', 'million metric tons', 'million metric tons', 'million metric tons', 'million metric tons', 'million metric tons', 'million metric tons', 'million metric tons', 'million metric tons', 'million metric tons', 'million metric tons', 'million metric tons', 'million metric tons', 'million metric tons', 'million metric tons', 'million metric tons', 'million metric tons', 'million metric tons', 'million metric tons', 'million metric tons', 'million metric tons', 'million metric tons', 'million metric tons', 'million metric tons', 'million metric tons', 'million metric tons', 'million metric tons', 'million metric tons', 'million metric tons', 'million metric tons', 'million metric tons', 'million metric tons', 'million metric tons', 'million metric tons', 'million metric tons', 'million metric tons', 'million metric tons', 'million metric tons', 'million metric tons', 'million metric tons', 'million metric tons', 'million metric tons', 'million metric tons', 'million metric tons', 'million metric tons', 'million metric tons', 'million metric tons', 'million metric tons', 'metric tons', 'metric tons', 'metric tons', 'metric tons', 'metric tons', 'metric tons', 'metric tons', 'metric tons', 'metric tons', 'metric tons', 'metric tons', 'metric tons', 'metric tons', 'metric tons', 'metric tons', 'metric tons', 'metric tons', 'metric tons', 'million metric tons', 'million metric tons', 'metric tons', 'metric tons', 'metric tons', 'million metric tons', 'million metric tons', 'million metric tons', 'million metric tons', 'million metric tons', 'million metric tons', 'million metric tons', 'million metric tons', 'million metric tons', 'million metric tons', 'million metric tons', 'million metric tons', 'million metric tons', 'million metric tons', 'million metric tons', 'million metric tons', 'million metric tons', 'million metric tons', 'million metric tons', 'million metric tons', 'million metric tons', 'million metric tons', 'million metric tons', 'million metric tons', 'million metric tons', 'million metric tons', 'million metric tons', 'million metric tons', 'metric tons', 'metric tons', 'metric tons', 'metric tons', 'metric tons', 'metric tons', 'metric tons', 'metric tons', 'metric tons', 'metric tons', 'million metric tons', 'million metric tons', 'million metric tons', 'million metric tons', 'million metric tons', 'million metric tons', 'million metric tons', 'million metric tons', 'million metric tons', 'million metric tons', 'million metric tons', 'million metric tons', 'million metric tons', 'million metric tons', 'million metric tons', 'million metric tons', 'million metric tons', 'million metric tons', 'million metric tons', 'million metric tons', 'million metric tons', 'million metric tons', 'million metric tons', 'million metric tons', 'million metric tons', 'million metric tons', 'million metric tons', 'million metric tons', 'million metric tons', 'million metric tons', 'million metric tons', 'million metric tons', 'million metric tons', 'million metric tons', 'million metric tons', 'million metric tons', 'million metric tons', 'million metric tons', 'million metric tons', 'million metric tons', 'million metric tons', 'million metric tons', 'million metric tons', 'million metric tons', 'million metric tons', 'million metric tons', 'million metric tons', 'million metric tons', 'million metric tons', 'million metric tons', 'million metric tons', 'million metric tons', 'million metric tons', 'million metric tons', 'million metric tons', 'million metric tons', 'million metric tons', 'million metric tons', 'million metric tons', 'million metric tons', 'million metric tons', 'million metric tons', 'million metric tons', 'million metric tons', 'metric tons', 'metric tons', 'metric tons', 'metric tons', 'metric tons', 'metric tons', 'metric tons', 'metric tons', 'metric tons', 'metric tons', 'metric tons', 'metric tons', 'metric tons', 'metric tons', 'metric tons', 'metric tons', 'metric tons', 'metric tons', 'metric tons', 'metric tons', 'metric tons', 'metric tons', 'metric tons', 'metric tons', 'million metric tons', 'million metric tons', 'million metric tons', 'million metric tons', 'million metric tons', 'million metric tons', 'million metric tons', 'million metric tons', 'million metric tons', 'million metric tons', 'million metric tons', 'million metric tons', 'million metric tons', 'million metric tons', 'million metric tons', 'million metric tons', 'million metric tons', 'million metric tons', 'million metric tons', 'million metric tons', 'million metric tons', 'million metric tons', 'million metric tons', 'million metric tons', 'million metric tons', 'million metric tons', 'million metric tons', 'million metric tons', 'million metric tons', 'million metric tons', 'million metric tons', 'million metric tons', 'metric tons', 'metric tons', 'metric tons', 'metric tons', 'metric tons', 'million metric tons', 'metric tons', 'metric tons', 'metric tons', 'metric tons', 'metric tons', 'metric tons', 'metric tons', 'metric tons', 'metric tons', 'metric tons', 'metric tons', 'metric tons', 'metric tons', 'metric tons', 'metric tons', 'metric tons', 'metric tons', 'metric tons', 'metric tons', 'metric tons', 'metric tons', 'metric tons', 'metric tons', 'metric tons', 'metric tons', 'metric tons', 'metric tons', 'metric tons', 'metric tons', 'metric tons', 'metric tons', 'metric tons', 'metric tons', 'metric tons', 'metric tons', 'metric tons', 'metric tons', 'metric tons', 'metric tons', 'metric tons', 'metric tons', 'metric tons', 'metric tons', 'metric tons', 'metric tons', 'metric tons', 'metric tons', 'metric tons', 'metric tons', 'metric tons', 'metric tons', 'metric tons', 'metric tons', 'metric tons', 'metric tons', 'metric tons', 'metric tons', 'metric tons', 'metric tons', 'metric tons', 'metric tons', 'metric tons', 'metric tons', 'metric tons', 'metric tons', 'metric tons', 'metric tons', 'metric tons', 'metric tons', 'metric tons', 'metric tons', 'million metric tons', 'million metric tons', 'million metric tons', 'million metric tons', 'metric tons', 'million metric tons', 'million metric tons', 'million metric tons', 'million metric tons', 'million metric tons', 'million metric tons', 'million metric tons', 'million metric tons', 'metric tons', 'metric tons', 'metric tons', 'metric tons', 'metric tons', 'metric tons', 'metric tons', 'million metric tons', 'million metric tons', 'metric tons', 'metric tons', 'metric tons', 'metric tons', 'metric tons', 'metric tons', 'metric tons', 'million metric tons', 'million metric tons', 'metric tons', 'metric tons', 'metric tons', 'metric tons', 'metric tons', 'metric tons', 'metric tons', 'million metric tons', 'million metric tons', 'metric tons', 'metric tons', 'million metric tons', 'metric tons', 'metric tons', 'metric tons', 'million metric tons', 'million metric tons', 'metric tons', 'metric tons', 'metric tons', 'metric tons', 'metric tons', 'million metric tons', 'million metric tons', 'million metric tons', 'million metric tons', 'metric tons', 'metric tons', 'million metric tons', 'million metric tons', 'million metric tons', 'million metric tons', 'million metric tons', 'million metric tons', 'million metric tons', 'million metric tons', 'million metric tons', 'million metric tons', 'million metric tons', 'million metric tons', 'million metric tons', 'million metric tons', 'million metric tons', 'million metric tons', 'million metric tons', 'million metric tons', 'million metric tons', 'million metric tons', 'million metric tons', 'million metric tons', 'million metric tons', 'million metric tons', 'million metric tons', 'million metric tons', 'million metric tons', 'million metric tons', 'million metric tons', 'million metric tons', 'million metric tons', 'million metric tons', 'million metric tons', 'million metric tons', 'million metric tons', 'million metric tons', 'million metric tons', 'million metric tons', 'metric tons', 'metric tons', 'metric tons', 'metric tons', 'metric tons', 'metric tons', 'million metric tons', 'metric tons', 'million metric tons', 'million metric tons', 'million metric tons', 'million metric tons', 'million metric tons', 'million metric tons', 'million metric tons', 'million metric tons', 'million metric tons', 'million metric tons', 'million metric tons', 'million metric tons', 'million metric tons', 'million metric tons', 'million metric tons', 'million metric tons', 'million metric tons', 'million metric tons', 'million metric tons', 'million metric tons', 'million metric tons', 'million metric tons', 'million metric tons', 'million metric tons', 'million metric tons', 'million metric tons', 'million metric tons', 'million metric tons', 'million metric tons', 'million metric tons', 'metric tons', 'metric tons', 'metric tons', 'metric tons', 'metric tons', 'metric tons', 'million metric tons', 'million metric tons', 'million metric tons', 'million metric tons', 'million metric tons', 'million metric tons', 'million metric tons', 'million metric tons', 'million metric tons', 'million metric tons', 'million metric tons', 'million metric tons', 'million metric tons', 'million metric tons', 'million metric tons', 'million metric tons', 'million metric tons', 'million metric tons', 'million metric tons', 'million metric tons', 'million metric tons', 'million metric tons', 'million metric tons', 'million metric tons', 'metric tons', 'metric tons', 'metric tons', 'metric tons', 'million metric tons', 'metric tons', 'million metric tons', 'metric tons', 'million metric tons', 'metric tons', 'metric tons', 'metric tons', 'metric tons', 'metric tons', 'metric tons', 'metric tons', 'million metric tons', 'million metric tons', 'million metric tons', 'million metric tons', 'million metric tons', 'million metric tons', 'million metric tons', 'metric tons', 'million metric tons', 'million metric tons', 'million metric tons', 'million metric tons', 'million metric tons', 'million metric tons', 'million metric tons', 'million metric tons', 'million metric tons', 'million metric tons', 'million metric tons', 'million metric tons', 'million metric tons', 'million metric tons', 'metric tons', 'million metric tons', 'million metric tons', 'million metric tons', 'million metric tons', 'million metric tons', 'million metric tons', 'metric tons', 'metric tons', 'metric tons', 'million metric tons', 'million metric tons', 'million metric tons', 'million metric tons', 'metric tons', 'million metric tons', 'million metric tons', 'million metric tons', 'million metric tons', 'metric tons', 'metric tons', 'metric tons', 'metric tons', 'metric tons', 'million metric tons', 'million metric tons', 'million metric tons', 'million metric tons', 'million metric tons', 'million metric tons', 'metric tons', 'metric tons', 'metric tons', 'million metric tons', 'million metric tons', 'million metric tons', 'million metric tons', 'metric tons', 'metric tons', 'metric tons', 'metric tons', 'metric tons', 'metric tons', 'metric tons', 'metric tons', 'million metric tons', 'million metric tons', 'million metric tons', 'million metric tons', 'million metric tons', 'million metric tons', 'metric tons', 'metric tons', 'metric tons', 'metric tons', 'metric tons', 'metric tons', 'metric tons', 'metric tons', 'metric tons', 'metric tons', 'metric tons', 'metric tons', 'metric tons', 'metric tons', 'metric tons', 'metric tons', 'metric tons', 'metric tons', 'metric tons', 'metric tons', 'metric tons', 'metric tons', 'metric tons', 'metric tons', 'metric tons', 'metric tons', 'metric tons', 'metric tons', 'metric tons', 'metric tons', 'metric tons', 'metric tons', 'metric tons', 'metric tons', 'metric tons', 'metric tons', 'metric tons', 'metric tons', 'metric tons', 'metric tons', 'metric tons', 'metric tons', 'metric tons', 'metric tons', 'metric tons', 'metric tons', 'metric tons', 'metric tons', 'metric tons', 'metric tons', 'metric tons', 'metric tons', 'metric tons', 'metric tons', 'metric tons', 'metric tons', 'metric tons', 'metric tons', 'metric tons', 'metric tons', 'metric tons', 'metric tons', 'metric tons', 'metric tons', 'metric tons', 'metric tons', 'metric tons', 'metric tons', 'metric tons', 'metric tons', 'metric tons', 'metric tons', 'metric tons', 'metric tons', 'metric tons', 'metric tons', 'metric tons', 'metric tons', 'metric tons', 'metric tons', 'metric tons', 'metric tons', 'metric tons', 'metric tons', 'metric tons', 'metric tons', 'metric tons', 'metric tons', 'metric tons', 'metric tons', 'metric tons', 'metric tons', 'metric tons', 'metric tons', 'metric tons', 'metric tons', 'metric tons', 'metric tons', 'metric tons', 'metric tons', 'metric tons', 'metric tons', 'metric tons', 'metric tons', 'metric tons', 'metric tons', 'metric tons', 'metric tons', 'metric tons', 'metric tons', 'metric tons', 'metric tons', 'metric tons', 'metric tons', 'metric tons', 'metric tons', 'metric tons', 'metric tons', 'metric tons', 'metric tons', 'metric tons', 'metric tons', 'metric tons', 'metric tons', 'metric tons', 'metric tons', 'metric tons', 'metric tons', 'metric tons', 'metric tons', 'metric tons', 'metric tons', 'metric tons', 'metric tons', 'metric tons', 'metric tons', 'metric tons', 'metric tons', 'metric tons', 'metric tons', 'metric tons', 'metric tons', 'metric tons', 'metric tons', 'metric tons', 'metric tons', 'metric tons', 'metric tons', 'metric tons', 'metric tons', 'metric tons', 'metric tons', 'metric tons', 'metric tons', 'metric tons', 'metric tons', 'metric tons', 'metric tons', 'metric tons', 'metric tons', 'metric tons', 'metric tons', 'metric tons', 'metric tons', 'million metric tons', 'million metric tons', 'million metric tons', 'million metric tons', 'million metric tons', 'million metric tons', 'million metric tons', 'million metric tons', 'million metric tons', 'million metric tons', 'million metric tons', 'million metric tons', 'million metric tons', 'million metric tons', 'million metric tons', 'million metric tons', 'million metric tons', 'million metric tons', 'million metric tons', 'million metric tons', 'million metric tons', 'million metric tons', 'million metric tons', 'million metric tons', 'million metric tons', 'million metric tons', 'million metric tons', 'million metric tons', 'million metric tons', 'million metric tons', 'million metric tons', 'million metric tons', 'million metric tons', 'million metric tons', 'million metric tons', 'million metric tons', 'million metric tons', 'million metric tons', 'million metric tons', 'million metric tons', 'million metric tons', 'million metric tons', 'million metric tons', 'million metric tons', 'million metric tons', 'million metric tons', 'million metric tons', 'million metric tons', 'million metric tons', 'million metric tons', 'million metric tons', 'million metric tons', 'million metric tons', 'million metric tons', 'million metric tons', 'million metric tons', 'million metric tons', 'million metric tons', 'million metric tons', 'million metric tons', 'million metric tons', 'million metric tons', 'million metric tons', 'million metric tons', 'million metric tons', 'million metric tons', 'million metric tons', 'million metric tons', 'million metric tons', 'million metric tons', 'million metric tons', 'million metric tons', 'million metric tons', 'million metric tons', 'million metric tons', 'million metric tons', 'million metric tons', 'million metric tons', 'million metric tons', 'million metric tons', 'million metric tons', 'million metric tons', 'million metric tons', 'million metric tons', 'metric tons', 'metric tons', 'metric tons', 'metric tons', 'metric tons', 'metric tons', 'metric tons', 'metric tons', 'metric tons', 'metric tons', 'million metric tons', 'million metric tons', 'million metric tons', 'million metric tons', 'million metric tons', 'million metric tons', 'million metric tons', 'million metric tons', 'million metric tons', 'million metric tons', 'million metric tons', 'million metric tons', 'million metric tons', 'million metric tons', 'million metric tons', 'million metric tons', 'million metric tons', 'million metric tons', 'million metric tons', 'million metric tons', 'million metric tons', 'million metric tons', 'million metric tons', 'million metric tons', 'million metric tons', 'million metric tons', 'million metric tons', 'million metric tons', 'million metric tons', 'million metric tons', 'million metric tons', 'million metric tons', 'million metric tons', 'million metric tons', 'million metric tons', 'million metric tons', 'million metric tons', 'million metric tons', 'million metric tons', 'million metric tons', 'million metric tons', 'million metric tons', 'metric tons', 'metric tons', 'metric tons', 'metric tons', 'metric tons', 'metric tons', 'metric tons', 'metric tons', 'metric tons', 'metric tons', 'million metric tons', 'million metric tons', 'million metric tons', 'million metric tons', 'million metric tons', 'million metric tons', 'million metric tons', 'million metric tons', 'million metric tons', 'million metric tons', 'million metric tons', 'million metric tons', 'million metric tons', 'million metric tons', 'million metric tons', 'million metric tons', 'million metric tons', 'million metric tons', 'million metric tons', 'million metric tons', 'million short tons', 'million short tons', 'million short tons', 'million short tons', 'million short tons', 'million short tons', 'million short tons', 'metric tons', 'metric tons', 'metric tons', 'metric tons', 'metric tons', 'metric tons', 'metric tons', 'metric tons', 'metric tons', 'metric tons', 'metric tons', 'metric tons', 'metric tons', 'metric tons', 'million metric tons', 'million metric tons', 'million metric tons', 'million metric tons', 'million metric tons', 'million metric tons', 'million metric tons', 'million metric tons', 'million metric tons', 'metric tons', 'metric tons', 'metric tons', 'million metric tons', 'million metric tons', 'metric tons', 'metric tons', 'metric tons', 'metric tons', 'metric tons', 'million metric tons', 'million metric tons', 'million metric tons', 'million metric tons', 'million metric tons', 'million metric tons', 'million metric tons', 'million metric tons', 'million metric tons', 'million metric tons', 'million metric tons', 'million metric tons', 'million metric tons', 'metric tons', 'million metric tons', 'million metric tons', 'million metric tons', 'metric tons', 'metric tons', 'metric tons', 'metric tons', 'metric tons', 'metric tons', 'metric tons', 'million metric tons', 'million metric tons', 'million metric tons', 'million metric tons', 'million metric tons', 'million metric tons', 'million metric tons', 'million metric tons', 'million metric tons', 'million metric tons', 'million metric tons', 'million metric tons', 'metric tons', 'metric tons', 'metric tons', 'metric tons', 'metric tons', 'metric tons', 'metric tons', 'metric tons', 'metric tons', 'metric tons', 'metric tons', 'million metric tons', 'million metric tons', 'million metric tons', 'million metric tons', 'million short tons', 'million short tons', 'million metric tons', 'million metric tons', 'million metric tons', 'million metric tons', 'short tons', 'short tons', 'short tons', 'short tons', 'short tons', 'short tons', 'million short tons', 'metric tons', 'metric tons', 'metric tons', 'metric tons', 'million metric tons', 'million metric tons', 'million metric tons', 'million metric tons', 'million metric tons', 'million metric tons', 'million metric tons', 'million metric tons', 'million metric tons', 'million metric tons', 'million metric tons', 'million metric tons', 'million metric tons', 'million metric tons', 'million metric tons', 'million metric tons', 'million metric tons', 'million metric tons', 'million short tons', 'million short tons', 'million pounds (avdp)', 'million pounds (avdp)', 'million metric tons', 'metric tons', 'million metric tons', 'million metric tons', 'metric tons', 'metric tons', 'metric tons', 'metric tons', 'metric tons', 'million metric tons', 'million metric tons', 'million metric tons', 'million metric tons', 'million metric tons', 'million metric tons', 'million metric tons', 'million metric tons', 'million metric tons', 'million metric tons', 'million metric tons', 'million metric tons', 'million metric tons', 'million metric tons', 'million metric tons', 'million metric tons', 'million metric tons', 'million metric tons', 'million metric tons', 'million metric tons', 'million metric tons', 'million metric tons', 'million metric tons', 'million metric tons', 'million metric tons', 'million metric tons', 'million metric tons', 'million metric tons', 'million metric tons', 'million metric tons', 'million metric tons', 'million metric tons', 'million metric tons', 'million metric tons', 'million metric tons', 'million metric tons', 'million metric tons', 'million metric tons', 'million metric tons', 'million metric tons', 'million metric tons', 'million metric tons', 'million metric tons', 'million metric tons', 'million metric tons', 'million metric tons', 'million metric tons', 'million metric tons', 'million metric tons', 'million metric tons', 'million metric tons', 'million metric tons', 'million metric tons', 'million metric tons', 'million metric tons', 'million metric tons', 'million metric tons', 'million metric tons', 'million metric tons', 'million metric tons', 'million metric tons', 'million metric tons', 'million metric tons', 'million metric tons', 'million metric tons', 'million metric tons', 'million metric tons', 'million metric tons', 'million metric tons', 'million metric tons', 'million metric tons', 'million metric tons', 'million metric tons', 'million metric tons', 'million metric tons', 'million metric tons', 'million metric tons', 'million metric tons', 'million metric tons', 'million metric tons', 'metric tons', 'metric tons', 'metric tons', 'metric tons', 'metric tons', 'metric tons', 'million metric tons', 'million metric tons', 'million metric tons', 'million metric tons', 'million metric tons', 'million metric tons', 'million metric tons', 'million metric tons', 'million metric tons', 'million metric tons', 'million metric tons', 'million metric tons', 'million metric tons', 'million metric tons', 'million metric tons', 'million metric tons', 'million metric tons', 'million metric tons', 'million metric tons', 'million metric tons', 'million metric tons', 'million metric tons', 'million metric tons', 'million metric tons', 'million metric tons', 'million metric tons', 'million metric tons', 'million metric tons', 'million metric tons', 'million metric tons', 'million metric tons', 'million metric tons', 'million metric tons', 'million metric tons', 'million metric tons', 'million metric tons', 'million metric tons', 'million metric tons', 'million metric tons', 'million metric tons', 'million metric tons', 'cubic metres', 'metric tons', 'metric tons', 'metric tons', 'cubic metres', 'cubic metres', 'metric tons', 'metric tons', 'million metric tons', 'metric tons', 'million metric tons', 'metric tons', 'metric tons', 'million short tons', 'metric tons', 'metric tons', 'million short tons', 'metric tons', 'metric tons', 'metric tons', 'metric tons', 'metric tons', 'metric tons', 'metric tons', 'metric tons', 'metric tons', 'metric tons', 'metric tons', 'million metric tons', 'metric tons'], str_idx_array=[13, 14, 15, 16, 17, 18, 19, 20, 21, 22, 23, 24, 25, 26, 27, 28, 29, 30, 31, 32, 33, 36, 37, 38, 39, 40, 43, 44, 45, 46, 47, 48, 49, 50, 51, 52, 53, 54, 55, 56, 57, 58, 59, 60, 61, 62, 63, 64, 74, 75, 76, 77, 86, 87, 88, 92, 93, 94, 95, 96, 97, 98, 99, 102, 103, 104, 105, 106, 107, 108, 109, 110, 111, 122, 123, 124, 125, 131, 132, 133, 135, 137, 138, 139, 140, 141, 142, 143, 144, 145, 146, 147, 148, 149, 150, 152, 153, 155, 156, 157, 158, 159, 160, 161, 162, 163, 164, 165, 166, 167, 168, 169, 170, 171, 172, 175, 176, 177, 178, 179, 180, 181, 182, 183, 184, 185, 186, 187, 188, 189, 190, 191, 192, 193, 194, 196, 197, 202, 203, 204, 207, 208, 209, 210, 211, 212, 213, 215, 216, 217, 218, 219, 220, 221, 222, 223, 224, 226, 227, 228, 229, 230, 234, 235, 236, 237, 238, 239, 240, 241, 242, 243, 244, 245, 246, 247, 248, 249, 250, 251, 252, 253, 254, 255, 256, 257, 258, 259, 260, 261, 262, 263, 264, 265, 266, 267, 269, 270, 271, 273, 274, 275, 276, 277, 278, 279, 280, 281, 282, 283, 286, 287, 288, 289, 290, 291, 299, 300, 301, 302, 303, 304, 307, 308, 309, 310, 311, 312, 313, 314, 315, 316, 317, 318, 319, 321, 322, 323, 324, 325, 326, 327, 328, 329, 330, 331, 332, 333, 334, 335, 336, 337, 338, 339, 340, 341, 342, 343, 344, 345, 346, 347, 348, 349, 350, 351, 352, 353, 354, 355, 356, 357, 358, 359, 360, 361, 362, 363, 364, 365, 366, 367, 368, 369, 370, 371, 372, 373, 374, 375, 376, 377, 378, 379, 380, 381, 382, 383, 384, 385, 386, 387, 388, 389, 390, 391, 392, 404, 405, 406, 407, 408, 409, 410, 411, 412, 413, 414, 415, 416, 417, 418, 419, 420, 421, 422, 423, 424, 425, 426, 427, 428, 429, 430, 431, 432, 433, 434, 435, 436, 437, 438, 439, 440, 441, 442, 443, 444, 445, 446, 447, 448, 449, 450, 451, 452, 453, 454, 455, 456, 457, 458, 459, 460, 461, 462, 463, 464, 465, 466, 467, 468, 469, 470, 471, 472, 473, 474, 475, 476, 477, 478, 479, 480, 481, 482, 483, 484, 485, 486, 487, 488, 489, 490, 491, 492, 493, 494, 495, 496, 497, 498, 499, 500, 501, 502, 503, 504, 505, 506, 507, 508, 509, 510, 511, 512, 513, 514, 515, 516, 517, 518, 519, 520, 521, 522, 523, 524, 525, 526, 527, 528, 529, 530, 531, 532, 533, 534, 535, 536, 537, 538, 539, 540, 541, 542, 543, 544, 545, 546, 547, 548, 549, 550, 551, 552, 553, 554, 555, 556, 557, 558, 559, 560, 561, 562, 563, 564, 565, 566, 567, 568, 569, 570, 571, 572, 573, 574, 575, 576, 577, 578, 579, 580, 581, 582, 583, 584, 585, 586, 587, 588, 589, 590, 591, 592, 593, 594, 595, 596, 597, 598, 599, 600, 601, 602, 603, 604, 605, 606, 607, 608, 609, 610, 611, 612, 613, 614, 615, 616, 617, 618, 619, 620, 621, 622, 623, 624, 625, 626, 627, 628, 629, 630, 631, 632, 633, 634, 635, 636, 637, 638, 639, 640, 641, 642, 643, 644, 645, 646, 647, 648, 649, 650, 651, 652, 655, 656, 657, 658, 659, 660, 661, 662, 663, 664, 665, 666, 667, 668, 669, 670, 671, 672, 673, 674, 675, 676, 677, 678, 679, 680, 681, 682, 683, 684, 685, 686, 687, 688, 689, 690, 691, 692, 693, 694, 695, 696, 697, 698, 699, 700, 701, 702, 703, 704, 705, 706, 707, 708, 709, 710, 711, 712, 713, 714, 715, 716, 717, 718, 719, 720, 721, 722, 723, 724, 725, 726, 727, 728, 729, 730, 733, 734, 735, 736, 737, 739, 740, 741, 742, 743, 744, 745, 746, 747, 748, 749, 750, 751, 752, 753, 754, 755, 756, 757, 758, 759, 760, 761, 762, 763, 764, 765, 766, 767, 768, 769, 770, 771, 772, 773, 774, 775, 776, 777, 778, 779, 780, 781, 782, 783, 784, 785, 786, 787, 788, 789, 790, 791, 792, 793, 794, 795, 796, 797, 798, 799, 800, 801, 802, 803, 804, 805, 806, 807, 808, 809, 810, 811, 812, 813, 814, 815, 816, 817, 818, 819, 820, 821, 822, 823, 824, 825, 826, 827, 828, 829, 830, 831, 832, 833, 834, 835, 836, 837, 838, 839, 840, 841, 842, 843, 844, 845, 846, 847, 848, 849, 850, 851, 852, 853, 854, 855, 856, 857, 858, 859, 860, 861, 862, 863, 864, 865, 866, 867, 868, 869, 870, 871, 872, 873, 874, 875, 876, 877, 878, 879, 880, 881, 882, 883, 884, 885, 886, 887, 888, 889, 890, 891, 892, 893, 894, 895, 896, 897, 898, 899, 900, 901, 902, 903, 904, 905, 906, 907, 908, 909, 910, 911, 912, 913, 914, 915, 916, 917, 918, 919, 920, 921, 922, 923, 924, 925, 926, 927, 928, 929, 930, 931, 932, 933, 934, 935, 936, 937, 938, 939, 940, 941, 942, 943, 944, 945, 946, 947, 948, 949, 950, 951, 952, 953, 954, 955, 956, 957, 958, 959, 960, 961, 962, 963, 964, 965, 966, 967, 968, 969, 970, 971, 972, 973, 974, 975, 976, 977, 978, 979, 980, 981, 982, 983, 984, 985, 986, 987, 988, 989, 990, 991, 992, 993, 994, 995, 996, 997, 998, 999, 1000, 1001, 1002, 1003, 1004, 1005, 1006, 1007, 1008, 1009, 1010, 1011, 1012, 1013, 1014, 1015, 1016, 1017, 1018, 1019, 1020, 1021, 1022, 1023, 1024, 1025, 1026, 1027, 1028, 1029, 1030, 1031, 1032, 1033, 1034, 1035, 1036, 1037, 1038, 1039, 1040, 1041, 1042, 1043, 1044, 1045, 1046, 1047, 1048, 1049, 1050, 1051, 1052, 1053, 1054, 1055, 1056, 1057, 1058, 1059, 1060, 1061, 1062, 1063, 1064, 1065, 1066, 1067, 1068, 1069, 1070, 1071, 1072, 1073, 1074, 1075, 1076, 1077, 1078, 1079, 1080, 1081, 1082, 1083, 1084, 1085, 1086, 1087, 1088, 1089, 1090, 1091, 1092, 1093, 1094, 1095, 1096, 1097, 1098, 1099, 1100, 1101, 1102, 1103, 1104, 1105, 1106, 1107, 1108, 1109, 1110, 1111, 1112, 1113, 1114, 1115, 1116, 1117, 1118, 1119, 1120, 1121, 1122, 1123, 1124, 1125, 1126, 1127, 1128, 1129, 1130, 1131, 1132, 1133, 1134, 1135, 1136, 1137, 1138, 1139, 1140, 1141, 1142, 1143, 1144, 1145, 1146, 1147, 1148, 1149, 1150, 1151, 1152, 1153, 1154, 1155, 1156, 1157, 1158, 1159, 1160, 1161, 1162, 1163, 1164, 1165, 1166, 1167, 1168, 1169, 1170, 1171, 1172, 1173, 1174, 1175, 1176, 1177, 1178, 1179, 1180, 1181, 1182, 1183, 1184, 1185, 1186, 1187, 1188, 1189, 1190, 1191, 1192, 1193, 1194, 1195, 1196, 1197, 1198, 1199, 1200, 1201, 1202, 1203, 1204, 1205, 1206, 1207, 1208, 1209, 1210, 1211, 1212, 1213, 1214, 1215, 1216, 1217, 1218, 1219, 1220, 1221, 1222, 1223, 1224, 1225, 1226, 1227, 1228, 1229, 1230, 1231, 1232, 1233, 1234, 1235, 1236, 1237, 1238, 1239, 1240, 1241, 1242, 1243, 1244, 1245, 1246, 1247, 1248, 1249, 1250, 1251, 1252, 1253, 1254, 1255, 1256, 1257, 1258, 1259, 1260, 1261, 1262, 1263, 1264, 1265, 1266, 1267, 1268, 1269, 1270, 1271, 1272, 1273, 1274, 1275, 1276, 1277, 1278, 1279, 1280, 1281, 1282, 1283, 1284, 1285, 1286, 1287, 1288, 1289, 1290, 1291, 1292, 1293, 1294, 1295, 1296, 1297, 1298, 1299, 1300, 1301, 1302, 1303, 1304, 1305, 1306, 1307, 1308, 1309, 1310, 1311, 1312, 1313, 1314, 1315, 1316, 1317, 1318, 1319, 1320, 1321, 1322, 1323, 1324, 1325, 1326, 1327, 1328, 1329, 1330, 1331, 1332, 1333, 1334, 1335, 1336, 1337, 1338, 1339, 1340, 1341, 1342, 1343, 1344, 1345, 1346, 1347, 1348, 1349, 1350, 1351, 1352, 1353, 1354, 1355, 1356, 1357, 1358, 1359, 1360, 1361, 1362, 1363, 1364, 1365, 1366, 1367, 1368, 1369, 1370, 1371, 1372, 1373, 1374, 1375, 1376, 1377, 1378, 1379, 1380, 1381, 1382, 1383, 1384, 1385, 1386, 1387, 1388, 1389, 1390, 1391, 1392, 1393, 1394, 1395, 1396, 1397, 1398, 1399, 1400, 1401, 1402, 1403, 1404, 1405, 1406, 1407, 1408, 1409, 1410, 1411, 1412, 1413, 1414, 1415, 1416, 1417, 1418, 1419, 1420, 1421, 1422, 1423, 1424, 1425, 1426, 1427, 1428, 1429, 1430, 1431, 1432, 1433, 1434, 1435, 1436, 1437, 1438, 1439, 1440, 1441, 1442, 1443, 1444, 1445, 1446, 1447, 1448, 1449, 1450, 1451, 1452, 1453, 1454, 1455, 1456, 1457, 1458, 1459, 1460, 1461, 1462, 1463, 1464, 1465, 1466, 1467, 1468, 1469, 1470, 1471, 1472, 1473, 1474, 1475, 1476, 1477, 1478, 1479, 1480, 1481, 1482, 1483, 1484, 1485, 1486, 1487, 1488, 1489, 1490, 1491, 1492, 1493, 1494, 1495, 1496, 1497, 1498, 1499, 1500, 1501, 1502, 1503, 1504, 1505, 1506, 1507, 1508, 1509, 1510, 1511, 1512, 1513, 1514, 1515, 1516, 1517, 1518, 1519, 1520, 1521, 1522, 1523, 1524, 1525, 1526, 1527, 1528, 1529, 1530, 1531, 1532, 1533, 1534, 1535, 1536, 1537, 1538, 1539, 1540, 1541, 1542, 1543, 1544, 1545, 1546, 1547, 1548, 1549, 1550, 1551, 1552, 1553, 1554, 1555, 1556, 1557, 1558, 1559, 1560, 1561, 1562, 1563, 1564, 1565, 1566, 1567, 1568, 1569, 1570, 1571, 1572, 1573, 1574, 1575, 1576, 1577, 1578, 1579, 1580, 1581, 1582, 1583, 1584, 1585, 1586, 1587, 1588, 1589, 1590, 1591, 1592, 1593, 1594, 1595, 1596, 1597, 1598, 1599, 1600, 1601, 1602, 1603, 1604, 1605, 1606, 1607, 1608, 1609, 1610, 1611, 1612, 1613, 1614, 1615, 1616, 1617, 1618, 1619, 1620, 1621, 1622, 1623, 1624, 1625, 1626, 1627, 1628, 1629, 1630, 1631, 1632, 1633, 1634, 1635, 1636, 1637, 1638, 1639, 1640, 1641, 1642, 1643, 1644, 1645, 1646, 1647, 1648, 1649, 1650, 1651, 1652, 1653, 1654, 1655, 1656, 1657, 1658, 1659, 1660, 1661, 1662, 1663, 1664, 1665, 1666, 1667, 1668, 1669, 1670, 1671, 1672, 1673, 1674, 1675, 1676, 1677, 1678, 1679, 1680, 1681, 1682, 1683, 1684, 1685, 1686, 1687, 1688, 1689, 1690, 1691, 1692, 1693, 1694, 1695, 1696, 1697, 1698, 1699, 1700, 1701, 1702, 1703, 1704, 1705, 1706, 1707, 1708, 1709, 1710, 1711, 1712, 1713, 1714, 1715, 1716, 1717, 1718, 1719, 1720, 1721, 1722, 1723, 1724, 1725, 1726, 1727, 1728, 1729, 1730, 1731, 1732, 1733, 1734, 1735, 1736, 1737, 1738, 1739, 1740, 1741, 1742, 1743, 1744, 1745, 1746, 1747, 1748, 1749, 1750, 1751, 1752, 1753, 1754, 1755, 1756, 1757, 1758, 1759, 1760, 1761, 1762, 1763, 1764, 1765, 1766, 1767, 1768, 1769, 1770, 1771, 1772, 1773, 1774, 1775, 1776, 1777, 1778, 1779, 1780, 1781, 1782, 1783, 1784, 1785, 1786, 1787, 1788, 1789, 1790, 1791, 1792, 1793, 1794, 1795, 1796, 1797, 1798, 1799, 1800, 1801, 1802, 1803, 1822, 1823, 1824, 1825, 1826, 1827, 1828, 1829, 1830, 1831, 1832, 1833, 1834, 1835, 1836, 1837, 1838, 1839, 1840, 1841, 1842, 1843, 1844, 1845, 1846, 1847, 1848, 1849, 1850, 1851, 1852, 1863, 1864, 1865, 1866, 1867, 1868, 1869, 1870, 1871, 1872, 1875, 1876, 1877, 1878, 1879, 1880, 1881, 1882, 1883, 1884, 1885, 1886, 1887, 1888, 1889, 1890, 1891, 1892, 1893, 1894, 1895, 1896, 1897, 1898, 1899, 1900, 1901, 1902, 1903, 1904, 1905, 1906, 1907, 1908, 1909, 1910, 1911, 1912, 1913, 1914, 1915, 1916, 1917, 1918, 1919, 1920, 1921, 1922, 1923, 1924, 1925, 1926, 1927, 1928, 1929, 1930, 1931, 1932, 1933, 1934, 1935, 1936, 1937, 1938, 1940, 1949, 1950, 1951, 1952, 1955, 1956, 1957, 1958, 1959, 1960, 1961, 1962, 1963, 1964, 1965, 1966, 1967, 1968, 1969, 1985, 1986, 1987, 1988, 1997, 1998, 1999, 2000, 2001, 2002, 2003, 2004, 2005, 2006, 2007, 2008, 2009, 2010, 2011, 2012, 2013, 2014, 2015, 2016, 2017, 2018, 2019, 2020, 2021, 2022, 2023, 2024, 2025, 2026, 2027, 2028, 2030, 2031, 2032, 2033, 2034, 2046, 2048, 2049, 2050, 2051, 2056, 2057, 2058, 2059, 2073, 2074, 2075, 2077, 2078, 2079, 2080, 2091, 2092, 2093, 2094, 2095, 2096, 2112, 2113, 2114, 2116, 2117, 2118, 2119, 2120, 2121, 2129, 2130, 2131, 2132, 2133, 2134, 2135, 2136, 2137, 2143, 2144, 2145, 2146, 2157, 2158, 2159, 2160, 2164, 2165, 2166, 2167, 2168, 2169, 2170, 2171, 2173, 2174, 2182, 2191, 2192, 2196, 2197, 2198, 2199, 2200, 2201, 2202, 2203, 2206, 2207, 2208, 2225, 2226, 2227, 2228, 2229, 2236, 2237, 2238, 2239, 2240, 2241, 2242, 2243, 2244, 2245, 2246, 2247, 2248, 2249, 2250, 2251, 2252, 2253, 2254, 2255, 2256, 2257, 2258, 2259, 2260, 2261, 2262, 2263, 2264, 2265, 2266, 2267, 2268, 2269, 2270, 2290, 2291, 2292, 2293, 2294, 2295, 2297, 2298, 2299, 2302, 2303, 2310, 2311, 2323, 2324, 2326, 2327, 2329, 2330, 2333, 2334, 2340, 2341, 2342, 2343, 2344, 2345, 2346, 2347, 2395, 2396, 2397, 2398, 2399, 2400, 2401, 2402, 2403, 2404, 2405, 2406, 2407, 2408, 2409, 2410, 2411, 2412, 2413, 2414, 2415, 2416, 2417, 2418, 2419, 2420, 2421, 2422, 2423, 2424, 2425, 2426, 2427, 2428, 2429, 2430, 2431, 2432, 2433, 2434, 2435, 2436, 2437, 2438, 2439, 2440, 2441, 2442, 2443, 2444, 2445, 2446, 2447, 2448, 2449, 2450, 2451, 2452, 2453, 2454, 2455, 2456, 2457, 2458, 2459, 2460, 2461, 2462, 2463, 2464, 2465, 2466, 2467, 2468, 2469, 2470, 2471, 2472, 2473, 2474, 2475, 2476, 2477, 2478, 2479, 2480, 2481, 2482, 2483, 2484, 2485, 2486, 2487, 2488, 2489, 2490, 2491, 2492, 2493, 2494, 2495, 2496, 2497, 2498, 2499, 2500, 2501, 2502, 2503, 2504, 2505, 2506, 2507, 2508, 2509, 2517, 2518, 2519, 2539, 2540, 2541, 2542, 2543, 2544, 2545, 2546, 2547, 2548, 2549, 2550, 2551, 2552, 2553, 2554, 2555, 2557, 2562, 2563, 2564, 2565, 2566, 2567, 2568, 2569, 2574, 2575, 2576, 2577, 2578, 2610, 2611, 2612, 2613, 2615, 2619, 2620, 2621, 2622, 2627, 2628, 2629, 2630, 2631, 2632, 2634, 2635, 2636, 2637, 2638, 2640, 2641, 2674, 2675, 2676, 2677, 2678, 2679, 2680, 2681, 2682, 2683, 2684, 2685, 2686, 2687, 2699, 2700, 2701, 2702, 2703, 2704, 2705, 2706, 2707, 2708, 2709, 2710, 2711, 2712, 2713, 2714, 2718, 2719, 2720, 2721, 2722, 2723, 2727, 2728, 2729, 2730, 2731, 2732, 2733, 2734, 2735, 2736, 2737, 2738, 2741, 2749, 2750, 2751, 2752, 2753, 2754, 2755, 2756, 2757, 2758, 2759, 2760, 2761, 2762, 2763, 2764, 2765, 2766, 2767, 2768, 2769, 2770, 2771, 2772, 2773, 2774, 2775, 2776, 2777, 2778, 2779, 2780, 2781, 2787, 2788, 2789, 2790, 2791, 2792, 2793, 2794, 2795, 2796, 2797, 2798, 2799, 2800, 2801, 2802, 2803, 2804, 2805, 2806, 2807, 2808, 2809, 2810, 2811, 2812, 2813, 2814, 2815, 2816, 2817, 2818, 2819, 2820, 2821, 2822, 2823, 2824, 2825, 2826, 2827, 2828, 2829, 2830, 2831, 2832, 2833, 2834, 2835, 2836, 2837, 2838, 2864, 2865, 2866, 2867, 2915, 2916, 2917, 2918, 2919, 2920, 2921, 2922, 2923, 2924, 2925, 2926, 2927, 2928, 2929, 2930, 2931, 2932, 2933, 2934, 2935, 2936, 2937, 2938, 2939, 2940, 2941, 2942, 2943, 2944, 2945, 2946, 2947, 2948, 2949, 2950, 2951, 2952, 2953, 2954, 2955, 2956, 2957, 2958, 2959, 2960, 2961, 2962, 2963, 2964, 2965, 2966, 2967, 2968, 2969, 2970, 2971, 2972, 2973, 2974, 2975, 2976, 2977, 2978, 2979, 2980, 2981, 2982, 2983, 2984, 2985, 2986, 2987, 2988, 2989, 2990, 2991, 2992, 2993, 2994, 2995, 2996, 2997, 2998, 2999, 3000, 3001, 3002, 3003, 3004, 3005, 3006, 3007, 3008, 3009, 3010, 3011, 3012, 3013, 3014, 3015, 3016, 3017, 3018, 3019, 3020, 3021, 3022, 3023, 3024, 3025, 3026, 3027, 3028, 3029, 3030, 3031, 3032, 3033, 3034, 3035, 3036, 3037, 3038, 3088, 3089, 3102, 3106, 3107, 3109, 3110, 3115, 3208, 3219, 3227, 3228, 3229, 3230, 3231, 3232, 3233, 3234, 3235, 3236, 3260, 3261, 3262, 3263, 3264, 3265, 3266, 3267, 3268, 3269, 3270, 3271, 3272, 3273, 3274, 3275, 3276, 3277, 3278, 3279, 3280, 3281, 3282, 3283, 3284, 3285, 3286, 3287, 3288, 3289, 3290, 3291, 3328, 3345, 3346, 3370, 3371, 3372, 3373, 3374, 3375, 3376, 3378, 3379, 3380, 3382, 3383, 3384, 3385, 3386, 3387, 3388, 3389, 3395, 3396, 3397, 3398, 3399, 3400, 3401, 3402, 3403, 3425, 3426, 3427, 3428, 3429, 3430, 3431, 3434, 3435, 3436, 3437, 3438, 3439, 3440, 3441, 3442, 3443, 3444, 3445, 3446, 3447, 3454, 3455, 3456, 3457, 3458, 3459, 3460, 3461, 3462, 3463, 3464, 3465, 3468, 3469, 3473, 3474, 3475, 3476, 3478, 3479, 3480, 3489, 3490, 3491, 3492, 3493, 3494, 3495, 3496, 3497, 3498, 3499, 3500, 3506, 3507, 3508, 3513, 3514, 3516, 3549, 3550, 3551, 3552, 3555, 3556, 3557, 3558, 3559, 3560, 3561, 3562, 3563, 3564, 3565, 3566, 3595, 3596, 3597, 3598, 3599, 3600, 3614, 3615, 3689, 3690, 3691, 3692, 3693, 3694, 3695, 3712, 3713, 3715, 3716, 3717, 3718, 3719, 3720, 3721, 3722, 3727, 3728, 3729, 3730, 3731, 3732, 3733, 3735, 3736, 3737, 3738, 3739, 3740, 3741, 3742, 3743, 3744, 3745, 3746, 3747, 3748, 3749, 3750, 3751, 3752, 3755, 3756, 3760, 3761, 3763, 3764, 3770, 3771, 3779, 3780, 3784, 3791, 3792, 3793, 3794, 3795, 3796, 3797, 3798, 3799, 3800, 3801, 3802, 3803, 3804, 3805, 3806, 3807, 3808, 3809, 3810, 3811, 3812, 3813, 3814, 3815, 3816, 3817, 3818, 3819, 3820, 3821, 3822, 3823, 3824, 3825, 3826, 3827, 3828, 3829, 3830, 3831, 3832, 3833, 3834, 3835, 3836, 3837, 3838, 3839, 3840, 3841, 3842, 3843, 3844, 3845, 3846, 3847, 3848, 3849, 3850, 3851, 3852, 3853, 3854, 3855, 3856, 3857, 3858, 3859, 3860, 3861, 3862, 3863, 3864, 3865, 3866, 3867, 3868, 3869, 3870, 3871, 3872, 3873, 3874, 3875, 3876, 3877, 3879, 3880, 3881, 3882, 3883, 3884, 3885, 3886, 3887, 3896, 3897, 3898, 3899, 3900, 3901, 3902, 3903, 3904, 3905, 3906, 3907, 3908, 3909, 3910, 3911, 3912, 3913, 3914, 3915, 3916, 3917, 3918, 3919, 3920, 3921, 3922, 3923, 3924, 3925, 3926, 3927, 3928, 3931, 3932, 3933, 3934, 3939, 3940, 3943, 3946, 3947, 3948, 3949, 3950, 3951, 3952, 3953, 3954, 3955, 3956, 3957, 3958, 3959, 3960, 3961, 3975, 3987, 3991, 3992, 3993, 3994, 4000])"
      ]
     },
     "execution_count": 37,
     "metadata": {},
     "output_type": "execute_result"
    }
   ],
   "source": [
    "ex.table.columns[6]"
   ]
  },
  {
   "cell_type": "code",
   "execution_count": 39,
   "metadata": {},
   "outputs": [
    {
     "data": {
      "text/plain": [
       "[2]"
      ]
     },
     "execution_count": 39,
     "metadata": {},
     "output_type": "execute_result"
    }
   ],
   "source": [
    "traincols.col.to_list()"
   ]
  },
  {
   "cell_type": "code",
   "execution_count": 36,
   "metadata": {},
   "outputs": [
    {
     "data": {
      "text/plain": [
       "array([[0.25      , 0.16666667, 0.        , 0.        , 0.        ,\n",
       "        0.        , 0.01903504, 1.        , 0.70482379]])"
      ]
     },
     "execution_count": 36,
     "metadata": {},
     "output_type": "execute_result"
    }
   ],
   "source": [
    "simmatrix[6][traincols.col.to_list()]"
   ]
  },
  {
   "cell_type": "code",
   "execution_count": 17,
   "metadata": {},
   "outputs": [
    {
     "data": {
      "text/plain": [
       "array([[0.33333333, 0.        , 0.        , 0.        , 0.        ,\n",
       "        0.        , 0.        , 0.        , 1.        ]])"
      ]
     },
     "execution_count": 17,
     "metadata": {},
     "output_type": "execute_result"
    }
   ],
   "source": [
    "simmatrix[0][traincols.col.to_list()]"
   ]
  },
  {
   "cell_type": "code",
   "execution_count": 18,
   "metadata": {},
   "outputs": [
    {
     "data": {
      "text/plain": [
       "array([[0.97865656, 0.02134344]])"
      ]
     },
     "execution_count": 18,
     "metadata": {},
     "output_type": "execute_result"
    }
   ],
   "source": [
    "dsl.get_model().predict_proba(simmatrix[1][traincols.col.to_list()])"
   ]
  },
  {
   "cell_type": "code",
   "execution_count": 19,
   "metadata": {},
   "outputs": [
    {
     "name": "stdout",
     "output_type": "stream",
     "text": [
      "\n",
      "00.\t[0] mos:MineralSite\n",
      "01.\t├── ─[2: rdfs:label]→ [3] deposit_name (column 1)\n",
      "02.\t├── ─[3: mos:country]→ [4] country (column 2)\n",
      "03.\t├── ─[0: mos:mineral_inventory]→ [1] mos:MineralInventory\n",
      "04.\t│   ├── ─[8: mos:category]→ [9] category (column 7)\n",
      "05.\t│   ├── ─[9: mos:commodity]→ [10] commodity (column 8)\n",
      "06.\t│   ├── ─[12: mos:cutoff_grade]→ [13] cutoff_grade (column 11)\n",
      "07.\t│   ├── ─[11: mos:grade]→ [12] grade_unit (column 10)\n",
      "08.\t│   ├── ─[13: mos:grade]→ [14] cutoff_grade_unit (column 12)\n",
      "09.\t│   ├── ─[6: mos:reserve_tonnage]→ [7] tonnage (column 5)\n",
      "10.\t│   ├── ─[10: mos:resource_grade]→ [11] grade (column 9)\n",
      "11.\t│   ├── ─[7: mos:resource_tonnage]→ [8] tonnage_unit (column 6)\n",
      "12.\t├── ─[1: mos:record_id]→ [2] deposit_no (column 0)\n",
      "13.\t├── ─[4: mos:record_id]→ [5] longdd (column 3)\n",
      "14.\t├── ─[5: mos:record_id]→ [6] latdd (column 4)\n",
      "15.\t├── ─[14: mos:record_id]→ [15] year (column 13)\n",
      "\n"
     ]
    }
   ],
   "source": [
    "sm.print()"
   ]
  },
  {
   "cell_type": "code",
   "execution_count": 20,
   "metadata": {},
   "outputs": [
    {
     "name": "stdout",
     "output_type": "stream",
     "text": [
      "\n",
      "00.\t[0] Mineral Site\n",
      "01.\t├── ─[2: label]→ [3] deposit_name (column 1)\n",
      "02.\t├── ─[3: country]→ [4] country (column 2)\n",
      "03.\t├── ─[5: latitude]→ [6] latdd (column 4)\n",
      "04.\t├── ─[4: longitude]→ [5] longdd (column 3)\n",
      "05.\t├── ─[0: mineral inventory]→ [1] Mineral Inventory\n",
      "06.\t│   ├── ─[8: category]→ [9] category (column 7)\n",
      "07.\t│   ├── ─[9: commodity]→ [10] commodity (column 8)\n",
      "08.\t│   ├── ─[12: cutoff grade]→ [13] cutoff_grade (column 11)\n",
      "09.\t│   ├── ─[13: cutoff grade unit]→ [14] cutoff_grade_unit (column 12)\n",
      "10.\t│   ├── ─[14: date]→ [15] year (column 13)\n",
      "11.\t│   ├── ─[10: grade]→ [11] grade (column 9)\n",
      "12.\t│   ├── ─[11: grade unit]→ [12] grade_unit (column 10)\n",
      "13.\t│   ├── ─[6: tonnage]→ [7] tonnage (column 5)\n",
      "14.\t│   ├── ─[7: tonnage unit]→ [8] tonnage_unit (column 6)\n",
      "15.\t├── ─[1: record id]→ [2] deposit_no (column 0)\n",
      "\n"
     ]
    }
   ],
   "source": [
    "test_ex.sms[0].print()"
   ]
  },
  {
   "cell_type": "code",
   "execution_count": 21,
   "metadata": {},
   "outputs": [],
   "source": [
    "def pred_type(\n",
    "    self,\n",
    "    target_col_index: int,\n",
    "    target_col_id: str,\n",
    "    top_n: int,\n",
    "    similarity_matrix,\n",
    "):\n",
    "    X = []\n",
    "    refcols = [\n",
    "        refcol for refcol in self.stype_db.train_columns if refcol.id != target_col_id\n",
    "    ]\n",
    "    for refcol in refcols:\n",
    "        iref = self.stype_db.col2idx[refcol.id]\n",
    "        X.append(similarity_matrix[target_col_index, iref])\n",
    "\n",
    "    result = self.get_model().predict_proba(X)[:, 1]\n",
    "    result = sorted(\n",
    "        zip(result, (rc.id for rc in refcols)),\n",
    "        key=lambda x: x[0],\n",
    "        reverse=True,\n",
    "    )\n",
    "\n",
    "    print(result)"
   ]
  },
  {
   "cell_type": "code",
   "execution_count": 22,
   "metadata": {},
   "outputs": [
    {
     "ename": "AttributeError",
     "evalue": "'DSLColumnGroup' object has no attribute 'id'",
     "output_type": "error",
     "traceback": [
      "\u001b[0;31m---------------------------------------------------------------------------\u001b[0m",
      "\u001b[0;31mAttributeError\u001b[0m                            Traceback (most recent call last)",
      "Cell \u001b[0;32mIn[22], line 1\u001b[0m\n\u001b[0;32m----> 1\u001b[0m \u001b[43mpred_type\u001b[49m\u001b[43m(\u001b[49m\u001b[43mdsl\u001b[49m\u001b[43m,\u001b[49m\u001b[43m \u001b[49m\u001b[38;5;241;43m1\u001b[39;49m\u001b[43m,\u001b[49m\u001b[43m \u001b[49m\u001b[43mex\u001b[49m\u001b[38;5;241;43m.\u001b[39;49m\u001b[43mtable\u001b[49m\u001b[38;5;241;43m.\u001b[39;49m\u001b[43mcolumns\u001b[49m\u001b[43m[\u001b[49m\u001b[38;5;241;43m1\u001b[39;49m\u001b[43m]\u001b[49m\u001b[38;5;241;43m.\u001b[39;49m\u001b[43mcol_name\u001b[49m\u001b[43m,\u001b[49m\u001b[43m \u001b[49m\u001b[38;5;241;43m20\u001b[39;49m\u001b[43m,\u001b[49m\u001b[43m \u001b[49m\u001b[43msimmatrix\u001b[49m\u001b[43m)\u001b[49m\n",
      "Cell \u001b[0;32mIn[21], line 9\u001b[0m, in \u001b[0;36mpred_type\u001b[0;34m(self, target_col_index, target_col_id, top_n, similarity_matrix)\u001b[0m\n\u001b[1;32m      1\u001b[0m \u001b[38;5;28;01mdef\u001b[39;00m \u001b[38;5;21mpred_type\u001b[39m(\n\u001b[1;32m      2\u001b[0m     \u001b[38;5;28mself\u001b[39m,\n\u001b[1;32m      3\u001b[0m     target_col_index: \u001b[38;5;28mint\u001b[39m,\n\u001b[0;32m   (...)\u001b[0m\n\u001b[1;32m      6\u001b[0m     similarity_matrix,\n\u001b[1;32m      7\u001b[0m ):\n\u001b[1;32m      8\u001b[0m     X \u001b[38;5;241m=\u001b[39m []\n\u001b[0;32m----> 9\u001b[0m     refcols \u001b[38;5;241m=\u001b[39m \u001b[43m[\u001b[49m\n\u001b[1;32m     10\u001b[0m \u001b[43m        \u001b[49m\u001b[43mrefcol\u001b[49m\u001b[43m \u001b[49m\u001b[38;5;28;43;01mfor\u001b[39;49;00m\u001b[43m \u001b[49m\u001b[43mrefcol\u001b[49m\u001b[43m \u001b[49m\u001b[38;5;129;43;01min\u001b[39;49;00m\u001b[43m \u001b[49m\u001b[38;5;28;43mself\u001b[39;49m\u001b[38;5;241;43m.\u001b[39;49m\u001b[43mstype_db\u001b[49m\u001b[38;5;241;43m.\u001b[39;49m\u001b[43mtrain_columns\u001b[49m\u001b[43m \u001b[49m\u001b[38;5;28;43;01mif\u001b[39;49;00m\u001b[43m \u001b[49m\u001b[43mrefcol\u001b[49m\u001b[38;5;241;43m.\u001b[39;49m\u001b[43mid\u001b[49m\u001b[43m \u001b[49m\u001b[38;5;241;43m!=\u001b[39;49m\u001b[43m \u001b[49m\u001b[43mtarget_col_id\u001b[49m\n\u001b[1;32m     11\u001b[0m \u001b[43m    \u001b[49m\u001b[43m]\u001b[49m\n\u001b[1;32m     12\u001b[0m     \u001b[38;5;28;01mfor\u001b[39;00m refcol \u001b[38;5;129;01min\u001b[39;00m refcols:\n\u001b[1;32m     13\u001b[0m         iref \u001b[38;5;241m=\u001b[39m \u001b[38;5;28mself\u001b[39m\u001b[38;5;241m.\u001b[39mstype_db\u001b[38;5;241m.\u001b[39mcol2idx[refcol\u001b[38;5;241m.\u001b[39mid]\n",
      "Cell \u001b[0;32mIn[21], line 10\u001b[0m, in \u001b[0;36m<listcomp>\u001b[0;34m(.0)\u001b[0m\n\u001b[1;32m      1\u001b[0m \u001b[38;5;28;01mdef\u001b[39;00m \u001b[38;5;21mpred_type\u001b[39m(\n\u001b[1;32m      2\u001b[0m     \u001b[38;5;28mself\u001b[39m,\n\u001b[1;32m      3\u001b[0m     target_col_index: \u001b[38;5;28mint\u001b[39m,\n\u001b[0;32m   (...)\u001b[0m\n\u001b[1;32m      6\u001b[0m     similarity_matrix,\n\u001b[1;32m      7\u001b[0m ):\n\u001b[1;32m      8\u001b[0m     X \u001b[38;5;241m=\u001b[39m []\n\u001b[1;32m      9\u001b[0m     refcols \u001b[38;5;241m=\u001b[39m [\n\u001b[0;32m---> 10\u001b[0m         refcol \u001b[38;5;28;01mfor\u001b[39;00m refcol \u001b[38;5;129;01min\u001b[39;00m \u001b[38;5;28mself\u001b[39m\u001b[38;5;241m.\u001b[39mstype_db\u001b[38;5;241m.\u001b[39mtrain_columns \u001b[38;5;28;01mif\u001b[39;00m \u001b[43mrefcol\u001b[49m\u001b[38;5;241;43m.\u001b[39;49m\u001b[43mid\u001b[49m \u001b[38;5;241m!=\u001b[39m target_col_id\n\u001b[1;32m     11\u001b[0m     ]\n\u001b[1;32m     12\u001b[0m     \u001b[38;5;28;01mfor\u001b[39;00m refcol \u001b[38;5;129;01min\u001b[39;00m refcols:\n\u001b[1;32m     13\u001b[0m         iref \u001b[38;5;241m=\u001b[39m \u001b[38;5;28mself\u001b[39m\u001b[38;5;241m.\u001b[39mstype_db\u001b[38;5;241m.\u001b[39mcol2idx[refcol\u001b[38;5;241m.\u001b[39mid]\n",
      "\u001b[0;31mAttributeError\u001b[0m: 'DSLColumnGroup' object has no attribute 'id'"
     ]
    }
   ],
   "source": [
    "pred_type(dsl, 1, ex.table.columns[1].col_name, 20, simmatrix)"
   ]
  },
  {
   "cell_type": "code",
   "execution_count": null,
   "metadata": {},
   "outputs": [],
   "source": [
    "ex.table.columns[1]"
   ]
  },
  {
   "cell_type": "code",
   "execution_count": null,
   "metadata": {},
   "outputs": [],
   "source": [
    "dsl.stype_db.train_columns[5]"
   ]
  },
  {
   "cell_type": "code",
   "execution_count": null,
   "metadata": {},
   "outputs": [],
   "source": [
    "dsl.stype_db.col2idx[\n",
    "    \"::Nevada_Lithium_Resources_and_Reserves_March_2024_update::--10:0:Type\"\n",
    "]"
   ]
  },
  {
   "cell_type": "code",
   "execution_count": null,
   "metadata": {},
   "outputs": [],
   "source": [
    "dsl.stype_db.col2idx[\n",
    "    \"::Nevada_Lithium_Resources_and_Reserves_March_2024_update::--2:0:Reserve Grade (ppm)\"\n",
    "]"
   ]
  },
  {
   "cell_type": "code",
   "execution_count": null,
   "metadata": {},
   "outputs": [],
   "source": [
    "train_exs[4].table.table.columns[5].values"
   ]
  },
  {
   "cell_type": "code",
   "execution_count": null,
   "metadata": {},
   "outputs": [],
   "source": [
    "[c.name for c in train_exs[4].table.table.columns]"
   ]
  }
 ],
 "metadata": {
  "kernelspec": {
   "display_name": ".venv",
   "language": "python",
   "name": "python3"
  },
  "language_info": {
   "codemirror_mode": {
    "name": "ipython",
    "version": 3
   },
   "file_extension": ".py",
   "mimetype": "text/x-python",
   "name": "python",
   "nbconvert_exporter": "python",
   "pygments_lexer": "ipython3",
   "version": "3.11.6"
  }
 },
 "nbformat": 4,
 "nbformat_minor": 2
}
